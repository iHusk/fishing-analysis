{
 "cells": [
  {
   "cell_type": "code",
   "execution_count": 1,
   "metadata": {},
   "outputs": [],
   "source": [
    "import pandas as pd\n",
    "import plotly.graph_objects as go\n",
    "import plotly.express as px\n",
    "from plotly.subplots import make_subplots\n",
    "\n",
    "import duckdb\n",
    "import numpy as np"
   ]
  },
  {
   "cell_type": "code",
   "execution_count": 2,
   "metadata": {},
   "outputs": [],
   "source": [
    "conn = duckdb.connect(database=':memory:')\n",
    "raw = pd.read_excel('fishing-trip.xlsx', usecols='A:L')\n"
   ]
  },
  {
   "cell_type": "code",
   "execution_count": 3,
   "metadata": {},
   "outputs": [
    {
     "data": {
      "text/html": [
       "<div>\n",
       "<style scoped>\n",
       "    .dataframe tbody tr th:only-of-type {\n",
       "        vertical-align: middle;\n",
       "    }\n",
       "\n",
       "    .dataframe tbody tr th {\n",
       "        vertical-align: top;\n",
       "    }\n",
       "\n",
       "    .dataframe thead th {\n",
       "        text-align: right;\n",
       "    }\n",
       "</style>\n",
       "<table border=\"1\" class=\"dataframe\">\n",
       "  <thead>\n",
       "    <tr style=\"text-align: right;\">\n",
       "      <th></th>\n",
       "      <th>id</th>\n",
       "      <th>year</th>\n",
       "      <th>fisherman</th>\n",
       "      <th>day</th>\n",
       "      <th>datetime</th>\n",
       "      <th>fish_species</th>\n",
       "      <th>kept</th>\n",
       "      <th>length</th>\n",
       "      <th>depth</th>\n",
       "      <th>bait</th>\n",
       "      <th>weight_calc</th>\n",
       "      <th>location</th>\n",
       "      <th>time</th>\n",
       "    </tr>\n",
       "  </thead>\n",
       "  <tbody>\n",
       "    <tr>\n",
       "      <th>0</th>\n",
       "      <td>1</td>\n",
       "      <td>2023</td>\n",
       "      <td>tyler</td>\n",
       "      <td>thursday</td>\n",
       "      <td>2023-06-15 12:45:00</td>\n",
       "      <td>walleye</td>\n",
       "      <td>True</td>\n",
       "      <td>14.0</td>\n",
       "      <td>-9.5</td>\n",
       "      <td>NaN</td>\n",
       "      <td>1.20</td>\n",
       "      <td>NaN</td>\n",
       "      <td>12:45:00</td>\n",
       "    </tr>\n",
       "    <tr>\n",
       "      <th>1</th>\n",
       "      <td>2</td>\n",
       "      <td>2023</td>\n",
       "      <td>brian</td>\n",
       "      <td>thursday</td>\n",
       "      <td>2023-06-15 12:50:00</td>\n",
       "      <td>walleye</td>\n",
       "      <td>True</td>\n",
       "      <td>17.0</td>\n",
       "      <td>-9.5</td>\n",
       "      <td>NaN</td>\n",
       "      <td>1.46</td>\n",
       "      <td>NaN</td>\n",
       "      <td>12:50:00</td>\n",
       "    </tr>\n",
       "    <tr>\n",
       "      <th>3</th>\n",
       "      <td>4</td>\n",
       "      <td>2023</td>\n",
       "      <td>brent</td>\n",
       "      <td>thursday</td>\n",
       "      <td>2023-06-15 13:10:00</td>\n",
       "      <td>walleye</td>\n",
       "      <td>True</td>\n",
       "      <td>15.0</td>\n",
       "      <td>-9.5</td>\n",
       "      <td>NaN</td>\n",
       "      <td>1.29</td>\n",
       "      <td>NaN</td>\n",
       "      <td>13:10:00</td>\n",
       "    </tr>\n",
       "    <tr>\n",
       "      <th>2</th>\n",
       "      <td>3</td>\n",
       "      <td>2023</td>\n",
       "      <td>tyler</td>\n",
       "      <td>thursday</td>\n",
       "      <td>2023-06-15 13:15:00</td>\n",
       "      <td>walleye</td>\n",
       "      <td>True</td>\n",
       "      <td>15.5</td>\n",
       "      <td>-9.5</td>\n",
       "      <td>NaN</td>\n",
       "      <td>1.33</td>\n",
       "      <td>NaN</td>\n",
       "      <td>13:15:00</td>\n",
       "    </tr>\n",
       "    <tr>\n",
       "      <th>4</th>\n",
       "      <td>5</td>\n",
       "      <td>2023</td>\n",
       "      <td>brent</td>\n",
       "      <td>thursday</td>\n",
       "      <td>2023-06-15 14:00:00</td>\n",
       "      <td>walleye</td>\n",
       "      <td>True</td>\n",
       "      <td>13.0</td>\n",
       "      <td>-9.0</td>\n",
       "      <td>NaN</td>\n",
       "      <td>1.12</td>\n",
       "      <td>NaN</td>\n",
       "      <td>14:00:00</td>\n",
       "    </tr>\n",
       "  </tbody>\n",
       "</table>\n",
       "</div>"
      ],
      "text/plain": [
       "   id  year fisherman       day            datetime fish_species  kept  \\\n",
       "0   1  2023     tyler  thursday 2023-06-15 12:45:00      walleye  True   \n",
       "1   2  2023     brian  thursday 2023-06-15 12:50:00      walleye  True   \n",
       "3   4  2023     brent  thursday 2023-06-15 13:10:00      walleye  True   \n",
       "2   3  2023     tyler  thursday 2023-06-15 13:15:00      walleye  True   \n",
       "4   5  2023     brent  thursday 2023-06-15 14:00:00      walleye  True   \n",
       "\n",
       "   length  depth bait  weight_calc location      time  \n",
       "0    14.0   -9.5  NaN         1.20      NaN  12:45:00  \n",
       "1    17.0   -9.5  NaN         1.46      NaN  12:50:00  \n",
       "3    15.0   -9.5  NaN         1.29      NaN  13:10:00  \n",
       "2    15.5   -9.5  NaN         1.33      NaN  13:15:00  \n",
       "4    13.0   -9.0  NaN         1.12      NaN  14:00:00  "
      ]
     },
     "execution_count": 3,
     "metadata": {},
     "output_type": "execute_result"
    }
   ],
   "source": [
    "raw['depth'] = raw['depth'] * -1\n",
    "raw['time'] = raw['datetime'].dt.time\n",
    "\n",
    "raw.sort_values(by='datetime', inplace=True)\n",
    "\n",
    "raw.head()"
   ]
  },
  {
   "cell_type": "code",
   "execution_count": 4,
   "metadata": {},
   "outputs": [
    {
     "data": {
      "text/html": [
       "<div>\n",
       "<style scoped>\n",
       "    .dataframe tbody tr th:only-of-type {\n",
       "        vertical-align: middle;\n",
       "    }\n",
       "\n",
       "    .dataframe tbody tr th {\n",
       "        vertical-align: top;\n",
       "    }\n",
       "\n",
       "    .dataframe thead th {\n",
       "        text-align: right;\n",
       "    }\n",
       "</style>\n",
       "<table border=\"1\" class=\"dataframe\">\n",
       "  <thead>\n",
       "    <tr style=\"text-align: right;\">\n",
       "      <th></th>\n",
       "      <th>id</th>\n",
       "      <th>year</th>\n",
       "      <th>fisherman</th>\n",
       "      <th>day</th>\n",
       "      <th>datetime</th>\n",
       "      <th>fish_species</th>\n",
       "      <th>kept</th>\n",
       "      <th>length</th>\n",
       "      <th>depth</th>\n",
       "      <th>bait</th>\n",
       "      <th>weight_calc</th>\n",
       "      <th>location</th>\n",
       "      <th>time</th>\n",
       "      <th>time_of_day</th>\n",
       "      <th>minutes_since_8AM</th>\n",
       "      <th>scaled_length</th>\n",
       "    </tr>\n",
       "  </thead>\n",
       "  <tbody>\n",
       "    <tr>\n",
       "      <th>16</th>\n",
       "      <td>17</td>\n",
       "      <td>2023</td>\n",
       "      <td>tyler</td>\n",
       "      <td>saturday</td>\n",
       "      <td>2023-06-17 08:30:00</td>\n",
       "      <td>walleye</td>\n",
       "      <td>True</td>\n",
       "      <td>17.00</td>\n",
       "      <td>-10.0</td>\n",
       "      <td>leech</td>\n",
       "      <td>1.35</td>\n",
       "      <td>pump house</td>\n",
       "      <td>08:30:00</td>\n",
       "      <td>08:30:00</td>\n",
       "      <td>30</td>\n",
       "      <td>18.421053</td>\n",
       "    </tr>\n",
       "    <tr>\n",
       "      <th>17</th>\n",
       "      <td>18</td>\n",
       "      <td>2023</td>\n",
       "      <td>brent</td>\n",
       "      <td>saturday</td>\n",
       "      <td>2023-06-17 08:43:00</td>\n",
       "      <td>walleye</td>\n",
       "      <td>True</td>\n",
       "      <td>17.75</td>\n",
       "      <td>-9.0</td>\n",
       "      <td>crawler</td>\n",
       "      <td>1.41</td>\n",
       "      <td>pump house</td>\n",
       "      <td>08:43:00</td>\n",
       "      <td>08:43:00</td>\n",
       "      <td>43</td>\n",
       "      <td>20.000000</td>\n",
       "    </tr>\n",
       "    <tr>\n",
       "      <th>32</th>\n",
       "      <td>33</td>\n",
       "      <td>2024</td>\n",
       "      <td>brent</td>\n",
       "      <td>friday</td>\n",
       "      <td>2024-06-14 08:45:00</td>\n",
       "      <td>walleye</td>\n",
       "      <td>True</td>\n",
       "      <td>16.00</td>\n",
       "      <td>-11.0</td>\n",
       "      <td>crawler</td>\n",
       "      <td>1.56</td>\n",
       "      <td>1 up tall prarie chicken</td>\n",
       "      <td>08:45:00</td>\n",
       "      <td>08:45:00</td>\n",
       "      <td>45</td>\n",
       "      <td>16.315789</td>\n",
       "    </tr>\n",
       "    <tr>\n",
       "      <th>33</th>\n",
       "      <td>34</td>\n",
       "      <td>2024</td>\n",
       "      <td>brent</td>\n",
       "      <td>friday</td>\n",
       "      <td>2024-06-14 08:50:00</td>\n",
       "      <td>walleye</td>\n",
       "      <td>True</td>\n",
       "      <td>17.50</td>\n",
       "      <td>-9.5</td>\n",
       "      <td>crawler</td>\n",
       "      <td>1.71</td>\n",
       "      <td>1 up tall prarie chicken</td>\n",
       "      <td>08:50:00</td>\n",
       "      <td>08:50:00</td>\n",
       "      <td>50</td>\n",
       "      <td>19.473684</td>\n",
       "    </tr>\n",
       "    <tr>\n",
       "      <th>34</th>\n",
       "      <td>35</td>\n",
       "      <td>2024</td>\n",
       "      <td>brent</td>\n",
       "      <td>friday</td>\n",
       "      <td>2024-06-14 09:30:00</td>\n",
       "      <td>walleye</td>\n",
       "      <td>True</td>\n",
       "      <td>17.00</td>\n",
       "      <td>-9.5</td>\n",
       "      <td>crawler</td>\n",
       "      <td>1.66</td>\n",
       "      <td>1 up tall prarie chicken</td>\n",
       "      <td>09:30:00</td>\n",
       "      <td>09:30:00</td>\n",
       "      <td>90</td>\n",
       "      <td>18.421053</td>\n",
       "    </tr>\n",
       "  </tbody>\n",
       "</table>\n",
       "</div>"
      ],
      "text/plain": [
       "    id  year fisherman       day            datetime fish_species  kept  \\\n",
       "16  17  2023     tyler  saturday 2023-06-17 08:30:00      walleye  True   \n",
       "17  18  2023     brent  saturday 2023-06-17 08:43:00      walleye  True   \n",
       "32  33  2024     brent    friday 2024-06-14 08:45:00      walleye  True   \n",
       "33  34  2024     brent    friday 2024-06-14 08:50:00      walleye  True   \n",
       "34  35  2024     brent    friday 2024-06-14 09:30:00      walleye  True   \n",
       "\n",
       "    length  depth     bait  weight_calc                  location      time  \\\n",
       "16   17.00  -10.0    leech         1.35                pump house  08:30:00   \n",
       "17   17.75   -9.0  crawler         1.41                pump house  08:43:00   \n",
       "32   16.00  -11.0  crawler         1.56  1 up tall prarie chicken  08:45:00   \n",
       "33   17.50   -9.5  crawler         1.71  1 up tall prarie chicken  08:50:00   \n",
       "34   17.00   -9.5  crawler         1.66  1 up tall prarie chicken  09:30:00   \n",
       "\n",
       "   time_of_day  minutes_since_8AM  scaled_length  \n",
       "16    08:30:00                 30      18.421053  \n",
       "17    08:43:00                 43      20.000000  \n",
       "32    08:45:00                 45      16.315789  \n",
       "33    08:50:00                 50      19.473684  \n",
       "34    09:30:00                 90      18.421053  "
      ]
     },
     "execution_count": 4,
     "metadata": {},
     "output_type": "execute_result"
    }
   ],
   "source": [
    "data = raw[(raw['fish_species'] == 'walleye')].reset_index(drop=True)\n",
    "\n",
    "# Extracting just the time for plotting purposes and filtering\n",
    "data['time_of_day'] = data['datetime'].dt.time\n",
    "data.sort_values('time_of_day', inplace=True)\n",
    "\n",
    "# Convert time_of_day to minutes since 8 AM\n",
    "data['minutes_since_8AM'] = data['datetime'].apply(lambda dt: (dt.hour - 8) * 60 + dt.minute)\n",
    "\n",
    "min_size, max_size = 10, 30\n",
    "length_min, length_max = data['length'].min(), data['length'].max()\n",
    "data['scaled_length'] = data['length'].apply(\n",
    "    lambda x: ((x - length_min) / (length_max - length_min) * (max_size - min_size) + min_size)\n",
    ")\n",
    "\n",
    "data.head()"
   ]
  },
  {
   "cell_type": "code",
   "execution_count": 5,
   "metadata": {},
   "outputs": [
    {
     "data": {
      "application/vnd.plotly.v1+json": {
       "config": {
        "plotlyServerURL": "https://plot.ly"
       },
       "data": [
        {
         "alignmentgroup": "True",
         "box": {
          "visible": true
         },
         "hovertemplate": "depth=%{y}<extra></extra>",
         "legendgroup": "",
         "marker": {
          "color": "#636efa"
         },
         "name": "",
         "offsetgroup": "",
         "orientation": "v",
         "points": "all",
         "scalegroup": "True",
         "showlegend": false,
         "type": "violin",
         "x0": " ",
         "xaxis": "x",
         "y": [
          -10,
          -9,
          -11,
          -9.5,
          -9.5,
          -9,
          -11,
          -11,
          -13,
          -8,
          -6.5,
          -10,
          -11,
          -9,
          -12.5,
          -9,
          -11,
          -9.5,
          -13.5,
          -10,
          -10.5,
          -8.5,
          -12,
          -9.5,
          -12,
          -9.5,
          -12,
          -12,
          -11,
          -9.5,
          -9.5,
          -12,
          -10.5,
          -10.5,
          -11.5,
          -11,
          -10,
          -12.5,
          -16,
          -16,
          -9,
          -9,
          -20,
          -14,
          -11,
          -8,
          -7,
          -9,
          -7,
          -9,
          -19,
          -8.5,
          -11,
          -7,
          -12,
          -11,
          -12,
          -7,
          -7,
          -11,
          -10,
          -12
         ],
         "y0": " ",
         "yaxis": "y"
        }
       ],
       "layout": {
        "annotations": [
         {
          "showarrow": false,
          "text": "Q3: -12.00'",
          "x": 1.05,
          "xref": "paper",
          "y": -12,
          "yref": "y"
         },
         {
          "showarrow": false,
          "text": "Median: -10.50'",
          "x": 1.05,
          "xref": "paper",
          "y": -10.5,
          "yref": "y"
         },
         {
          "showarrow": false,
          "text": "Q1: -9.00'",
          "x": 1.05,
          "xref": "paper",
          "y": -9,
          "yref": "y"
         },
         {
          "showarrow": false,
          "text": "Max: -20.00'",
          "x": 1.05,
          "xref": "paper",
          "y": -20,
          "yref": "y"
         },
         {
          "showarrow": false,
          "text": "Min: -6.50'",
          "x": 1.05,
          "xref": "paper",
          "y": -6.5,
          "yref": "y"
         }
        ],
        "legend": {
         "tracegroupgap": 0
        },
        "template": {
         "data": {
          "bar": [
           {
            "error_x": {
             "color": "#2a3f5f"
            },
            "error_y": {
             "color": "#2a3f5f"
            },
            "marker": {
             "line": {
              "color": "#E5ECF6",
              "width": 0.5
             },
             "pattern": {
              "fillmode": "overlay",
              "size": 10,
              "solidity": 0.2
             }
            },
            "type": "bar"
           }
          ],
          "barpolar": [
           {
            "marker": {
             "line": {
              "color": "#E5ECF6",
              "width": 0.5
             },
             "pattern": {
              "fillmode": "overlay",
              "size": 10,
              "solidity": 0.2
             }
            },
            "type": "barpolar"
           }
          ],
          "carpet": [
           {
            "aaxis": {
             "endlinecolor": "#2a3f5f",
             "gridcolor": "white",
             "linecolor": "white",
             "minorgridcolor": "white",
             "startlinecolor": "#2a3f5f"
            },
            "baxis": {
             "endlinecolor": "#2a3f5f",
             "gridcolor": "white",
             "linecolor": "white",
             "minorgridcolor": "white",
             "startlinecolor": "#2a3f5f"
            },
            "type": "carpet"
           }
          ],
          "choropleth": [
           {
            "colorbar": {
             "outlinewidth": 0,
             "ticks": ""
            },
            "type": "choropleth"
           }
          ],
          "contour": [
           {
            "colorbar": {
             "outlinewidth": 0,
             "ticks": ""
            },
            "colorscale": [
             [
              0,
              "#0d0887"
             ],
             [
              0.1111111111111111,
              "#46039f"
             ],
             [
              0.2222222222222222,
              "#7201a8"
             ],
             [
              0.3333333333333333,
              "#9c179e"
             ],
             [
              0.4444444444444444,
              "#bd3786"
             ],
             [
              0.5555555555555556,
              "#d8576b"
             ],
             [
              0.6666666666666666,
              "#ed7953"
             ],
             [
              0.7777777777777778,
              "#fb9f3a"
             ],
             [
              0.8888888888888888,
              "#fdca26"
             ],
             [
              1,
              "#f0f921"
             ]
            ],
            "type": "contour"
           }
          ],
          "contourcarpet": [
           {
            "colorbar": {
             "outlinewidth": 0,
             "ticks": ""
            },
            "type": "contourcarpet"
           }
          ],
          "heatmap": [
           {
            "colorbar": {
             "outlinewidth": 0,
             "ticks": ""
            },
            "colorscale": [
             [
              0,
              "#0d0887"
             ],
             [
              0.1111111111111111,
              "#46039f"
             ],
             [
              0.2222222222222222,
              "#7201a8"
             ],
             [
              0.3333333333333333,
              "#9c179e"
             ],
             [
              0.4444444444444444,
              "#bd3786"
             ],
             [
              0.5555555555555556,
              "#d8576b"
             ],
             [
              0.6666666666666666,
              "#ed7953"
             ],
             [
              0.7777777777777778,
              "#fb9f3a"
             ],
             [
              0.8888888888888888,
              "#fdca26"
             ],
             [
              1,
              "#f0f921"
             ]
            ],
            "type": "heatmap"
           }
          ],
          "heatmapgl": [
           {
            "colorbar": {
             "outlinewidth": 0,
             "ticks": ""
            },
            "colorscale": [
             [
              0,
              "#0d0887"
             ],
             [
              0.1111111111111111,
              "#46039f"
             ],
             [
              0.2222222222222222,
              "#7201a8"
             ],
             [
              0.3333333333333333,
              "#9c179e"
             ],
             [
              0.4444444444444444,
              "#bd3786"
             ],
             [
              0.5555555555555556,
              "#d8576b"
             ],
             [
              0.6666666666666666,
              "#ed7953"
             ],
             [
              0.7777777777777778,
              "#fb9f3a"
             ],
             [
              0.8888888888888888,
              "#fdca26"
             ],
             [
              1,
              "#f0f921"
             ]
            ],
            "type": "heatmapgl"
           }
          ],
          "histogram": [
           {
            "marker": {
             "pattern": {
              "fillmode": "overlay",
              "size": 10,
              "solidity": 0.2
             }
            },
            "type": "histogram"
           }
          ],
          "histogram2d": [
           {
            "colorbar": {
             "outlinewidth": 0,
             "ticks": ""
            },
            "colorscale": [
             [
              0,
              "#0d0887"
             ],
             [
              0.1111111111111111,
              "#46039f"
             ],
             [
              0.2222222222222222,
              "#7201a8"
             ],
             [
              0.3333333333333333,
              "#9c179e"
             ],
             [
              0.4444444444444444,
              "#bd3786"
             ],
             [
              0.5555555555555556,
              "#d8576b"
             ],
             [
              0.6666666666666666,
              "#ed7953"
             ],
             [
              0.7777777777777778,
              "#fb9f3a"
             ],
             [
              0.8888888888888888,
              "#fdca26"
             ],
             [
              1,
              "#f0f921"
             ]
            ],
            "type": "histogram2d"
           }
          ],
          "histogram2dcontour": [
           {
            "colorbar": {
             "outlinewidth": 0,
             "ticks": ""
            },
            "colorscale": [
             [
              0,
              "#0d0887"
             ],
             [
              0.1111111111111111,
              "#46039f"
             ],
             [
              0.2222222222222222,
              "#7201a8"
             ],
             [
              0.3333333333333333,
              "#9c179e"
             ],
             [
              0.4444444444444444,
              "#bd3786"
             ],
             [
              0.5555555555555556,
              "#d8576b"
             ],
             [
              0.6666666666666666,
              "#ed7953"
             ],
             [
              0.7777777777777778,
              "#fb9f3a"
             ],
             [
              0.8888888888888888,
              "#fdca26"
             ],
             [
              1,
              "#f0f921"
             ]
            ],
            "type": "histogram2dcontour"
           }
          ],
          "mesh3d": [
           {
            "colorbar": {
             "outlinewidth": 0,
             "ticks": ""
            },
            "type": "mesh3d"
           }
          ],
          "parcoords": [
           {
            "line": {
             "colorbar": {
              "outlinewidth": 0,
              "ticks": ""
             }
            },
            "type": "parcoords"
           }
          ],
          "pie": [
           {
            "automargin": true,
            "type": "pie"
           }
          ],
          "scatter": [
           {
            "fillpattern": {
             "fillmode": "overlay",
             "size": 10,
             "solidity": 0.2
            },
            "type": "scatter"
           }
          ],
          "scatter3d": [
           {
            "line": {
             "colorbar": {
              "outlinewidth": 0,
              "ticks": ""
             }
            },
            "marker": {
             "colorbar": {
              "outlinewidth": 0,
              "ticks": ""
             }
            },
            "type": "scatter3d"
           }
          ],
          "scattercarpet": [
           {
            "marker": {
             "colorbar": {
              "outlinewidth": 0,
              "ticks": ""
             }
            },
            "type": "scattercarpet"
           }
          ],
          "scattergeo": [
           {
            "marker": {
             "colorbar": {
              "outlinewidth": 0,
              "ticks": ""
             }
            },
            "type": "scattergeo"
           }
          ],
          "scattergl": [
           {
            "marker": {
             "colorbar": {
              "outlinewidth": 0,
              "ticks": ""
             }
            },
            "type": "scattergl"
           }
          ],
          "scattermapbox": [
           {
            "marker": {
             "colorbar": {
              "outlinewidth": 0,
              "ticks": ""
             }
            },
            "type": "scattermapbox"
           }
          ],
          "scatterpolar": [
           {
            "marker": {
             "colorbar": {
              "outlinewidth": 0,
              "ticks": ""
             }
            },
            "type": "scatterpolar"
           }
          ],
          "scatterpolargl": [
           {
            "marker": {
             "colorbar": {
              "outlinewidth": 0,
              "ticks": ""
             }
            },
            "type": "scatterpolargl"
           }
          ],
          "scatterternary": [
           {
            "marker": {
             "colorbar": {
              "outlinewidth": 0,
              "ticks": ""
             }
            },
            "type": "scatterternary"
           }
          ],
          "surface": [
           {
            "colorbar": {
             "outlinewidth": 0,
             "ticks": ""
            },
            "colorscale": [
             [
              0,
              "#0d0887"
             ],
             [
              0.1111111111111111,
              "#46039f"
             ],
             [
              0.2222222222222222,
              "#7201a8"
             ],
             [
              0.3333333333333333,
              "#9c179e"
             ],
             [
              0.4444444444444444,
              "#bd3786"
             ],
             [
              0.5555555555555556,
              "#d8576b"
             ],
             [
              0.6666666666666666,
              "#ed7953"
             ],
             [
              0.7777777777777778,
              "#fb9f3a"
             ],
             [
              0.8888888888888888,
              "#fdca26"
             ],
             [
              1,
              "#f0f921"
             ]
            ],
            "type": "surface"
           }
          ],
          "table": [
           {
            "cells": {
             "fill": {
              "color": "#EBF0F8"
             },
             "line": {
              "color": "white"
             }
            },
            "header": {
             "fill": {
              "color": "#C8D4E3"
             },
             "line": {
              "color": "white"
             }
            },
            "type": "table"
           }
          ]
         },
         "layout": {
          "annotationdefaults": {
           "arrowcolor": "#2a3f5f",
           "arrowhead": 0,
           "arrowwidth": 1
          },
          "autotypenumbers": "strict",
          "coloraxis": {
           "colorbar": {
            "outlinewidth": 0,
            "ticks": ""
           }
          },
          "colorscale": {
           "diverging": [
            [
             0,
             "#8e0152"
            ],
            [
             0.1,
             "#c51b7d"
            ],
            [
             0.2,
             "#de77ae"
            ],
            [
             0.3,
             "#f1b6da"
            ],
            [
             0.4,
             "#fde0ef"
            ],
            [
             0.5,
             "#f7f7f7"
            ],
            [
             0.6,
             "#e6f5d0"
            ],
            [
             0.7,
             "#b8e186"
            ],
            [
             0.8,
             "#7fbc41"
            ],
            [
             0.9,
             "#4d9221"
            ],
            [
             1,
             "#276419"
            ]
           ],
           "sequential": [
            [
             0,
             "#0d0887"
            ],
            [
             0.1111111111111111,
             "#46039f"
            ],
            [
             0.2222222222222222,
             "#7201a8"
            ],
            [
             0.3333333333333333,
             "#9c179e"
            ],
            [
             0.4444444444444444,
             "#bd3786"
            ],
            [
             0.5555555555555556,
             "#d8576b"
            ],
            [
             0.6666666666666666,
             "#ed7953"
            ],
            [
             0.7777777777777778,
             "#fb9f3a"
            ],
            [
             0.8888888888888888,
             "#fdca26"
            ],
            [
             1,
             "#f0f921"
            ]
           ],
           "sequentialminus": [
            [
             0,
             "#0d0887"
            ],
            [
             0.1111111111111111,
             "#46039f"
            ],
            [
             0.2222222222222222,
             "#7201a8"
            ],
            [
             0.3333333333333333,
             "#9c179e"
            ],
            [
             0.4444444444444444,
             "#bd3786"
            ],
            [
             0.5555555555555556,
             "#d8576b"
            ],
            [
             0.6666666666666666,
             "#ed7953"
            ],
            [
             0.7777777777777778,
             "#fb9f3a"
            ],
            [
             0.8888888888888888,
             "#fdca26"
            ],
            [
             1,
             "#f0f921"
            ]
           ]
          },
          "colorway": [
           "#636efa",
           "#EF553B",
           "#00cc96",
           "#ab63fa",
           "#FFA15A",
           "#19d3f3",
           "#FF6692",
           "#B6E880",
           "#FF97FF",
           "#FECB52"
          ],
          "font": {
           "color": "#2a3f5f"
          },
          "geo": {
           "bgcolor": "white",
           "lakecolor": "white",
           "landcolor": "#E5ECF6",
           "showlakes": true,
           "showland": true,
           "subunitcolor": "white"
          },
          "hoverlabel": {
           "align": "left"
          },
          "hovermode": "closest",
          "mapbox": {
           "style": "light"
          },
          "paper_bgcolor": "white",
          "plot_bgcolor": "#E5ECF6",
          "polar": {
           "angularaxis": {
            "gridcolor": "white",
            "linecolor": "white",
            "ticks": ""
           },
           "bgcolor": "#E5ECF6",
           "radialaxis": {
            "gridcolor": "white",
            "linecolor": "white",
            "ticks": ""
           }
          },
          "scene": {
           "xaxis": {
            "backgroundcolor": "#E5ECF6",
            "gridcolor": "white",
            "gridwidth": 2,
            "linecolor": "white",
            "showbackground": true,
            "ticks": "",
            "zerolinecolor": "white"
           },
           "yaxis": {
            "backgroundcolor": "#E5ECF6",
            "gridcolor": "white",
            "gridwidth": 2,
            "linecolor": "white",
            "showbackground": true,
            "ticks": "",
            "zerolinecolor": "white"
           },
           "zaxis": {
            "backgroundcolor": "#E5ECF6",
            "gridcolor": "white",
            "gridwidth": 2,
            "linecolor": "white",
            "showbackground": true,
            "ticks": "",
            "zerolinecolor": "white"
           }
          },
          "shapedefaults": {
           "line": {
            "color": "#2a3f5f"
           }
          },
          "ternary": {
           "aaxis": {
            "gridcolor": "white",
            "linecolor": "white",
            "ticks": ""
           },
           "baxis": {
            "gridcolor": "white",
            "linecolor": "white",
            "ticks": ""
           },
           "bgcolor": "#E5ECF6",
           "caxis": {
            "gridcolor": "white",
            "linecolor": "white",
            "ticks": ""
           }
          },
          "title": {
           "x": 0.05
          },
          "xaxis": {
           "automargin": true,
           "gridcolor": "white",
           "linecolor": "white",
           "ticks": "",
           "title": {
            "standoff": 15
           },
           "zerolinecolor": "white",
           "zerolinewidth": 2
          },
          "yaxis": {
           "automargin": true,
           "gridcolor": "white",
           "linecolor": "white",
           "ticks": "",
           "title": {
            "standoff": 15
           },
           "zerolinecolor": "white",
           "zerolinewidth": 2
          }
         }
        },
        "title": {
         "text": "Depth Analysis"
        },
        "violinmode": "group",
        "width": 400,
        "xaxis": {
         "anchor": "y",
         "domain": [
          0,
          1
         ]
        },
        "yaxis": {
         "anchor": "x",
         "domain": [
          0,
          1
         ],
         "tickformat": ".2f'",
         "title": {
          "text": "Depth in Feet"
         }
        }
       }
      }
     },
     "metadata": {},
     "output_type": "display_data"
    }
   ],
   "source": [
    "fig = go.Figure()\n",
    "\n",
    "# Plot for depth analysis with violin plot\n",
    "# fig.add_trace(\n",
    "#     go.Violin(y=data['depth'], x=data['length'], name='Fish by Depth', \n",
    "#               points='all', orientation='h')\n",
    "# )\n",
    "\n",
    "fig = px.violin(data, y=\"depth\", box=True,\n",
    "                points='all',  # This plots all points\n",
    "                width=400,\n",
    "                title='Depth Analysis'\n",
    "               )\n",
    "\n",
    "# Adding a suffix to the y-axis tick labels\n",
    "fig.update_layout(\n",
    "    yaxis_tickformat=\".2f'\",  # .2f formats the labels to two decimal places with a feet symbol\n",
    "    yaxis_title=\"Depth in Feet\"\n",
    ")\n",
    "\n",
    "# Calculate quartiles and median\n",
    "quartiles = np.percentile(data['depth'], [25, 50, 75])\n",
    "min_val, max_val = data['depth'].min(), data['depth'].max()\n",
    "\n",
    "# Adding annotations for the quartiles and median\n",
    "fig.add_annotation(x=1.05, y=quartiles[0], xref=\"paper\", yref=\"y\",\n",
    "                   text=\"Q3: {:.2f}'\".format(quartiles[0]), showarrow=False)\n",
    "fig.add_annotation(x=1.05, y=quartiles[1], xref=\"paper\", yref=\"y\",\n",
    "                   text=\"Median: {:.2f}'\".format(quartiles[1]), showarrow=False)\n",
    "fig.add_annotation(x=1.05, y=quartiles[2], xref=\"paper\", yref=\"y\",\n",
    "                   text=\"Q1: {:.2f}'\".format(quartiles[2]), showarrow=False)\n",
    "fig.add_annotation(x=1.05, y=min_val, xref=\"paper\", yref=\"y\",\n",
    "                   text=\"Max: {:.2f}'\".format(min_val), showarrow=False)\n",
    "fig.add_annotation(x=1.05, y=max_val, xref=\"paper\", yref=\"y\",\n",
    "                   text=\"Min: {:.2f}'\".format(max_val), showarrow=False)\n",
    "\n",
    "# Update layout to make space for annotations\n",
    "fig.update_layout()  # Increase right margin to fit annotations\n",
    "\n",
    "\n",
    "fig.show()"
   ]
  },
  {
   "cell_type": "code",
   "execution_count": 6,
   "metadata": {},
   "outputs": [
    {
     "data": {
      "application/vnd.plotly.v1+json": {
       "config": {
        "plotlyServerURL": "https://plot.ly"
       },
       "data": [
        {
         "alignmentgroup": "True",
         "hovertemplate": "Hour of the Day=%{x}<br>Number of Fish Caught=%{y}<br>text=%{text}<br>average_length=%{marker.color}<extra></extra>",
         "legendgroup": "",
         "marker": {
          "color": [
           17.0625,
           17.25,
           16.916666666666668,
           16.875,
           15.916666666666666,
           15.403846153846153,
           16.2,
           16.208333333333332,
           15,
           15
          ],
          "coloraxis": "coloraxis",
          "pattern": {
           "shape": ""
          }
         },
         "name": "",
         "offsetgroup": "",
         "orientation": "v",
         "showlegend": false,
         "text": [
          "4 Caught<br>Avg. Length: 17.06\"",
          "2 Caught<br>Avg. Length: 17.25\"",
          "3 Caught<br>Avg. Length: 16.92\"",
          "6 Caught<br>Avg. Length: 16.88\"",
          "12 Caught<br>Avg. Length: 15.92\"",
          "13 Caught<br>Avg. Length: 15.40\"",
          "10 Caught<br>Avg. Length: 16.20\"",
          "6 Caught<br>Avg. Length: 16.21\"",
          "3 Caught<br>Avg. Length: 15.00\"",
          "3 Caught<br>Avg. Length: 15.00\""
         ],
         "textposition": "outside",
         "texttemplate": "%{text}",
         "type": "bar",
         "x": [
          "8AM",
          "9AM",
          "10AM",
          "11AM",
          "12PM",
          "1PM",
          "2PM",
          "3PM",
          "4PM",
          "5PM"
         ],
         "xaxis": "x",
         "y": [
          4,
          2,
          3,
          6,
          12,
          13,
          10,
          6,
          3,
          3
         ],
         "yaxis": "y"
        }
       ],
       "layout": {
        "barmode": "relative",
        "coloraxis": {
         "colorbar": {
          "title": {
           "text": "Average Length (inches)"
          }
         },
         "colorscale": [
          [
           0,
           "rgb(173, 216, 230)"
          ],
          [
           1,
           "rgb(0, 0, 139)"
          ]
         ]
        },
        "legend": {
         "tracegroupgap": 0
        },
        "template": {
         "data": {
          "bar": [
           {
            "error_x": {
             "color": "#2a3f5f"
            },
            "error_y": {
             "color": "#2a3f5f"
            },
            "marker": {
             "line": {
              "color": "#E5ECF6",
              "width": 0.5
             },
             "pattern": {
              "fillmode": "overlay",
              "size": 10,
              "solidity": 0.2
             }
            },
            "type": "bar"
           }
          ],
          "barpolar": [
           {
            "marker": {
             "line": {
              "color": "#E5ECF6",
              "width": 0.5
             },
             "pattern": {
              "fillmode": "overlay",
              "size": 10,
              "solidity": 0.2
             }
            },
            "type": "barpolar"
           }
          ],
          "carpet": [
           {
            "aaxis": {
             "endlinecolor": "#2a3f5f",
             "gridcolor": "white",
             "linecolor": "white",
             "minorgridcolor": "white",
             "startlinecolor": "#2a3f5f"
            },
            "baxis": {
             "endlinecolor": "#2a3f5f",
             "gridcolor": "white",
             "linecolor": "white",
             "minorgridcolor": "white",
             "startlinecolor": "#2a3f5f"
            },
            "type": "carpet"
           }
          ],
          "choropleth": [
           {
            "colorbar": {
             "outlinewidth": 0,
             "ticks": ""
            },
            "type": "choropleth"
           }
          ],
          "contour": [
           {
            "colorbar": {
             "outlinewidth": 0,
             "ticks": ""
            },
            "colorscale": [
             [
              0,
              "#0d0887"
             ],
             [
              0.1111111111111111,
              "#46039f"
             ],
             [
              0.2222222222222222,
              "#7201a8"
             ],
             [
              0.3333333333333333,
              "#9c179e"
             ],
             [
              0.4444444444444444,
              "#bd3786"
             ],
             [
              0.5555555555555556,
              "#d8576b"
             ],
             [
              0.6666666666666666,
              "#ed7953"
             ],
             [
              0.7777777777777778,
              "#fb9f3a"
             ],
             [
              0.8888888888888888,
              "#fdca26"
             ],
             [
              1,
              "#f0f921"
             ]
            ],
            "type": "contour"
           }
          ],
          "contourcarpet": [
           {
            "colorbar": {
             "outlinewidth": 0,
             "ticks": ""
            },
            "type": "contourcarpet"
           }
          ],
          "heatmap": [
           {
            "colorbar": {
             "outlinewidth": 0,
             "ticks": ""
            },
            "colorscale": [
             [
              0,
              "#0d0887"
             ],
             [
              0.1111111111111111,
              "#46039f"
             ],
             [
              0.2222222222222222,
              "#7201a8"
             ],
             [
              0.3333333333333333,
              "#9c179e"
             ],
             [
              0.4444444444444444,
              "#bd3786"
             ],
             [
              0.5555555555555556,
              "#d8576b"
             ],
             [
              0.6666666666666666,
              "#ed7953"
             ],
             [
              0.7777777777777778,
              "#fb9f3a"
             ],
             [
              0.8888888888888888,
              "#fdca26"
             ],
             [
              1,
              "#f0f921"
             ]
            ],
            "type": "heatmap"
           }
          ],
          "heatmapgl": [
           {
            "colorbar": {
             "outlinewidth": 0,
             "ticks": ""
            },
            "colorscale": [
             [
              0,
              "#0d0887"
             ],
             [
              0.1111111111111111,
              "#46039f"
             ],
             [
              0.2222222222222222,
              "#7201a8"
             ],
             [
              0.3333333333333333,
              "#9c179e"
             ],
             [
              0.4444444444444444,
              "#bd3786"
             ],
             [
              0.5555555555555556,
              "#d8576b"
             ],
             [
              0.6666666666666666,
              "#ed7953"
             ],
             [
              0.7777777777777778,
              "#fb9f3a"
             ],
             [
              0.8888888888888888,
              "#fdca26"
             ],
             [
              1,
              "#f0f921"
             ]
            ],
            "type": "heatmapgl"
           }
          ],
          "histogram": [
           {
            "marker": {
             "pattern": {
              "fillmode": "overlay",
              "size": 10,
              "solidity": 0.2
             }
            },
            "type": "histogram"
           }
          ],
          "histogram2d": [
           {
            "colorbar": {
             "outlinewidth": 0,
             "ticks": ""
            },
            "colorscale": [
             [
              0,
              "#0d0887"
             ],
             [
              0.1111111111111111,
              "#46039f"
             ],
             [
              0.2222222222222222,
              "#7201a8"
             ],
             [
              0.3333333333333333,
              "#9c179e"
             ],
             [
              0.4444444444444444,
              "#bd3786"
             ],
             [
              0.5555555555555556,
              "#d8576b"
             ],
             [
              0.6666666666666666,
              "#ed7953"
             ],
             [
              0.7777777777777778,
              "#fb9f3a"
             ],
             [
              0.8888888888888888,
              "#fdca26"
             ],
             [
              1,
              "#f0f921"
             ]
            ],
            "type": "histogram2d"
           }
          ],
          "histogram2dcontour": [
           {
            "colorbar": {
             "outlinewidth": 0,
             "ticks": ""
            },
            "colorscale": [
             [
              0,
              "#0d0887"
             ],
             [
              0.1111111111111111,
              "#46039f"
             ],
             [
              0.2222222222222222,
              "#7201a8"
             ],
             [
              0.3333333333333333,
              "#9c179e"
             ],
             [
              0.4444444444444444,
              "#bd3786"
             ],
             [
              0.5555555555555556,
              "#d8576b"
             ],
             [
              0.6666666666666666,
              "#ed7953"
             ],
             [
              0.7777777777777778,
              "#fb9f3a"
             ],
             [
              0.8888888888888888,
              "#fdca26"
             ],
             [
              1,
              "#f0f921"
             ]
            ],
            "type": "histogram2dcontour"
           }
          ],
          "mesh3d": [
           {
            "colorbar": {
             "outlinewidth": 0,
             "ticks": ""
            },
            "type": "mesh3d"
           }
          ],
          "parcoords": [
           {
            "line": {
             "colorbar": {
              "outlinewidth": 0,
              "ticks": ""
             }
            },
            "type": "parcoords"
           }
          ],
          "pie": [
           {
            "automargin": true,
            "type": "pie"
           }
          ],
          "scatter": [
           {
            "fillpattern": {
             "fillmode": "overlay",
             "size": 10,
             "solidity": 0.2
            },
            "type": "scatter"
           }
          ],
          "scatter3d": [
           {
            "line": {
             "colorbar": {
              "outlinewidth": 0,
              "ticks": ""
             }
            },
            "marker": {
             "colorbar": {
              "outlinewidth": 0,
              "ticks": ""
             }
            },
            "type": "scatter3d"
           }
          ],
          "scattercarpet": [
           {
            "marker": {
             "colorbar": {
              "outlinewidth": 0,
              "ticks": ""
             }
            },
            "type": "scattercarpet"
           }
          ],
          "scattergeo": [
           {
            "marker": {
             "colorbar": {
              "outlinewidth": 0,
              "ticks": ""
             }
            },
            "type": "scattergeo"
           }
          ],
          "scattergl": [
           {
            "marker": {
             "colorbar": {
              "outlinewidth": 0,
              "ticks": ""
             }
            },
            "type": "scattergl"
           }
          ],
          "scattermapbox": [
           {
            "marker": {
             "colorbar": {
              "outlinewidth": 0,
              "ticks": ""
             }
            },
            "type": "scattermapbox"
           }
          ],
          "scatterpolar": [
           {
            "marker": {
             "colorbar": {
              "outlinewidth": 0,
              "ticks": ""
             }
            },
            "type": "scatterpolar"
           }
          ],
          "scatterpolargl": [
           {
            "marker": {
             "colorbar": {
              "outlinewidth": 0,
              "ticks": ""
             }
            },
            "type": "scatterpolargl"
           }
          ],
          "scatterternary": [
           {
            "marker": {
             "colorbar": {
              "outlinewidth": 0,
              "ticks": ""
             }
            },
            "type": "scatterternary"
           }
          ],
          "surface": [
           {
            "colorbar": {
             "outlinewidth": 0,
             "ticks": ""
            },
            "colorscale": [
             [
              0,
              "#0d0887"
             ],
             [
              0.1111111111111111,
              "#46039f"
             ],
             [
              0.2222222222222222,
              "#7201a8"
             ],
             [
              0.3333333333333333,
              "#9c179e"
             ],
             [
              0.4444444444444444,
              "#bd3786"
             ],
             [
              0.5555555555555556,
              "#d8576b"
             ],
             [
              0.6666666666666666,
              "#ed7953"
             ],
             [
              0.7777777777777778,
              "#fb9f3a"
             ],
             [
              0.8888888888888888,
              "#fdca26"
             ],
             [
              1,
              "#f0f921"
             ]
            ],
            "type": "surface"
           }
          ],
          "table": [
           {
            "cells": {
             "fill": {
              "color": "#EBF0F8"
             },
             "line": {
              "color": "white"
             }
            },
            "header": {
             "fill": {
              "color": "#C8D4E3"
             },
             "line": {
              "color": "white"
             }
            },
            "type": "table"
           }
          ]
         },
         "layout": {
          "annotationdefaults": {
           "arrowcolor": "#2a3f5f",
           "arrowhead": 0,
           "arrowwidth": 1
          },
          "autotypenumbers": "strict",
          "coloraxis": {
           "colorbar": {
            "outlinewidth": 0,
            "ticks": ""
           }
          },
          "colorscale": {
           "diverging": [
            [
             0,
             "#8e0152"
            ],
            [
             0.1,
             "#c51b7d"
            ],
            [
             0.2,
             "#de77ae"
            ],
            [
             0.3,
             "#f1b6da"
            ],
            [
             0.4,
             "#fde0ef"
            ],
            [
             0.5,
             "#f7f7f7"
            ],
            [
             0.6,
             "#e6f5d0"
            ],
            [
             0.7,
             "#b8e186"
            ],
            [
             0.8,
             "#7fbc41"
            ],
            [
             0.9,
             "#4d9221"
            ],
            [
             1,
             "#276419"
            ]
           ],
           "sequential": [
            [
             0,
             "#0d0887"
            ],
            [
             0.1111111111111111,
             "#46039f"
            ],
            [
             0.2222222222222222,
             "#7201a8"
            ],
            [
             0.3333333333333333,
             "#9c179e"
            ],
            [
             0.4444444444444444,
             "#bd3786"
            ],
            [
             0.5555555555555556,
             "#d8576b"
            ],
            [
             0.6666666666666666,
             "#ed7953"
            ],
            [
             0.7777777777777778,
             "#fb9f3a"
            ],
            [
             0.8888888888888888,
             "#fdca26"
            ],
            [
             1,
             "#f0f921"
            ]
           ],
           "sequentialminus": [
            [
             0,
             "#0d0887"
            ],
            [
             0.1111111111111111,
             "#46039f"
            ],
            [
             0.2222222222222222,
             "#7201a8"
            ],
            [
             0.3333333333333333,
             "#9c179e"
            ],
            [
             0.4444444444444444,
             "#bd3786"
            ],
            [
             0.5555555555555556,
             "#d8576b"
            ],
            [
             0.6666666666666666,
             "#ed7953"
            ],
            [
             0.7777777777777778,
             "#fb9f3a"
            ],
            [
             0.8888888888888888,
             "#fdca26"
            ],
            [
             1,
             "#f0f921"
            ]
           ]
          },
          "colorway": [
           "#636efa",
           "#EF553B",
           "#00cc96",
           "#ab63fa",
           "#FFA15A",
           "#19d3f3",
           "#FF6692",
           "#B6E880",
           "#FF97FF",
           "#FECB52"
          ],
          "font": {
           "color": "#2a3f5f"
          },
          "geo": {
           "bgcolor": "white",
           "lakecolor": "white",
           "landcolor": "#E5ECF6",
           "showlakes": true,
           "showland": true,
           "subunitcolor": "white"
          },
          "hoverlabel": {
           "align": "left"
          },
          "hovermode": "closest",
          "mapbox": {
           "style": "light"
          },
          "paper_bgcolor": "white",
          "plot_bgcolor": "#E5ECF6",
          "polar": {
           "angularaxis": {
            "gridcolor": "white",
            "linecolor": "white",
            "ticks": ""
           },
           "bgcolor": "#E5ECF6",
           "radialaxis": {
            "gridcolor": "white",
            "linecolor": "white",
            "ticks": ""
           }
          },
          "scene": {
           "xaxis": {
            "backgroundcolor": "#E5ECF6",
            "gridcolor": "white",
            "gridwidth": 2,
            "linecolor": "white",
            "showbackground": true,
            "ticks": "",
            "zerolinecolor": "white"
           },
           "yaxis": {
            "backgroundcolor": "#E5ECF6",
            "gridcolor": "white",
            "gridwidth": 2,
            "linecolor": "white",
            "showbackground": true,
            "ticks": "",
            "zerolinecolor": "white"
           },
           "zaxis": {
            "backgroundcolor": "#E5ECF6",
            "gridcolor": "white",
            "gridwidth": 2,
            "linecolor": "white",
            "showbackground": true,
            "ticks": "",
            "zerolinecolor": "white"
           }
          },
          "shapedefaults": {
           "line": {
            "color": "#2a3f5f"
           }
          },
          "ternary": {
           "aaxis": {
            "gridcolor": "white",
            "linecolor": "white",
            "ticks": ""
           },
           "baxis": {
            "gridcolor": "white",
            "linecolor": "white",
            "ticks": ""
           },
           "bgcolor": "#E5ECF6",
           "caxis": {
            "gridcolor": "white",
            "linecolor": "white",
            "ticks": ""
           }
          },
          "title": {
           "x": 0.05
          },
          "xaxis": {
           "automargin": true,
           "gridcolor": "white",
           "linecolor": "white",
           "ticks": "",
           "title": {
            "standoff": 15
           },
           "zerolinecolor": "white",
           "zerolinewidth": 2
          },
          "yaxis": {
           "automargin": true,
           "gridcolor": "white",
           "linecolor": "white",
           "ticks": "",
           "title": {
            "standoff": 15
           },
           "zerolinecolor": "white",
           "zerolinewidth": 2
          }
         }
        },
        "title": {
         "text": "Fishing Activity by Hour of the Day"
        },
        "xaxis": {
         "anchor": "y",
         "domain": [
          0,
          1
         ],
         "tickmode": "array",
         "ticktext": [
          "8AM",
          "9AM",
          "10AM",
          "11AM",
          "12PM",
          "1PM",
          "2PM",
          "3PM",
          "4PM",
          "5PM"
         ],
         "tickvals": [
          "8AM",
          "9AM",
          "10AM",
          "11AM",
          "12PM",
          "1PM",
          "2PM",
          "3PM",
          "4PM",
          "5PM"
         ],
         "title": {
          "text": "Hour of the Day"
         },
         "type": "category"
        },
        "yaxis": {
         "anchor": "x",
         "domain": [
          0,
          1
         ],
         "range": [
          0,
          16.25
         ],
         "title": {
          "text": "Number of Fish Caught"
         }
        }
       }
      }
     },
     "metadata": {},
     "output_type": "display_data"
    }
   ],
   "source": [
    "# Ensure 'data' has 'datetime' as a pandas datetime type\n",
    "data['datetime'] = pd.to_datetime(data['datetime'])\n",
    "\n",
    "# Group data by hour and compute counts and average length\n",
    "data['hour'] = data['datetime'].dt.hour\n",
    "aggregated_data = data.groupby('hour').agg(\n",
    "    counts=('id', 'size'),\n",
    "    average_length=('length', 'mean')\n",
    ").reset_index()\n",
    "\n",
    "# Convert 24-hour to 12-hour format for the x-axis labels\n",
    "aggregated_data['hour_12'] = aggregated_data['hour'].apply(lambda x: f\"{(x % 12 or 12)}{'AM' if x < 12 else 'PM'}\")\n",
    "\n",
    "max_count = aggregated_data['counts'].max()\n",
    "\n",
    "# Define a custom blue color scale that darkens with increasing values\n",
    "blue_scale = [\n",
    "    [0.0, 'rgb(173, 216, 230)'],  # Lighter blue\n",
    "    [1.0, 'rgb(0, 0, 139)']       # Darker blue\n",
    "]\n",
    "\n",
    "# Plotting the data using a uniform blue color scale that darkens with higher averages\n",
    "fig = px.bar(\n",
    "    aggregated_data,\n",
    "    x='hour_12',\n",
    "    y='counts',\n",
    "    title='Fishing Activity by Hour of the Day',\n",
    "    labels={'hour_12': 'Hour of the Day', 'counts': 'Number of Fish Caught'},\n",
    "    color='average_length',\n",
    "    text=aggregated_data.apply(lambda row: f\"{row['counts']} Caught<br>Avg. Length: {row['average_length']:.2f}\\\"\", axis=1),\n",
    "    color_continuous_scale=blue_scale  # Use the custom blue scale\n",
    ")\n",
    "\n",
    "fig.update_traces(texttemplate='%{text}', textposition='outside')  # Formatting the text labels to appear outside the bars\n",
    "fig.update_layout(\n",
    "    xaxis_title='Hour of the Day',\n",
    "    yaxis_title='Number of Fish Caught',\n",
    "    xaxis={'type': 'category', 'tickmode': 'array', 'tickvals': aggregated_data['hour_12'], 'ticktext': aggregated_data['hour_12']},\n",
    "    yaxis=dict(range=[0, max_count * 1.25]),\n",
    "    coloraxis_colorbar=dict(title='Average Length (inches)')\n",
    ")\n",
    "fig.show()\n"
   ]
  },
  {
   "cell_type": "code",
   "execution_count": 9,
   "metadata": {},
   "outputs": [
    {
     "name": "stderr",
     "output_type": "stream",
     "text": [
      "/var/folders/s_/f4z5pzrx0md_8v7g68d92zdh0000gq/T/ipykernel_2858/1170285640.py:11: FutureWarning:\n",
      "\n",
      "The behavior of Series.replace (and DataFrame.replace) with CategoricalDtype is deprecated. In a future version, replace will only be used for cases that preserve the categories. To change the categories, use ser.cat.rename_categories instead.\n",
      "\n",
      "/var/folders/s_/f4z5pzrx0md_8v7g68d92zdh0000gq/T/ipykernel_2858/1170285640.py:19: FutureWarning:\n",
      "\n",
      "The behavior of Series.replace (and DataFrame.replace) with CategoricalDtype is deprecated. In a future version, replace will only be used for cases that preserve the categories. To change the categories, use ser.cat.rename_categories instead.\n",
      "\n"
     ]
    },
    {
     "data": {
      "application/vnd.plotly.v1+json": {
       "config": {
        "plotlyServerURL": "https://plot.ly"
       },
       "data": [
        {
         "box": {
          "visible": true
         },
         "line": {
          "color": "blue"
         },
         "meanline": {
          "visible": true
         },
         "name": "2023",
         "points": "all",
         "side": "negative",
         "type": "violin",
         "x": [
          "Year Comparison",
          "Year Comparison",
          "Year Comparison",
          "Year Comparison",
          "Year Comparison",
          "Year Comparison",
          "Year Comparison",
          "Year Comparison",
          "Year Comparison",
          "Year Comparison",
          "Year Comparison",
          "Year Comparison",
          "Year Comparison",
          "Year Comparison",
          "Year Comparison",
          "Year Comparison",
          "Year Comparison",
          "Year Comparison",
          "Year Comparison",
          "Year Comparison",
          "Year Comparison",
          "Year Comparison",
          "Year Comparison",
          "Year Comparison",
          "Year Comparison",
          "Year Comparison",
          "Year Comparison",
          "Year Comparison",
          "Year Comparison",
          "Year Comparison",
          "Year Comparison",
          "Year Comparison"
         ],
         "y": [
          -10,
          -9,
          -13,
          -9,
          -9,
          -10,
          -12,
          -9.5,
          -9.5,
          -12,
          -9.5,
          -12,
          -9.5,
          -11.5,
          -10,
          -9,
          -9,
          -20,
          -9,
          -9,
          -19,
          -8.5,
          -11,
          -7,
          -12,
          -11,
          -12,
          -7,
          -7,
          -11,
          -10,
          -12
         ]
        },
        {
         "box": {
          "visible": true
         },
         "line": {
          "color": "orange"
         },
         "meanline": {
          "visible": true
         },
         "name": "2024",
         "points": "all",
         "side": "positive",
         "type": "violin",
         "x": [
          "Year Comparison",
          "Year Comparison",
          "Year Comparison",
          "Year Comparison",
          "Year Comparison",
          "Year Comparison",
          "Year Comparison",
          "Year Comparison",
          "Year Comparison",
          "Year Comparison",
          "Year Comparison",
          "Year Comparison",
          "Year Comparison",
          "Year Comparison",
          "Year Comparison",
          "Year Comparison",
          "Year Comparison",
          "Year Comparison",
          "Year Comparison",
          "Year Comparison",
          "Year Comparison",
          "Year Comparison",
          "Year Comparison",
          "Year Comparison",
          "Year Comparison",
          "Year Comparison",
          "Year Comparison",
          "Year Comparison",
          "Year Comparison",
          "Year Comparison"
         ],
         "y": [
          -11,
          -9.5,
          -9.5,
          -9,
          -11,
          -11,
          -8,
          -6.5,
          -10,
          -11,
          -12.5,
          -11,
          -9.5,
          -13.5,
          -10.5,
          -8.5,
          -12,
          -12,
          -11,
          -10.5,
          -10.5,
          -11,
          -12.5,
          -16,
          -16,
          -14,
          -11,
          -8,
          -7,
          -7
         ]
        }
       ],
       "layout": {
        "margin": {
         "b": 20,
         "l": 40,
         "r": 40,
         "t": 20
        },
        "template": {
         "data": {
          "bar": [
           {
            "error_x": {
             "color": "#2a3f5f"
            },
            "error_y": {
             "color": "#2a3f5f"
            },
            "marker": {
             "line": {
              "color": "#E5ECF6",
              "width": 0.5
             },
             "pattern": {
              "fillmode": "overlay",
              "size": 10,
              "solidity": 0.2
             }
            },
            "type": "bar"
           }
          ],
          "barpolar": [
           {
            "marker": {
             "line": {
              "color": "#E5ECF6",
              "width": 0.5
             },
             "pattern": {
              "fillmode": "overlay",
              "size": 10,
              "solidity": 0.2
             }
            },
            "type": "barpolar"
           }
          ],
          "carpet": [
           {
            "aaxis": {
             "endlinecolor": "#2a3f5f",
             "gridcolor": "white",
             "linecolor": "white",
             "minorgridcolor": "white",
             "startlinecolor": "#2a3f5f"
            },
            "baxis": {
             "endlinecolor": "#2a3f5f",
             "gridcolor": "white",
             "linecolor": "white",
             "minorgridcolor": "white",
             "startlinecolor": "#2a3f5f"
            },
            "type": "carpet"
           }
          ],
          "choropleth": [
           {
            "colorbar": {
             "outlinewidth": 0,
             "ticks": ""
            },
            "type": "choropleth"
           }
          ],
          "contour": [
           {
            "colorbar": {
             "outlinewidth": 0,
             "ticks": ""
            },
            "colorscale": [
             [
              0,
              "#0d0887"
             ],
             [
              0.1111111111111111,
              "#46039f"
             ],
             [
              0.2222222222222222,
              "#7201a8"
             ],
             [
              0.3333333333333333,
              "#9c179e"
             ],
             [
              0.4444444444444444,
              "#bd3786"
             ],
             [
              0.5555555555555556,
              "#d8576b"
             ],
             [
              0.6666666666666666,
              "#ed7953"
             ],
             [
              0.7777777777777778,
              "#fb9f3a"
             ],
             [
              0.8888888888888888,
              "#fdca26"
             ],
             [
              1,
              "#f0f921"
             ]
            ],
            "type": "contour"
           }
          ],
          "contourcarpet": [
           {
            "colorbar": {
             "outlinewidth": 0,
             "ticks": ""
            },
            "type": "contourcarpet"
           }
          ],
          "heatmap": [
           {
            "colorbar": {
             "outlinewidth": 0,
             "ticks": ""
            },
            "colorscale": [
             [
              0,
              "#0d0887"
             ],
             [
              0.1111111111111111,
              "#46039f"
             ],
             [
              0.2222222222222222,
              "#7201a8"
             ],
             [
              0.3333333333333333,
              "#9c179e"
             ],
             [
              0.4444444444444444,
              "#bd3786"
             ],
             [
              0.5555555555555556,
              "#d8576b"
             ],
             [
              0.6666666666666666,
              "#ed7953"
             ],
             [
              0.7777777777777778,
              "#fb9f3a"
             ],
             [
              0.8888888888888888,
              "#fdca26"
             ],
             [
              1,
              "#f0f921"
             ]
            ],
            "type": "heatmap"
           }
          ],
          "heatmapgl": [
           {
            "colorbar": {
             "outlinewidth": 0,
             "ticks": ""
            },
            "colorscale": [
             [
              0,
              "#0d0887"
             ],
             [
              0.1111111111111111,
              "#46039f"
             ],
             [
              0.2222222222222222,
              "#7201a8"
             ],
             [
              0.3333333333333333,
              "#9c179e"
             ],
             [
              0.4444444444444444,
              "#bd3786"
             ],
             [
              0.5555555555555556,
              "#d8576b"
             ],
             [
              0.6666666666666666,
              "#ed7953"
             ],
             [
              0.7777777777777778,
              "#fb9f3a"
             ],
             [
              0.8888888888888888,
              "#fdca26"
             ],
             [
              1,
              "#f0f921"
             ]
            ],
            "type": "heatmapgl"
           }
          ],
          "histogram": [
           {
            "marker": {
             "pattern": {
              "fillmode": "overlay",
              "size": 10,
              "solidity": 0.2
             }
            },
            "type": "histogram"
           }
          ],
          "histogram2d": [
           {
            "colorbar": {
             "outlinewidth": 0,
             "ticks": ""
            },
            "colorscale": [
             [
              0,
              "#0d0887"
             ],
             [
              0.1111111111111111,
              "#46039f"
             ],
             [
              0.2222222222222222,
              "#7201a8"
             ],
             [
              0.3333333333333333,
              "#9c179e"
             ],
             [
              0.4444444444444444,
              "#bd3786"
             ],
             [
              0.5555555555555556,
              "#d8576b"
             ],
             [
              0.6666666666666666,
              "#ed7953"
             ],
             [
              0.7777777777777778,
              "#fb9f3a"
             ],
             [
              0.8888888888888888,
              "#fdca26"
             ],
             [
              1,
              "#f0f921"
             ]
            ],
            "type": "histogram2d"
           }
          ],
          "histogram2dcontour": [
           {
            "colorbar": {
             "outlinewidth": 0,
             "ticks": ""
            },
            "colorscale": [
             [
              0,
              "#0d0887"
             ],
             [
              0.1111111111111111,
              "#46039f"
             ],
             [
              0.2222222222222222,
              "#7201a8"
             ],
             [
              0.3333333333333333,
              "#9c179e"
             ],
             [
              0.4444444444444444,
              "#bd3786"
             ],
             [
              0.5555555555555556,
              "#d8576b"
             ],
             [
              0.6666666666666666,
              "#ed7953"
             ],
             [
              0.7777777777777778,
              "#fb9f3a"
             ],
             [
              0.8888888888888888,
              "#fdca26"
             ],
             [
              1,
              "#f0f921"
             ]
            ],
            "type": "histogram2dcontour"
           }
          ],
          "mesh3d": [
           {
            "colorbar": {
             "outlinewidth": 0,
             "ticks": ""
            },
            "type": "mesh3d"
           }
          ],
          "parcoords": [
           {
            "line": {
             "colorbar": {
              "outlinewidth": 0,
              "ticks": ""
             }
            },
            "type": "parcoords"
           }
          ],
          "pie": [
           {
            "automargin": true,
            "type": "pie"
           }
          ],
          "scatter": [
           {
            "fillpattern": {
             "fillmode": "overlay",
             "size": 10,
             "solidity": 0.2
            },
            "type": "scatter"
           }
          ],
          "scatter3d": [
           {
            "line": {
             "colorbar": {
              "outlinewidth": 0,
              "ticks": ""
             }
            },
            "marker": {
             "colorbar": {
              "outlinewidth": 0,
              "ticks": ""
             }
            },
            "type": "scatter3d"
           }
          ],
          "scattercarpet": [
           {
            "marker": {
             "colorbar": {
              "outlinewidth": 0,
              "ticks": ""
             }
            },
            "type": "scattercarpet"
           }
          ],
          "scattergeo": [
           {
            "marker": {
             "colorbar": {
              "outlinewidth": 0,
              "ticks": ""
             }
            },
            "type": "scattergeo"
           }
          ],
          "scattergl": [
           {
            "marker": {
             "colorbar": {
              "outlinewidth": 0,
              "ticks": ""
             }
            },
            "type": "scattergl"
           }
          ],
          "scattermapbox": [
           {
            "marker": {
             "colorbar": {
              "outlinewidth": 0,
              "ticks": ""
             }
            },
            "type": "scattermapbox"
           }
          ],
          "scatterpolar": [
           {
            "marker": {
             "colorbar": {
              "outlinewidth": 0,
              "ticks": ""
             }
            },
            "type": "scatterpolar"
           }
          ],
          "scatterpolargl": [
           {
            "marker": {
             "colorbar": {
              "outlinewidth": 0,
              "ticks": ""
             }
            },
            "type": "scatterpolargl"
           }
          ],
          "scatterternary": [
           {
            "marker": {
             "colorbar": {
              "outlinewidth": 0,
              "ticks": ""
             }
            },
            "type": "scatterternary"
           }
          ],
          "surface": [
           {
            "colorbar": {
             "outlinewidth": 0,
             "ticks": ""
            },
            "colorscale": [
             [
              0,
              "#0d0887"
             ],
             [
              0.1111111111111111,
              "#46039f"
             ],
             [
              0.2222222222222222,
              "#7201a8"
             ],
             [
              0.3333333333333333,
              "#9c179e"
             ],
             [
              0.4444444444444444,
              "#bd3786"
             ],
             [
              0.5555555555555556,
              "#d8576b"
             ],
             [
              0.6666666666666666,
              "#ed7953"
             ],
             [
              0.7777777777777778,
              "#fb9f3a"
             ],
             [
              0.8888888888888888,
              "#fdca26"
             ],
             [
              1,
              "#f0f921"
             ]
            ],
            "type": "surface"
           }
          ],
          "table": [
           {
            "cells": {
             "fill": {
              "color": "#EBF0F8"
             },
             "line": {
              "color": "white"
             }
            },
            "header": {
             "fill": {
              "color": "#C8D4E3"
             },
             "line": {
              "color": "white"
             }
            },
            "type": "table"
           }
          ]
         },
         "layout": {
          "annotationdefaults": {
           "arrowcolor": "#2a3f5f",
           "arrowhead": 0,
           "arrowwidth": 1
          },
          "autotypenumbers": "strict",
          "coloraxis": {
           "colorbar": {
            "outlinewidth": 0,
            "ticks": ""
           }
          },
          "colorscale": {
           "diverging": [
            [
             0,
             "#8e0152"
            ],
            [
             0.1,
             "#c51b7d"
            ],
            [
             0.2,
             "#de77ae"
            ],
            [
             0.3,
             "#f1b6da"
            ],
            [
             0.4,
             "#fde0ef"
            ],
            [
             0.5,
             "#f7f7f7"
            ],
            [
             0.6,
             "#e6f5d0"
            ],
            [
             0.7,
             "#b8e186"
            ],
            [
             0.8,
             "#7fbc41"
            ],
            [
             0.9,
             "#4d9221"
            ],
            [
             1,
             "#276419"
            ]
           ],
           "sequential": [
            [
             0,
             "#0d0887"
            ],
            [
             0.1111111111111111,
             "#46039f"
            ],
            [
             0.2222222222222222,
             "#7201a8"
            ],
            [
             0.3333333333333333,
             "#9c179e"
            ],
            [
             0.4444444444444444,
             "#bd3786"
            ],
            [
             0.5555555555555556,
             "#d8576b"
            ],
            [
             0.6666666666666666,
             "#ed7953"
            ],
            [
             0.7777777777777778,
             "#fb9f3a"
            ],
            [
             0.8888888888888888,
             "#fdca26"
            ],
            [
             1,
             "#f0f921"
            ]
           ],
           "sequentialminus": [
            [
             0,
             "#0d0887"
            ],
            [
             0.1111111111111111,
             "#46039f"
            ],
            [
             0.2222222222222222,
             "#7201a8"
            ],
            [
             0.3333333333333333,
             "#9c179e"
            ],
            [
             0.4444444444444444,
             "#bd3786"
            ],
            [
             0.5555555555555556,
             "#d8576b"
            ],
            [
             0.6666666666666666,
             "#ed7953"
            ],
            [
             0.7777777777777778,
             "#fb9f3a"
            ],
            [
             0.8888888888888888,
             "#fdca26"
            ],
            [
             1,
             "#f0f921"
            ]
           ]
          },
          "colorway": [
           "#636efa",
           "#EF553B",
           "#00cc96",
           "#ab63fa",
           "#FFA15A",
           "#19d3f3",
           "#FF6692",
           "#B6E880",
           "#FF97FF",
           "#FECB52"
          ],
          "font": {
           "color": "#2a3f5f"
          },
          "geo": {
           "bgcolor": "white",
           "lakecolor": "white",
           "landcolor": "#E5ECF6",
           "showlakes": true,
           "showland": true,
           "subunitcolor": "white"
          },
          "hoverlabel": {
           "align": "left"
          },
          "hovermode": "closest",
          "mapbox": {
           "style": "light"
          },
          "paper_bgcolor": "white",
          "plot_bgcolor": "#E5ECF6",
          "polar": {
           "angularaxis": {
            "gridcolor": "white",
            "linecolor": "white",
            "ticks": ""
           },
           "bgcolor": "#E5ECF6",
           "radialaxis": {
            "gridcolor": "white",
            "linecolor": "white",
            "ticks": ""
           }
          },
          "scene": {
           "xaxis": {
            "backgroundcolor": "#E5ECF6",
            "gridcolor": "white",
            "gridwidth": 2,
            "linecolor": "white",
            "showbackground": true,
            "ticks": "",
            "zerolinecolor": "white"
           },
           "yaxis": {
            "backgroundcolor": "#E5ECF6",
            "gridcolor": "white",
            "gridwidth": 2,
            "linecolor": "white",
            "showbackground": true,
            "ticks": "",
            "zerolinecolor": "white"
           },
           "zaxis": {
            "backgroundcolor": "#E5ECF6",
            "gridcolor": "white",
            "gridwidth": 2,
            "linecolor": "white",
            "showbackground": true,
            "ticks": "",
            "zerolinecolor": "white"
           }
          },
          "shapedefaults": {
           "line": {
            "color": "#2a3f5f"
           }
          },
          "ternary": {
           "aaxis": {
            "gridcolor": "white",
            "linecolor": "white",
            "ticks": ""
           },
           "baxis": {
            "gridcolor": "white",
            "linecolor": "white",
            "ticks": ""
           },
           "bgcolor": "#E5ECF6",
           "caxis": {
            "gridcolor": "white",
            "linecolor": "white",
            "ticks": ""
           }
          },
          "title": {
           "x": 0.05
          },
          "xaxis": {
           "automargin": true,
           "gridcolor": "white",
           "linecolor": "white",
           "ticks": "",
           "title": {
            "standoff": 15
           },
           "zerolinecolor": "white",
           "zerolinewidth": 2
          },
          "yaxis": {
           "automargin": true,
           "gridcolor": "white",
           "linecolor": "white",
           "ticks": "",
           "title": {
            "standoff": 15
           },
           "zerolinecolor": "white",
           "zerolinewidth": 2
          }
         }
        },
        "violingap": 0,
        "violinmode": "overlay",
        "width": 800,
        "yaxis": {
         "tickformat": ".2f'",
         "title": {
          "text": "Depth in Feet"
         }
        }
       }
      }
     },
     "metadata": {},
     "output_type": "display_data"
    }
   ],
   "source": [
    "import plotly.graph_objects as go\n",
    "import numpy as np\n",
    "import pandas as pd\n",
    "\n",
    "# Assuming 'data' is your DataFrame and includes a 'year' column alongside 'depth'\n",
    "data['year'] = pd.Categorical(data['year'])  # Ensure 'year' is a categorical data type\n",
    "\n",
    "fig = go.Figure()\n",
    "\n",
    "# Add split violin plot for the year 2023\n",
    "fig.add_trace(go.Violin(x=data['year'][data['year'] == 2023].replace(2023, 'Year Comparison'),  # Constant x value\n",
    "                        y=data['depth'][data['year'] == 2023],\n",
    "                        name='2023',\n",
    "                        side='negative',\n",
    "                        line_color='blue')\n",
    "             )\n",
    "\n",
    "# Add split violin plot for the year 2024\n",
    "fig.add_trace(go.Violin(x=data['year'][data['year'] == 2024].replace(2024, 'Year Comparison'),  # Constant x value\n",
    "                        y=data['depth'][data['year'] == 2024],\n",
    "                        name='2024',\n",
    "                        side='positive',\n",
    "                        line_color='orange')\n",
    "             )\n",
    "\n",
    "# Update traces to show all points, the box plot inside the violin, and make the mean line visible\n",
    "fig.update_traces(points='all', box_visible=True, meanline_visible=True)\n",
    "\n",
    "# Adjusting plot layout settings to widen the view\n",
    "fig.update_layout(\n",
    "    yaxis_tickformat=\".2f'\",\n",
    "    yaxis_title=\"Depth in Feet\",\n",
    "    violingap=0,  # Remove gap between violins\n",
    "    violinmode='overlay',  # Overlay violins on the same x position\n",
    "    margin=dict(l=40, r=40, t=20, b=20),  # Adjust margins\n",
    "    width=800  # Optionally adjust width\n",
    ")\n",
    "\n",
    "fig.show()\n"
   ]
  },
  {
   "cell_type": "code",
   "execution_count": 8,
   "metadata": {},
   "outputs": [
    {
     "name": "stdout",
     "output_type": "stream",
     "text": [
      "13\n"
     ]
    },
    {
     "data": {
      "application/vnd.plotly.v1+json": {
       "config": {
        "plotlyServerURL": "https://plot.ly"
       },
       "data": [
        {
         "alignmentgroup": "True",
         "hovertemplate": "Hour of the Day=%{x}<br>Number of Fish Caught=%{y}<br>text=%{text}<br>average_length=%{marker.color}<extra></extra>",
         "legendgroup": "",
         "marker": {
          "color": [
           17.375,
           16.75,
           17.25,
           16.5,
           17.125,
           18.75,
           16.5,
           15.2,
           16.428571428571427,
           15.333333333333334,
           15.464285714285714,
           14.7,
           17.7,
           16.208333333333332,
           15,
           15
          ],
          "coloraxis": "coloraxis",
          "pattern": {
           "shape": ""
          }
         },
         "name": "",
         "offsetgroup": "",
         "orientation": "v",
         "showlegend": false,
         "text": [
          "2 Caught<br>Avg. Length: 17.38\"",
          "2 Caught<br>Avg. Length: 16.75\"",
          "2 Caught<br>Avg. Length: 17.25\"",
          "1 Caught<br>Avg. Length: 16.50\"",
          "2 Caught<br>Avg. Length: 17.12\"",
          "1 Caught<br>Avg. Length: 18.75\"",
          "5 Caught<br>Avg. Length: 16.50\"",
          "5 Caught<br>Avg. Length: 15.20\"",
          "7 Caught<br>Avg. Length: 16.43\"",
          "6 Caught<br>Avg. Length: 15.33\"",
          "7 Caught<br>Avg. Length: 15.46\"",
          "5 Caught<br>Avg. Length: 14.70\"",
          "5 Caught<br>Avg. Length: 17.70\"",
          "6 Caught<br>Avg. Length: 16.21\"",
          "3 Caught<br>Avg. Length: 15.00\"",
          "3 Caught<br>Avg. Length: 15.00\""
         ],
         "textposition": "outside",
         "texttemplate": "%{text}",
         "type": "bar",
         "x": [
          "8AM",
          "8AM",
          "9AM",
          "10AM",
          "10AM",
          "11AM",
          "11AM",
          "12PM",
          "12PM",
          "1PM",
          "1PM",
          "2PM",
          "2PM",
          "3PM",
          "4PM",
          "5PM"
         ],
         "xaxis": "x",
         "y": [
          2,
          2,
          2,
          1,
          2,
          1,
          5,
          5,
          7,
          6,
          7,
          5,
          5,
          6,
          3,
          3
         ],
         "yaxis": "y"
        }
       ],
       "layout": {
        "barmode": "group",
        "coloraxis": {
         "colorbar": {
          "title": {
           "text": "Average Length (inches)"
          }
         },
         "colorscale": [
          [
           0,
           "rgb(173, 216, 230)"
          ],
          [
           1,
           "rgb(0, 0, 139)"
          ]
         ]
        },
        "legend": {
         "tracegroupgap": 0
        },
        "template": {
         "data": {
          "bar": [
           {
            "error_x": {
             "color": "#2a3f5f"
            },
            "error_y": {
             "color": "#2a3f5f"
            },
            "marker": {
             "line": {
              "color": "#E5ECF6",
              "width": 0.5
             },
             "pattern": {
              "fillmode": "overlay",
              "size": 10,
              "solidity": 0.2
             }
            },
            "type": "bar"
           }
          ],
          "barpolar": [
           {
            "marker": {
             "line": {
              "color": "#E5ECF6",
              "width": 0.5
             },
             "pattern": {
              "fillmode": "overlay",
              "size": 10,
              "solidity": 0.2
             }
            },
            "type": "barpolar"
           }
          ],
          "carpet": [
           {
            "aaxis": {
             "endlinecolor": "#2a3f5f",
             "gridcolor": "white",
             "linecolor": "white",
             "minorgridcolor": "white",
             "startlinecolor": "#2a3f5f"
            },
            "baxis": {
             "endlinecolor": "#2a3f5f",
             "gridcolor": "white",
             "linecolor": "white",
             "minorgridcolor": "white",
             "startlinecolor": "#2a3f5f"
            },
            "type": "carpet"
           }
          ],
          "choropleth": [
           {
            "colorbar": {
             "outlinewidth": 0,
             "ticks": ""
            },
            "type": "choropleth"
           }
          ],
          "contour": [
           {
            "colorbar": {
             "outlinewidth": 0,
             "ticks": ""
            },
            "colorscale": [
             [
              0,
              "#0d0887"
             ],
             [
              0.1111111111111111,
              "#46039f"
             ],
             [
              0.2222222222222222,
              "#7201a8"
             ],
             [
              0.3333333333333333,
              "#9c179e"
             ],
             [
              0.4444444444444444,
              "#bd3786"
             ],
             [
              0.5555555555555556,
              "#d8576b"
             ],
             [
              0.6666666666666666,
              "#ed7953"
             ],
             [
              0.7777777777777778,
              "#fb9f3a"
             ],
             [
              0.8888888888888888,
              "#fdca26"
             ],
             [
              1,
              "#f0f921"
             ]
            ],
            "type": "contour"
           }
          ],
          "contourcarpet": [
           {
            "colorbar": {
             "outlinewidth": 0,
             "ticks": ""
            },
            "type": "contourcarpet"
           }
          ],
          "heatmap": [
           {
            "colorbar": {
             "outlinewidth": 0,
             "ticks": ""
            },
            "colorscale": [
             [
              0,
              "#0d0887"
             ],
             [
              0.1111111111111111,
              "#46039f"
             ],
             [
              0.2222222222222222,
              "#7201a8"
             ],
             [
              0.3333333333333333,
              "#9c179e"
             ],
             [
              0.4444444444444444,
              "#bd3786"
             ],
             [
              0.5555555555555556,
              "#d8576b"
             ],
             [
              0.6666666666666666,
              "#ed7953"
             ],
             [
              0.7777777777777778,
              "#fb9f3a"
             ],
             [
              0.8888888888888888,
              "#fdca26"
             ],
             [
              1,
              "#f0f921"
             ]
            ],
            "type": "heatmap"
           }
          ],
          "heatmapgl": [
           {
            "colorbar": {
             "outlinewidth": 0,
             "ticks": ""
            },
            "colorscale": [
             [
              0,
              "#0d0887"
             ],
             [
              0.1111111111111111,
              "#46039f"
             ],
             [
              0.2222222222222222,
              "#7201a8"
             ],
             [
              0.3333333333333333,
              "#9c179e"
             ],
             [
              0.4444444444444444,
              "#bd3786"
             ],
             [
              0.5555555555555556,
              "#d8576b"
             ],
             [
              0.6666666666666666,
              "#ed7953"
             ],
             [
              0.7777777777777778,
              "#fb9f3a"
             ],
             [
              0.8888888888888888,
              "#fdca26"
             ],
             [
              1,
              "#f0f921"
             ]
            ],
            "type": "heatmapgl"
           }
          ],
          "histogram": [
           {
            "marker": {
             "pattern": {
              "fillmode": "overlay",
              "size": 10,
              "solidity": 0.2
             }
            },
            "type": "histogram"
           }
          ],
          "histogram2d": [
           {
            "colorbar": {
             "outlinewidth": 0,
             "ticks": ""
            },
            "colorscale": [
             [
              0,
              "#0d0887"
             ],
             [
              0.1111111111111111,
              "#46039f"
             ],
             [
              0.2222222222222222,
              "#7201a8"
             ],
             [
              0.3333333333333333,
              "#9c179e"
             ],
             [
              0.4444444444444444,
              "#bd3786"
             ],
             [
              0.5555555555555556,
              "#d8576b"
             ],
             [
              0.6666666666666666,
              "#ed7953"
             ],
             [
              0.7777777777777778,
              "#fb9f3a"
             ],
             [
              0.8888888888888888,
              "#fdca26"
             ],
             [
              1,
              "#f0f921"
             ]
            ],
            "type": "histogram2d"
           }
          ],
          "histogram2dcontour": [
           {
            "colorbar": {
             "outlinewidth": 0,
             "ticks": ""
            },
            "colorscale": [
             [
              0,
              "#0d0887"
             ],
             [
              0.1111111111111111,
              "#46039f"
             ],
             [
              0.2222222222222222,
              "#7201a8"
             ],
             [
              0.3333333333333333,
              "#9c179e"
             ],
             [
              0.4444444444444444,
              "#bd3786"
             ],
             [
              0.5555555555555556,
              "#d8576b"
             ],
             [
              0.6666666666666666,
              "#ed7953"
             ],
             [
              0.7777777777777778,
              "#fb9f3a"
             ],
             [
              0.8888888888888888,
              "#fdca26"
             ],
             [
              1,
              "#f0f921"
             ]
            ],
            "type": "histogram2dcontour"
           }
          ],
          "mesh3d": [
           {
            "colorbar": {
             "outlinewidth": 0,
             "ticks": ""
            },
            "type": "mesh3d"
           }
          ],
          "parcoords": [
           {
            "line": {
             "colorbar": {
              "outlinewidth": 0,
              "ticks": ""
             }
            },
            "type": "parcoords"
           }
          ],
          "pie": [
           {
            "automargin": true,
            "type": "pie"
           }
          ],
          "scatter": [
           {
            "fillpattern": {
             "fillmode": "overlay",
             "size": 10,
             "solidity": 0.2
            },
            "type": "scatter"
           }
          ],
          "scatter3d": [
           {
            "line": {
             "colorbar": {
              "outlinewidth": 0,
              "ticks": ""
             }
            },
            "marker": {
             "colorbar": {
              "outlinewidth": 0,
              "ticks": ""
             }
            },
            "type": "scatter3d"
           }
          ],
          "scattercarpet": [
           {
            "marker": {
             "colorbar": {
              "outlinewidth": 0,
              "ticks": ""
             }
            },
            "type": "scattercarpet"
           }
          ],
          "scattergeo": [
           {
            "marker": {
             "colorbar": {
              "outlinewidth": 0,
              "ticks": ""
             }
            },
            "type": "scattergeo"
           }
          ],
          "scattergl": [
           {
            "marker": {
             "colorbar": {
              "outlinewidth": 0,
              "ticks": ""
             }
            },
            "type": "scattergl"
           }
          ],
          "scattermapbox": [
           {
            "marker": {
             "colorbar": {
              "outlinewidth": 0,
              "ticks": ""
             }
            },
            "type": "scattermapbox"
           }
          ],
          "scatterpolar": [
           {
            "marker": {
             "colorbar": {
              "outlinewidth": 0,
              "ticks": ""
             }
            },
            "type": "scatterpolar"
           }
          ],
          "scatterpolargl": [
           {
            "marker": {
             "colorbar": {
              "outlinewidth": 0,
              "ticks": ""
             }
            },
            "type": "scatterpolargl"
           }
          ],
          "scatterternary": [
           {
            "marker": {
             "colorbar": {
              "outlinewidth": 0,
              "ticks": ""
             }
            },
            "type": "scatterternary"
           }
          ],
          "surface": [
           {
            "colorbar": {
             "outlinewidth": 0,
             "ticks": ""
            },
            "colorscale": [
             [
              0,
              "#0d0887"
             ],
             [
              0.1111111111111111,
              "#46039f"
             ],
             [
              0.2222222222222222,
              "#7201a8"
             ],
             [
              0.3333333333333333,
              "#9c179e"
             ],
             [
              0.4444444444444444,
              "#bd3786"
             ],
             [
              0.5555555555555556,
              "#d8576b"
             ],
             [
              0.6666666666666666,
              "#ed7953"
             ],
             [
              0.7777777777777778,
              "#fb9f3a"
             ],
             [
              0.8888888888888888,
              "#fdca26"
             ],
             [
              1,
              "#f0f921"
             ]
            ],
            "type": "surface"
           }
          ],
          "table": [
           {
            "cells": {
             "fill": {
              "color": "#EBF0F8"
             },
             "line": {
              "color": "white"
             }
            },
            "header": {
             "fill": {
              "color": "#C8D4E3"
             },
             "line": {
              "color": "white"
             }
            },
            "type": "table"
           }
          ]
         },
         "layout": {
          "annotationdefaults": {
           "arrowcolor": "#2a3f5f",
           "arrowhead": 0,
           "arrowwidth": 1
          },
          "autotypenumbers": "strict",
          "coloraxis": {
           "colorbar": {
            "outlinewidth": 0,
            "ticks": ""
           }
          },
          "colorscale": {
           "diverging": [
            [
             0,
             "#8e0152"
            ],
            [
             0.1,
             "#c51b7d"
            ],
            [
             0.2,
             "#de77ae"
            ],
            [
             0.3,
             "#f1b6da"
            ],
            [
             0.4,
             "#fde0ef"
            ],
            [
             0.5,
             "#f7f7f7"
            ],
            [
             0.6,
             "#e6f5d0"
            ],
            [
             0.7,
             "#b8e186"
            ],
            [
             0.8,
             "#7fbc41"
            ],
            [
             0.9,
             "#4d9221"
            ],
            [
             1,
             "#276419"
            ]
           ],
           "sequential": [
            [
             0,
             "#0d0887"
            ],
            [
             0.1111111111111111,
             "#46039f"
            ],
            [
             0.2222222222222222,
             "#7201a8"
            ],
            [
             0.3333333333333333,
             "#9c179e"
            ],
            [
             0.4444444444444444,
             "#bd3786"
            ],
            [
             0.5555555555555556,
             "#d8576b"
            ],
            [
             0.6666666666666666,
             "#ed7953"
            ],
            [
             0.7777777777777778,
             "#fb9f3a"
            ],
            [
             0.8888888888888888,
             "#fdca26"
            ],
            [
             1,
             "#f0f921"
            ]
           ],
           "sequentialminus": [
            [
             0,
             "#0d0887"
            ],
            [
             0.1111111111111111,
             "#46039f"
            ],
            [
             0.2222222222222222,
             "#7201a8"
            ],
            [
             0.3333333333333333,
             "#9c179e"
            ],
            [
             0.4444444444444444,
             "#bd3786"
            ],
            [
             0.5555555555555556,
             "#d8576b"
            ],
            [
             0.6666666666666666,
             "#ed7953"
            ],
            [
             0.7777777777777778,
             "#fb9f3a"
            ],
            [
             0.8888888888888888,
             "#fdca26"
            ],
            [
             1,
             "#f0f921"
            ]
           ]
          },
          "colorway": [
           "#636efa",
           "#EF553B",
           "#00cc96",
           "#ab63fa",
           "#FFA15A",
           "#19d3f3",
           "#FF6692",
           "#B6E880",
           "#FF97FF",
           "#FECB52"
          ],
          "font": {
           "color": "#2a3f5f"
          },
          "geo": {
           "bgcolor": "white",
           "lakecolor": "white",
           "landcolor": "#E5ECF6",
           "showlakes": true,
           "showland": true,
           "subunitcolor": "white"
          },
          "hoverlabel": {
           "align": "left"
          },
          "hovermode": "closest",
          "mapbox": {
           "style": "light"
          },
          "paper_bgcolor": "white",
          "plot_bgcolor": "#E5ECF6",
          "polar": {
           "angularaxis": {
            "gridcolor": "white",
            "linecolor": "white",
            "ticks": ""
           },
           "bgcolor": "#E5ECF6",
           "radialaxis": {
            "gridcolor": "white",
            "linecolor": "white",
            "ticks": ""
           }
          },
          "scene": {
           "xaxis": {
            "backgroundcolor": "#E5ECF6",
            "gridcolor": "white",
            "gridwidth": 2,
            "linecolor": "white",
            "showbackground": true,
            "ticks": "",
            "zerolinecolor": "white"
           },
           "yaxis": {
            "backgroundcolor": "#E5ECF6",
            "gridcolor": "white",
            "gridwidth": 2,
            "linecolor": "white",
            "showbackground": true,
            "ticks": "",
            "zerolinecolor": "white"
           },
           "zaxis": {
            "backgroundcolor": "#E5ECF6",
            "gridcolor": "white",
            "gridwidth": 2,
            "linecolor": "white",
            "showbackground": true,
            "ticks": "",
            "zerolinecolor": "white"
           }
          },
          "shapedefaults": {
           "line": {
            "color": "#2a3f5f"
           }
          },
          "ternary": {
           "aaxis": {
            "gridcolor": "white",
            "linecolor": "white",
            "ticks": ""
           },
           "baxis": {
            "gridcolor": "white",
            "linecolor": "white",
            "ticks": ""
           },
           "bgcolor": "#E5ECF6",
           "caxis": {
            "gridcolor": "white",
            "linecolor": "white",
            "ticks": ""
           }
          },
          "title": {
           "x": 0.05
          },
          "xaxis": {
           "automargin": true,
           "gridcolor": "white",
           "linecolor": "white",
           "ticks": "",
           "title": {
            "standoff": 15
           },
           "zerolinecolor": "white",
           "zerolinewidth": 2
          },
          "yaxis": {
           "automargin": true,
           "gridcolor": "white",
           "linecolor": "white",
           "ticks": "",
           "title": {
            "standoff": 15
           },
           "zerolinecolor": "white",
           "zerolinewidth": 2
          }
         }
        },
        "title": {
         "text": "Fishing Activity by Hour of the Day"
        },
        "xaxis": {
         "anchor": "y",
         "categoryarray": [
          "1AM",
          "2AM",
          "3AM",
          "4AM",
          "5AM",
          "6AM",
          "7AM",
          "8AM",
          "9AM",
          "10AM",
          "11AM",
          "12PM",
          "1PM",
          "2PM",
          "3PM",
          "4PM",
          "5PM",
          "6PM",
          "7PM",
          "8PM",
          "9PM",
          "10PM",
          "11PM",
          "12AM"
         ],
         "categoryorder": "array",
         "domain": [
          0,
          1
         ],
         "title": {
          "text": "Hour of the Day"
         },
         "type": "category"
        },
        "yaxis": {
         "anchor": "x",
         "domain": [
          0,
          1
         ],
         "range": [
          0,
          16.25
         ],
         "title": {
          "text": "Number of Fish Caught"
         }
        }
       }
      }
     },
     "metadata": {},
     "output_type": "display_data"
    }
   ],
   "source": [
    "import pandas as pd\n",
    "import plotly.express as px\n",
    "\n",
    "# Assuming 'data' is your DataFrame and 'datetime' column exists\n",
    "data['datetime'] = pd.to_datetime(data['datetime'])\n",
    "\n",
    "# Extract hour and year from 'datetime'\n",
    "data['hour'] = data['datetime'].dt.hour\n",
    "data['year'] = data['datetime'].dt.year\n",
    "\n",
    "# Group data by hour and year, and compute counts and average length\n",
    "aggregated_data = data.groupby(['hour', 'year']).agg(\n",
    "    counts=('id', 'size'),\n",
    "    average_length=('length', 'mean')\n",
    ").reset_index()\n",
    "\n",
    "max_count = data.groupby(['hour']).agg(\n",
    "    counts=('id', 'size')\n",
    ")['counts'].max()\n",
    "\n",
    "print(max_count)\n",
    "\n",
    "# Convert 24-hour to 12-hour format for the x-axis labels\n",
    "aggregated_data['hour_12'] = aggregated_data['hour'].apply(lambda x: f\"{(x % 12 or 12)}{'AM' if x < 12 else 'PM'}\")\n",
    "\n",
    "# Define a custom blue color scale that darkens with increasing values\n",
    "blue_scale = [\n",
    "    [0.0, 'rgb(173, 216, 230)'],  # Lighter blue\n",
    "    [1.0, 'rgb(0, 0, 139)']       # Darker blue\n",
    "]\n",
    "\n",
    "# Order for the 12-hour clock labels, ensuring correct sequence\n",
    "hour_order = [f\"{h}AM\" for h in range(1, 12)] + [\"12PM\"] + [f\"{h}PM\" for h in range(1, 12)] + [\"12AM\"]\n",
    "\n",
    "# Plotting the data using a uniform blue color scale that darkens with higher averages\n",
    "fig = px.bar(\n",
    "    aggregated_data,\n",
    "    x='hour_12',\n",
    "    y='counts',\n",
    "    title='Fishing Activity by Hour of the Day',\n",
    "    labels={'hour_12': 'Hour of the Day', 'counts': 'Number of Fish Caught'},\n",
    "    color='average_length',\n",
    "    text=aggregated_data.apply(lambda row: f\"{row['counts']} Caught<br>Avg. Length: {row['average_length']:.2f}\\\"\", axis=1),\n",
    "    color_continuous_scale=blue_scale,\n",
    "    barmode='group',  # Ensures bars are grouped, not stacked\n",
    "    category_orders={\"hour_12\": hour_order, \"year\": sorted(aggregated_data['year'].unique())}\n",
    ")\n",
    "\n",
    "fig.update_traces(texttemplate='%{text}', textposition='outside')\n",
    "fig.update_layout(\n",
    "    xaxis_title='Hour of the Day',\n",
    "    yaxis_title='Number of Fish Caught',\n",
    "    xaxis={'type': 'category'},\n",
    "    yaxis=dict(range=[0, max_count * 1.25]),\n",
    "    coloraxis_colorbar=dict(title='Average Length (inches)')\n",
    ")\n",
    "fig.show()\n"
   ]
  },
  {
   "cell_type": "code",
   "execution_count": 8,
   "metadata": {},
   "outputs": [
    {
     "data": {
      "application/vnd.plotly.v1+json": {
       "config": {
        "plotlyServerURL": "https://plot.ly"
       },
       "data": [
        {
         "customdata": [
          [
           17,
           "08:30"
          ],
          [
           17.75,
           "08:43"
          ],
          [
           16.5,
           "10:50"
          ],
          [
           18.75,
           "11:39"
          ],
          [
           15,
           "12:03"
          ],
          [
           14.5,
           "12:30"
          ],
          [
           15.5,
           "12:40"
          ],
          [
           14,
           "12:45"
          ],
          [
           17,
           "12:50"
          ],
          [
           14.5,
           "13:00"
          ],
          [
           15,
           "13:10"
          ],
          [
           14.5,
           "13:15"
          ],
          [
           15.5,
           "13:15"
          ],
          [
           16.5,
           "13:25"
          ],
          [
           16,
           "13:30"
          ],
          [
           15,
           "14:00"
          ],
          [
           13,
           "14:00"
          ],
          [
           15.5,
           "14:00"
          ],
          [
           16,
           "14:30"
          ],
          [
           14,
           "14:45"
          ],
          [
           13.5,
           "15:00"
          ],
          [
           16,
           "15:00"
          ],
          [
           21,
           "15:10"
          ],
          [
           16,
           "15:40"
          ],
          [
           13.5,
           "15:45"
          ],
          [
           17.25,
           "15:45"
          ],
          [
           16,
           "16:25"
          ],
          [
           16,
           "16:45"
          ],
          [
           13,
           "16:45"
          ],
          [
           15,
           "17:00"
          ],
          [
           16,
           "17:15"
          ],
          [
           14,
           "17:45"
          ]
         ],
         "hovertemplate": "year_color=2023<br>minutes_since_8AM=%{x}<br>Depth (feet)=%{y}<br>scaled_length=%{marker.size}<br>length=%{customdata[0]}<br>Time of Day (HH:MM)=%{customdata[1]}<extra></extra>",
         "legendgroup": "2023",
         "marker": {
          "color": "blue",
          "opacity": 0.5,
          "size": [
           18.421052631578945,
           20,
           17.36842105263158,
           22.105263157894736,
           14.210526315789473,
           13.157894736842106,
           15.263157894736842,
           12.105263157894736,
           18.421052631578945,
           13.157894736842106,
           14.210526315789473,
           13.157894736842106,
           15.263157894736842,
           17.36842105263158,
           16.315789473684212,
           14.210526315789473,
           10,
           15.263157894736842,
           16.315789473684212,
           12.105263157894736,
           11.052631578947368,
           16.315789473684212,
           26.842105263157894,
           16.315789473684212,
           11.052631578947368,
           18.94736842105263,
           16.315789473684212,
           16.315789473684212,
           10,
           14.210526315789473,
           16.315789473684212,
           12.105263157894736
          ],
          "sizemode": "area",
          "sizeref": 0.075,
          "symbol": "circle"
         },
         "mode": "markers",
         "name": "2023",
         "orientation": "v",
         "showlegend": true,
         "type": "scatter",
         "x": [
          30,
          43,
          170,
          219,
          243,
          270,
          280,
          285,
          290,
          300,
          310,
          315,
          315,
          325,
          330,
          360,
          360,
          360,
          390,
          405,
          420,
          420,
          430,
          460,
          465,
          465,
          505,
          525,
          525,
          540,
          555,
          585
         ],
         "xaxis": "x",
         "y": [
          -10,
          -9,
          -13,
          -9,
          -9,
          -10,
          -12,
          -9.5,
          -9.5,
          -12,
          -9.5,
          -12,
          -9.5,
          -11.5,
          -10,
          -9,
          -9,
          -20,
          -9,
          -9,
          -19,
          -8.5,
          -11,
          -7,
          -12,
          -11,
          -12,
          -7,
          -7,
          -11,
          -10,
          -12
         ],
         "yaxis": "y"
        },
        {
         "customdata": [
          [
           16,
           "08:45"
          ],
          [
           17.5,
           "08:50"
          ],
          [
           17,
           "09:30"
          ],
          [
           17.5,
           "09:31"
          ],
          [
           16,
           "10:05"
          ],
          [
           18.25,
           "10:06"
          ],
          [
           17.5,
           "11:00"
          ],
          [
           17,
           "11:01"
          ],
          [
           16.5,
           "11:05"
          ],
          [
           15.5,
           "11:12"
          ],
          [
           16,
           "11:40"
          ],
          [
           17,
           "12:21"
          ],
          [
           18,
           "12:23"
          ],
          [
           18.5,
           "12:29"
          ],
          [
           17.5,
           "12:35"
          ],
          [
           13,
           "12:37"
          ],
          [
           17,
           "12:50"
          ],
          [
           14,
           "12:56"
          ],
          [
           16,
           "13:02"
          ],
          [
           14,
           "13:22"
          ],
          [
           14,
           "13:25"
          ],
          [
           13.5,
           "13:30"
          ],
          [
           17.5,
           "13:30"
          ],
          [
           16.25,
           "13:45"
          ],
          [
           17,
           "13:53"
          ],
          [
           22.5,
           "14:05"
          ],
          [
           15,
           "14:15"
          ],
          [
           16,
           "14:20"
          ],
          [
           19,
           "14:23"
          ],
          [
           16,
           "14:35"
          ]
         ],
         "hovertemplate": "year_color=2024<br>minutes_since_8AM=%{x}<br>Depth (feet)=%{y}<br>scaled_length=%{marker.size}<br>length=%{customdata[0]}<br>Time of Day (HH:MM)=%{customdata[1]}<extra></extra>",
         "legendgroup": "2024",
         "marker": {
          "color": "red",
          "opacity": 0.5,
          "size": [
           16.315789473684212,
           19.473684210526315,
           18.421052631578945,
           19.473684210526315,
           16.315789473684212,
           21.05263157894737,
           19.473684210526315,
           18.421052631578945,
           17.36842105263158,
           15.263157894736842,
           16.315789473684212,
           18.421052631578945,
           20.526315789473685,
           21.578947368421055,
           19.473684210526315,
           10,
           18.421052631578945,
           12.105263157894736,
           16.315789473684212,
           12.105263157894736,
           12.105263157894736,
           11.052631578947368,
           19.473684210526315,
           16.842105263157894,
           18.421052631578945,
           30,
           14.210526315789473,
           16.315789473684212,
           22.63157894736842,
           16.315789473684212
          ],
          "sizemode": "area",
          "sizeref": 0.075,
          "symbol": "circle"
         },
         "mode": "markers",
         "name": "2024",
         "orientation": "v",
         "showlegend": true,
         "type": "scatter",
         "x": [
          45,
          50,
          90,
          91,
          125,
          126,
          180,
          181,
          185,
          192,
          220,
          261,
          263,
          269,
          275,
          277,
          290,
          296,
          302,
          322,
          325,
          330,
          330,
          345,
          353,
          365,
          375,
          380,
          383,
          395
         ],
         "xaxis": "x",
         "y": [
          -11,
          -9.5,
          -9.5,
          -9,
          -11,
          -11,
          -8,
          -6.5,
          -10,
          -11,
          -12.5,
          -11,
          -9.5,
          -13.5,
          -10.5,
          -8.5,
          -12,
          -12,
          -11,
          -10.5,
          -10.5,
          -11,
          -12.5,
          -16,
          -16,
          -14,
          -11,
          -8,
          -7,
          -7
         ],
         "yaxis": "y"
        }
       ],
       "layout": {
        "legend": {
         "itemsizing": "constant",
         "title": {
          "text": "year_color"
         },
         "tracegroupgap": 0
        },
        "template": {
         "data": {
          "bar": [
           {
            "error_x": {
             "color": "#2a3f5f"
            },
            "error_y": {
             "color": "#2a3f5f"
            },
            "marker": {
             "line": {
              "color": "#E5ECF6",
              "width": 0.5
             },
             "pattern": {
              "fillmode": "overlay",
              "size": 10,
              "solidity": 0.2
             }
            },
            "type": "bar"
           }
          ],
          "barpolar": [
           {
            "marker": {
             "line": {
              "color": "#E5ECF6",
              "width": 0.5
             },
             "pattern": {
              "fillmode": "overlay",
              "size": 10,
              "solidity": 0.2
             }
            },
            "type": "barpolar"
           }
          ],
          "carpet": [
           {
            "aaxis": {
             "endlinecolor": "#2a3f5f",
             "gridcolor": "white",
             "linecolor": "white",
             "minorgridcolor": "white",
             "startlinecolor": "#2a3f5f"
            },
            "baxis": {
             "endlinecolor": "#2a3f5f",
             "gridcolor": "white",
             "linecolor": "white",
             "minorgridcolor": "white",
             "startlinecolor": "#2a3f5f"
            },
            "type": "carpet"
           }
          ],
          "choropleth": [
           {
            "colorbar": {
             "outlinewidth": 0,
             "ticks": ""
            },
            "type": "choropleth"
           }
          ],
          "contour": [
           {
            "colorbar": {
             "outlinewidth": 0,
             "ticks": ""
            },
            "colorscale": [
             [
              0,
              "#0d0887"
             ],
             [
              0.1111111111111111,
              "#46039f"
             ],
             [
              0.2222222222222222,
              "#7201a8"
             ],
             [
              0.3333333333333333,
              "#9c179e"
             ],
             [
              0.4444444444444444,
              "#bd3786"
             ],
             [
              0.5555555555555556,
              "#d8576b"
             ],
             [
              0.6666666666666666,
              "#ed7953"
             ],
             [
              0.7777777777777778,
              "#fb9f3a"
             ],
             [
              0.8888888888888888,
              "#fdca26"
             ],
             [
              1,
              "#f0f921"
             ]
            ],
            "type": "contour"
           }
          ],
          "contourcarpet": [
           {
            "colorbar": {
             "outlinewidth": 0,
             "ticks": ""
            },
            "type": "contourcarpet"
           }
          ],
          "heatmap": [
           {
            "colorbar": {
             "outlinewidth": 0,
             "ticks": ""
            },
            "colorscale": [
             [
              0,
              "#0d0887"
             ],
             [
              0.1111111111111111,
              "#46039f"
             ],
             [
              0.2222222222222222,
              "#7201a8"
             ],
             [
              0.3333333333333333,
              "#9c179e"
             ],
             [
              0.4444444444444444,
              "#bd3786"
             ],
             [
              0.5555555555555556,
              "#d8576b"
             ],
             [
              0.6666666666666666,
              "#ed7953"
             ],
             [
              0.7777777777777778,
              "#fb9f3a"
             ],
             [
              0.8888888888888888,
              "#fdca26"
             ],
             [
              1,
              "#f0f921"
             ]
            ],
            "type": "heatmap"
           }
          ],
          "heatmapgl": [
           {
            "colorbar": {
             "outlinewidth": 0,
             "ticks": ""
            },
            "colorscale": [
             [
              0,
              "#0d0887"
             ],
             [
              0.1111111111111111,
              "#46039f"
             ],
             [
              0.2222222222222222,
              "#7201a8"
             ],
             [
              0.3333333333333333,
              "#9c179e"
             ],
             [
              0.4444444444444444,
              "#bd3786"
             ],
             [
              0.5555555555555556,
              "#d8576b"
             ],
             [
              0.6666666666666666,
              "#ed7953"
             ],
             [
              0.7777777777777778,
              "#fb9f3a"
             ],
             [
              0.8888888888888888,
              "#fdca26"
             ],
             [
              1,
              "#f0f921"
             ]
            ],
            "type": "heatmapgl"
           }
          ],
          "histogram": [
           {
            "marker": {
             "pattern": {
              "fillmode": "overlay",
              "size": 10,
              "solidity": 0.2
             }
            },
            "type": "histogram"
           }
          ],
          "histogram2d": [
           {
            "colorbar": {
             "outlinewidth": 0,
             "ticks": ""
            },
            "colorscale": [
             [
              0,
              "#0d0887"
             ],
             [
              0.1111111111111111,
              "#46039f"
             ],
             [
              0.2222222222222222,
              "#7201a8"
             ],
             [
              0.3333333333333333,
              "#9c179e"
             ],
             [
              0.4444444444444444,
              "#bd3786"
             ],
             [
              0.5555555555555556,
              "#d8576b"
             ],
             [
              0.6666666666666666,
              "#ed7953"
             ],
             [
              0.7777777777777778,
              "#fb9f3a"
             ],
             [
              0.8888888888888888,
              "#fdca26"
             ],
             [
              1,
              "#f0f921"
             ]
            ],
            "type": "histogram2d"
           }
          ],
          "histogram2dcontour": [
           {
            "colorbar": {
             "outlinewidth": 0,
             "ticks": ""
            },
            "colorscale": [
             [
              0,
              "#0d0887"
             ],
             [
              0.1111111111111111,
              "#46039f"
             ],
             [
              0.2222222222222222,
              "#7201a8"
             ],
             [
              0.3333333333333333,
              "#9c179e"
             ],
             [
              0.4444444444444444,
              "#bd3786"
             ],
             [
              0.5555555555555556,
              "#d8576b"
             ],
             [
              0.6666666666666666,
              "#ed7953"
             ],
             [
              0.7777777777777778,
              "#fb9f3a"
             ],
             [
              0.8888888888888888,
              "#fdca26"
             ],
             [
              1,
              "#f0f921"
             ]
            ],
            "type": "histogram2dcontour"
           }
          ],
          "mesh3d": [
           {
            "colorbar": {
             "outlinewidth": 0,
             "ticks": ""
            },
            "type": "mesh3d"
           }
          ],
          "parcoords": [
           {
            "line": {
             "colorbar": {
              "outlinewidth": 0,
              "ticks": ""
             }
            },
            "type": "parcoords"
           }
          ],
          "pie": [
           {
            "automargin": true,
            "type": "pie"
           }
          ],
          "scatter": [
           {
            "fillpattern": {
             "fillmode": "overlay",
             "size": 10,
             "solidity": 0.2
            },
            "type": "scatter"
           }
          ],
          "scatter3d": [
           {
            "line": {
             "colorbar": {
              "outlinewidth": 0,
              "ticks": ""
             }
            },
            "marker": {
             "colorbar": {
              "outlinewidth": 0,
              "ticks": ""
             }
            },
            "type": "scatter3d"
           }
          ],
          "scattercarpet": [
           {
            "marker": {
             "colorbar": {
              "outlinewidth": 0,
              "ticks": ""
             }
            },
            "type": "scattercarpet"
           }
          ],
          "scattergeo": [
           {
            "marker": {
             "colorbar": {
              "outlinewidth": 0,
              "ticks": ""
             }
            },
            "type": "scattergeo"
           }
          ],
          "scattergl": [
           {
            "marker": {
             "colorbar": {
              "outlinewidth": 0,
              "ticks": ""
             }
            },
            "type": "scattergl"
           }
          ],
          "scattermapbox": [
           {
            "marker": {
             "colorbar": {
              "outlinewidth": 0,
              "ticks": ""
             }
            },
            "type": "scattermapbox"
           }
          ],
          "scatterpolar": [
           {
            "marker": {
             "colorbar": {
              "outlinewidth": 0,
              "ticks": ""
             }
            },
            "type": "scatterpolar"
           }
          ],
          "scatterpolargl": [
           {
            "marker": {
             "colorbar": {
              "outlinewidth": 0,
              "ticks": ""
             }
            },
            "type": "scatterpolargl"
           }
          ],
          "scatterternary": [
           {
            "marker": {
             "colorbar": {
              "outlinewidth": 0,
              "ticks": ""
             }
            },
            "type": "scatterternary"
           }
          ],
          "surface": [
           {
            "colorbar": {
             "outlinewidth": 0,
             "ticks": ""
            },
            "colorscale": [
             [
              0,
              "#0d0887"
             ],
             [
              0.1111111111111111,
              "#46039f"
             ],
             [
              0.2222222222222222,
              "#7201a8"
             ],
             [
              0.3333333333333333,
              "#9c179e"
             ],
             [
              0.4444444444444444,
              "#bd3786"
             ],
             [
              0.5555555555555556,
              "#d8576b"
             ],
             [
              0.6666666666666666,
              "#ed7953"
             ],
             [
              0.7777777777777778,
              "#fb9f3a"
             ],
             [
              0.8888888888888888,
              "#fdca26"
             ],
             [
              1,
              "#f0f921"
             ]
            ],
            "type": "surface"
           }
          ],
          "table": [
           {
            "cells": {
             "fill": {
              "color": "#EBF0F8"
             },
             "line": {
              "color": "white"
             }
            },
            "header": {
             "fill": {
              "color": "#C8D4E3"
             },
             "line": {
              "color": "white"
             }
            },
            "type": "table"
           }
          ]
         },
         "layout": {
          "annotationdefaults": {
           "arrowcolor": "#2a3f5f",
           "arrowhead": 0,
           "arrowwidth": 1
          },
          "autotypenumbers": "strict",
          "coloraxis": {
           "colorbar": {
            "outlinewidth": 0,
            "ticks": ""
           }
          },
          "colorscale": {
           "diverging": [
            [
             0,
             "#8e0152"
            ],
            [
             0.1,
             "#c51b7d"
            ],
            [
             0.2,
             "#de77ae"
            ],
            [
             0.3,
             "#f1b6da"
            ],
            [
             0.4,
             "#fde0ef"
            ],
            [
             0.5,
             "#f7f7f7"
            ],
            [
             0.6,
             "#e6f5d0"
            ],
            [
             0.7,
             "#b8e186"
            ],
            [
             0.8,
             "#7fbc41"
            ],
            [
             0.9,
             "#4d9221"
            ],
            [
             1,
             "#276419"
            ]
           ],
           "sequential": [
            [
             0,
             "#0d0887"
            ],
            [
             0.1111111111111111,
             "#46039f"
            ],
            [
             0.2222222222222222,
             "#7201a8"
            ],
            [
             0.3333333333333333,
             "#9c179e"
            ],
            [
             0.4444444444444444,
             "#bd3786"
            ],
            [
             0.5555555555555556,
             "#d8576b"
            ],
            [
             0.6666666666666666,
             "#ed7953"
            ],
            [
             0.7777777777777778,
             "#fb9f3a"
            ],
            [
             0.8888888888888888,
             "#fdca26"
            ],
            [
             1,
             "#f0f921"
            ]
           ],
           "sequentialminus": [
            [
             0,
             "#0d0887"
            ],
            [
             0.1111111111111111,
             "#46039f"
            ],
            [
             0.2222222222222222,
             "#7201a8"
            ],
            [
             0.3333333333333333,
             "#9c179e"
            ],
            [
             0.4444444444444444,
             "#bd3786"
            ],
            [
             0.5555555555555556,
             "#d8576b"
            ],
            [
             0.6666666666666666,
             "#ed7953"
            ],
            [
             0.7777777777777778,
             "#fb9f3a"
            ],
            [
             0.8888888888888888,
             "#fdca26"
            ],
            [
             1,
             "#f0f921"
            ]
           ]
          },
          "colorway": [
           "#636efa",
           "#EF553B",
           "#00cc96",
           "#ab63fa",
           "#FFA15A",
           "#19d3f3",
           "#FF6692",
           "#B6E880",
           "#FF97FF",
           "#FECB52"
          ],
          "font": {
           "color": "#2a3f5f"
          },
          "geo": {
           "bgcolor": "white",
           "lakecolor": "white",
           "landcolor": "#E5ECF6",
           "showlakes": true,
           "showland": true,
           "subunitcolor": "white"
          },
          "hoverlabel": {
           "align": "left"
          },
          "hovermode": "closest",
          "mapbox": {
           "style": "light"
          },
          "paper_bgcolor": "white",
          "plot_bgcolor": "#E5ECF6",
          "polar": {
           "angularaxis": {
            "gridcolor": "white",
            "linecolor": "white",
            "ticks": ""
           },
           "bgcolor": "#E5ECF6",
           "radialaxis": {
            "gridcolor": "white",
            "linecolor": "white",
            "ticks": ""
           }
          },
          "scene": {
           "xaxis": {
            "backgroundcolor": "#E5ECF6",
            "gridcolor": "white",
            "gridwidth": 2,
            "linecolor": "white",
            "showbackground": true,
            "ticks": "",
            "zerolinecolor": "white"
           },
           "yaxis": {
            "backgroundcolor": "#E5ECF6",
            "gridcolor": "white",
            "gridwidth": 2,
            "linecolor": "white",
            "showbackground": true,
            "ticks": "",
            "zerolinecolor": "white"
           },
           "zaxis": {
            "backgroundcolor": "#E5ECF6",
            "gridcolor": "white",
            "gridwidth": 2,
            "linecolor": "white",
            "showbackground": true,
            "ticks": "",
            "zerolinecolor": "white"
           }
          },
          "shapedefaults": {
           "line": {
            "color": "#2a3f5f"
           }
          },
          "ternary": {
           "aaxis": {
            "gridcolor": "white",
            "linecolor": "white",
            "ticks": ""
           },
           "baxis": {
            "gridcolor": "white",
            "linecolor": "white",
            "ticks": ""
           },
           "bgcolor": "#E5ECF6",
           "caxis": {
            "gridcolor": "white",
            "linecolor": "white",
            "ticks": ""
           }
          },
          "title": {
           "x": 0.05
          },
          "xaxis": {
           "automargin": true,
           "gridcolor": "white",
           "linecolor": "white",
           "ticks": "",
           "title": {
            "standoff": 15
           },
           "zerolinecolor": "white",
           "zerolinewidth": 2
          },
          "yaxis": {
           "automargin": true,
           "gridcolor": "white",
           "linecolor": "white",
           "ticks": "",
           "title": {
            "standoff": 15
           },
           "zerolinecolor": "white",
           "zerolinewidth": 2
          }
         }
        },
        "title": {
         "text": "Scatter Plot of Depth vs. Time of Day with Dot Size Representing Fish Length"
        },
        "xaxis": {
         "anchor": "y",
         "domain": [
          0,
          1
         ],
         "ticktext": [
          "8:00",
          "9:00",
          "10:00",
          "11:00",
          "12:00",
          "13:00",
          "14:00",
          "15:00",
          "16:00",
          "17:00",
          "18:00",
          "19:00",
          "20:00"
         ],
         "tickvals": [
          0,
          60,
          120,
          180,
          240,
          300,
          360,
          420,
          480,
          540,
          600,
          660,
          720
         ],
         "title": {
          "text": "Time of Day (8 AM to 8 PM)"
         }
        },
        "yaxis": {
         "anchor": "x",
         "domain": [
          0,
          1
         ],
         "title": {
          "text": "Depth (feet)"
         }
        }
       }
      }
     },
     "metadata": {},
     "output_type": "display_data"
    }
   ],
   "source": [
    "import plotly.express as px\n",
    "import datetime\n",
    "\n",
    "# Extracting just the time for plotting purposes and filtering\n",
    "data['time_of_day'] = data['datetime'].dt.time\n",
    "data.sort_values('time_of_day', inplace=True)\n",
    "\n",
    "data['year_color'] = data['year'].astype(str)\n",
    "\n",
    "# Convert time_of_day to minutes since 8 AM\n",
    "data['minutes_since_8AM'] = data['datetime'].apply(lambda dt: (dt.hour - 8) * 60 + dt.minute)\n",
    "\n",
    "min_size, max_size = 10, 30\n",
    "length_min, length_max = data['length'].min(), data['length'].max()\n",
    "data['scaled_length'] = data['length'].apply(\n",
    "    lambda x: ((x - length_min) / (length_max - length_min) * (max_size - min_size) + min_size)\n",
    ")\n",
    "\n",
    "# Adding a column to store the time of day in HH:MM format\n",
    "data['time_of_day_HHMM'] = data['datetime'].dt.strftime('%H:%M')\n",
    "\n",
    "# Creating the scatter plot with custom colors for 2023 and 2024\n",
    "fig = px.scatter(\n",
    "    data,\n",
    "    x='minutes_since_8AM',\n",
    "    y='depth',\n",
    "    size='scaled_length',  # Using scaled length for size\n",
    "    color='year_color',\n",
    "    opacity=0.5,\n",
    "    title='Scatter Plot of Depth vs. Time of Day with Dot Size Representing Fish Length',\n",
    "    labels={\n",
    "        'depth': 'Depth (feet)',\n",
    "        'time_of_day_HHMM': 'Time of Day (HH:MM)'\n",
    "    },\n",
    "    hover_data={'length': True, 'time_of_day_HHMM': True},  # Show actual length and formatted time on hover\n",
    "    color_discrete_map={\n",
    "        '2023': 'blue',\n",
    "        '2024': 'red'\n",
    "    }\n",
    ")\n",
    "\n",
    "# Define hourly ticks from 8 AM to 8 PM\n",
    "hourly_ticks = [(h - 8) * 60 for h in range(8, 21)]\n",
    "hour_labels = [f\"{h}:00\" for h in range(8, 21)]\n",
    "\n",
    "# Set custom tick labels\n",
    "fig.update_xaxes(tickvals=hourly_ticks, ticktext=hour_labels)\n",
    "\n",
    "# Set titles for clarity\n",
    "fig.update_layout(xaxis_title='Time of Day (8 AM to 8 PM)', yaxis_title='Depth (feet)')\n",
    "\n",
    "fig.show()\n"
   ]
  },
  {
   "cell_type": "code",
   "execution_count": 23,
   "metadata": {},
   "outputs": [
    {
     "data": {
      "application/vnd.plotly.v1+json": {
       "config": {
        "plotlyServerURL": "https://plot.ly"
       },
       "data": [
        {
         "marker": {
          "cmax": 17.25,
          "cmin": 15,
          "color": [
           17.0625,
           17.25,
           16.916666666666668,
           16.875,
           15.916666666666666,
           15.403846153846153,
           16.2,
           16.208333333333332,
           15,
           15
          ],
          "colorscale": [
           [
            0,
            "rgb(173, 216, 230)"
           ],
           [
            1,
            "rgb(0, 0, 139)"
           ]
          ]
         },
         "name": "Fish Caught by Hour",
         "text": [
          "4 Caught<br>Avg. Length: 17.06\"",
          "2 Caught<br>Avg. Length: 17.25\"",
          "3 Caught<br>Avg. Length: 16.92\"",
          "6 Caught<br>Avg. Length: 16.88\"",
          "12 Caught<br>Avg. Length: 15.92\"",
          "13 Caught<br>Avg. Length: 15.40\"",
          "10 Caught<br>Avg. Length: 16.20\"",
          "6 Caught<br>Avg. Length: 16.21\"",
          "3 Caught<br>Avg. Length: 15.00\"",
          "3 Caught<br>Avg. Length: 15.00\""
         ],
         "textposition": "outside",
         "texttemplate": "%{text}",
         "type": "bar",
         "x": [
          "8AM",
          "9AM",
          "10AM",
          "11AM",
          "12PM",
          "1PM",
          "2PM",
          "3PM",
          "4PM",
          "5PM"
         ],
         "xaxis": "x2",
         "y": [
          4,
          2,
          3,
          6,
          12,
          13,
          10,
          6,
          3,
          3
         ],
         "yaxis": "y2"
        },
        {
         "marker": {
          "color": [
           -10,
           -9,
           -11,
           -9.5,
           -9.5,
           -9,
           -11,
           -11,
           -13,
           -8,
           -6.5,
           -10,
           -11,
           -9,
           -12.5,
           -9,
           -11,
           -9.5,
           -13.5,
           -10,
           -10.5,
           -8.5,
           -12,
           -9.5,
           -12,
           -9.5,
           -12,
           -12,
           -11,
           -9.5,
           -12,
           -9.5,
           -10.5,
           -10.5,
           -11.5,
           -11,
           -10,
           -12.5,
           -16,
           -16,
           -9,
           -9,
           -20,
           -14,
           -11,
           -8,
           -7,
           -9,
           -7,
           -9,
           -19,
           -8.5,
           -11,
           -7,
           -12,
           -11,
           -12,
           -7,
           -7,
           -11,
           -10,
           -12
          ],
          "showscale": false,
          "size": [
           18.421052631578945,
           20,
           16.315789473684212,
           19.473684210526315,
           18.421052631578945,
           19.473684210526315,
           16.315789473684212,
           21.05263157894737,
           17.36842105263158,
           19.473684210526315,
           18.421052631578945,
           17.36842105263158,
           15.263157894736842,
           22.105263157894736,
           16.315789473684212,
           14.210526315789473,
           18.421052631578945,
           20.526315789473685,
           21.578947368421055,
           13.157894736842106,
           19.473684210526315,
           10,
           15.263157894736842,
           12.105263157894736,
           18.421052631578945,
           18.421052631578945,
           12.105263157894736,
           13.157894736842106,
           16.315789473684212,
           14.210526315789473,
           13.157894736842106,
           15.263157894736842,
           12.105263157894736,
           12.105263157894736,
           17.36842105263158,
           11.052631578947368,
           16.315789473684212,
           19.473684210526315,
           16.842105263157894,
           18.421052631578945,
           14.210526315789473,
           10,
           15.263157894736842,
           30,
           14.210526315789473,
           16.315789473684212,
           22.63157894736842,
           16.315789473684212,
           16.315789473684212,
           12.105263157894736,
           11.052631578947368,
           16.315789473684212,
           26.842105263157894,
           16.315789473684212,
           11.052631578947368,
           18.94736842105263,
           16.315789473684212,
           16.315789473684212,
           10,
           14.210526315789473,
           16.315789473684212,
           12.105263157894736
          ]
         },
         "mode": "markers",
         "name": "Depth vs. Time of Day",
         "type": "scatter",
         "x": [
          30,
          43,
          45,
          50,
          90,
          91,
          125,
          126,
          170,
          180,
          181,
          185,
          192,
          219,
          220,
          243,
          261,
          263,
          269,
          270,
          275,
          277,
          280,
          285,
          290,
          290,
          296,
          300,
          302,
          310,
          315,
          315,
          322,
          325,
          325,
          330,
          330,
          330,
          345,
          353,
          360,
          360,
          360,
          365,
          375,
          380,
          383,
          390,
          395,
          405,
          420,
          420,
          430,
          460,
          465,
          465,
          505,
          525,
          525,
          540,
          555,
          585
         ],
         "xaxis": "x",
         "y": [
          -10,
          -9,
          -11,
          -9.5,
          -9.5,
          -9,
          -11,
          -11,
          -13,
          -8,
          -6.5,
          -10,
          -11,
          -9,
          -12.5,
          -9,
          -11,
          -9.5,
          -13.5,
          -10,
          -10.5,
          -8.5,
          -12,
          -9.5,
          -12,
          -9.5,
          -12,
          -12,
          -11,
          -9.5,
          -12,
          -9.5,
          -10.5,
          -10.5,
          -11.5,
          -11,
          -10,
          -12.5,
          -16,
          -16,
          -9,
          -9,
          -20,
          -14,
          -11,
          -8,
          -7,
          -9,
          -7,
          -9,
          -19,
          -8.5,
          -11,
          -7,
          -12,
          -11,
          -12,
          -7,
          -7,
          -11,
          -10,
          -12
         ],
         "yaxis": "y"
        }
       ],
       "layout": {
        "height": 800,
        "template": {
         "data": {
          "bar": [
           {
            "error_x": {
             "color": "#2a3f5f"
            },
            "error_y": {
             "color": "#2a3f5f"
            },
            "marker": {
             "line": {
              "color": "#E5ECF6",
              "width": 0.5
             },
             "pattern": {
              "fillmode": "overlay",
              "size": 10,
              "solidity": 0.2
             }
            },
            "type": "bar"
           }
          ],
          "barpolar": [
           {
            "marker": {
             "line": {
              "color": "#E5ECF6",
              "width": 0.5
             },
             "pattern": {
              "fillmode": "overlay",
              "size": 10,
              "solidity": 0.2
             }
            },
            "type": "barpolar"
           }
          ],
          "carpet": [
           {
            "aaxis": {
             "endlinecolor": "#2a3f5f",
             "gridcolor": "white",
             "linecolor": "white",
             "minorgridcolor": "white",
             "startlinecolor": "#2a3f5f"
            },
            "baxis": {
             "endlinecolor": "#2a3f5f",
             "gridcolor": "white",
             "linecolor": "white",
             "minorgridcolor": "white",
             "startlinecolor": "#2a3f5f"
            },
            "type": "carpet"
           }
          ],
          "choropleth": [
           {
            "colorbar": {
             "outlinewidth": 0,
             "ticks": ""
            },
            "type": "choropleth"
           }
          ],
          "contour": [
           {
            "colorbar": {
             "outlinewidth": 0,
             "ticks": ""
            },
            "colorscale": [
             [
              0,
              "#0d0887"
             ],
             [
              0.1111111111111111,
              "#46039f"
             ],
             [
              0.2222222222222222,
              "#7201a8"
             ],
             [
              0.3333333333333333,
              "#9c179e"
             ],
             [
              0.4444444444444444,
              "#bd3786"
             ],
             [
              0.5555555555555556,
              "#d8576b"
             ],
             [
              0.6666666666666666,
              "#ed7953"
             ],
             [
              0.7777777777777778,
              "#fb9f3a"
             ],
             [
              0.8888888888888888,
              "#fdca26"
             ],
             [
              1,
              "#f0f921"
             ]
            ],
            "type": "contour"
           }
          ],
          "contourcarpet": [
           {
            "colorbar": {
             "outlinewidth": 0,
             "ticks": ""
            },
            "type": "contourcarpet"
           }
          ],
          "heatmap": [
           {
            "colorbar": {
             "outlinewidth": 0,
             "ticks": ""
            },
            "colorscale": [
             [
              0,
              "#0d0887"
             ],
             [
              0.1111111111111111,
              "#46039f"
             ],
             [
              0.2222222222222222,
              "#7201a8"
             ],
             [
              0.3333333333333333,
              "#9c179e"
             ],
             [
              0.4444444444444444,
              "#bd3786"
             ],
             [
              0.5555555555555556,
              "#d8576b"
             ],
             [
              0.6666666666666666,
              "#ed7953"
             ],
             [
              0.7777777777777778,
              "#fb9f3a"
             ],
             [
              0.8888888888888888,
              "#fdca26"
             ],
             [
              1,
              "#f0f921"
             ]
            ],
            "type": "heatmap"
           }
          ],
          "heatmapgl": [
           {
            "colorbar": {
             "outlinewidth": 0,
             "ticks": ""
            },
            "colorscale": [
             [
              0,
              "#0d0887"
             ],
             [
              0.1111111111111111,
              "#46039f"
             ],
             [
              0.2222222222222222,
              "#7201a8"
             ],
             [
              0.3333333333333333,
              "#9c179e"
             ],
             [
              0.4444444444444444,
              "#bd3786"
             ],
             [
              0.5555555555555556,
              "#d8576b"
             ],
             [
              0.6666666666666666,
              "#ed7953"
             ],
             [
              0.7777777777777778,
              "#fb9f3a"
             ],
             [
              0.8888888888888888,
              "#fdca26"
             ],
             [
              1,
              "#f0f921"
             ]
            ],
            "type": "heatmapgl"
           }
          ],
          "histogram": [
           {
            "marker": {
             "pattern": {
              "fillmode": "overlay",
              "size": 10,
              "solidity": 0.2
             }
            },
            "type": "histogram"
           }
          ],
          "histogram2d": [
           {
            "colorbar": {
             "outlinewidth": 0,
             "ticks": ""
            },
            "colorscale": [
             [
              0,
              "#0d0887"
             ],
             [
              0.1111111111111111,
              "#46039f"
             ],
             [
              0.2222222222222222,
              "#7201a8"
             ],
             [
              0.3333333333333333,
              "#9c179e"
             ],
             [
              0.4444444444444444,
              "#bd3786"
             ],
             [
              0.5555555555555556,
              "#d8576b"
             ],
             [
              0.6666666666666666,
              "#ed7953"
             ],
             [
              0.7777777777777778,
              "#fb9f3a"
             ],
             [
              0.8888888888888888,
              "#fdca26"
             ],
             [
              1,
              "#f0f921"
             ]
            ],
            "type": "histogram2d"
           }
          ],
          "histogram2dcontour": [
           {
            "colorbar": {
             "outlinewidth": 0,
             "ticks": ""
            },
            "colorscale": [
             [
              0,
              "#0d0887"
             ],
             [
              0.1111111111111111,
              "#46039f"
             ],
             [
              0.2222222222222222,
              "#7201a8"
             ],
             [
              0.3333333333333333,
              "#9c179e"
             ],
             [
              0.4444444444444444,
              "#bd3786"
             ],
             [
              0.5555555555555556,
              "#d8576b"
             ],
             [
              0.6666666666666666,
              "#ed7953"
             ],
             [
              0.7777777777777778,
              "#fb9f3a"
             ],
             [
              0.8888888888888888,
              "#fdca26"
             ],
             [
              1,
              "#f0f921"
             ]
            ],
            "type": "histogram2dcontour"
           }
          ],
          "mesh3d": [
           {
            "colorbar": {
             "outlinewidth": 0,
             "ticks": ""
            },
            "type": "mesh3d"
           }
          ],
          "parcoords": [
           {
            "line": {
             "colorbar": {
              "outlinewidth": 0,
              "ticks": ""
             }
            },
            "type": "parcoords"
           }
          ],
          "pie": [
           {
            "automargin": true,
            "type": "pie"
           }
          ],
          "scatter": [
           {
            "fillpattern": {
             "fillmode": "overlay",
             "size": 10,
             "solidity": 0.2
            },
            "type": "scatter"
           }
          ],
          "scatter3d": [
           {
            "line": {
             "colorbar": {
              "outlinewidth": 0,
              "ticks": ""
             }
            },
            "marker": {
             "colorbar": {
              "outlinewidth": 0,
              "ticks": ""
             }
            },
            "type": "scatter3d"
           }
          ],
          "scattercarpet": [
           {
            "marker": {
             "colorbar": {
              "outlinewidth": 0,
              "ticks": ""
             }
            },
            "type": "scattercarpet"
           }
          ],
          "scattergeo": [
           {
            "marker": {
             "colorbar": {
              "outlinewidth": 0,
              "ticks": ""
             }
            },
            "type": "scattergeo"
           }
          ],
          "scattergl": [
           {
            "marker": {
             "colorbar": {
              "outlinewidth": 0,
              "ticks": ""
             }
            },
            "type": "scattergl"
           }
          ],
          "scattermapbox": [
           {
            "marker": {
             "colorbar": {
              "outlinewidth": 0,
              "ticks": ""
             }
            },
            "type": "scattermapbox"
           }
          ],
          "scatterpolar": [
           {
            "marker": {
             "colorbar": {
              "outlinewidth": 0,
              "ticks": ""
             }
            },
            "type": "scatterpolar"
           }
          ],
          "scatterpolargl": [
           {
            "marker": {
             "colorbar": {
              "outlinewidth": 0,
              "ticks": ""
             }
            },
            "type": "scatterpolargl"
           }
          ],
          "scatterternary": [
           {
            "marker": {
             "colorbar": {
              "outlinewidth": 0,
              "ticks": ""
             }
            },
            "type": "scatterternary"
           }
          ],
          "surface": [
           {
            "colorbar": {
             "outlinewidth": 0,
             "ticks": ""
            },
            "colorscale": [
             [
              0,
              "#0d0887"
             ],
             [
              0.1111111111111111,
              "#46039f"
             ],
             [
              0.2222222222222222,
              "#7201a8"
             ],
             [
              0.3333333333333333,
              "#9c179e"
             ],
             [
              0.4444444444444444,
              "#bd3786"
             ],
             [
              0.5555555555555556,
              "#d8576b"
             ],
             [
              0.6666666666666666,
              "#ed7953"
             ],
             [
              0.7777777777777778,
              "#fb9f3a"
             ],
             [
              0.8888888888888888,
              "#fdca26"
             ],
             [
              1,
              "#f0f921"
             ]
            ],
            "type": "surface"
           }
          ],
          "table": [
           {
            "cells": {
             "fill": {
              "color": "#EBF0F8"
             },
             "line": {
              "color": "white"
             }
            },
            "header": {
             "fill": {
              "color": "#C8D4E3"
             },
             "line": {
              "color": "white"
             }
            },
            "type": "table"
           }
          ]
         },
         "layout": {
          "annotationdefaults": {
           "arrowcolor": "#2a3f5f",
           "arrowhead": 0,
           "arrowwidth": 1
          },
          "autotypenumbers": "strict",
          "coloraxis": {
           "colorbar": {
            "outlinewidth": 0,
            "ticks": ""
           }
          },
          "colorscale": {
           "diverging": [
            [
             0,
             "#8e0152"
            ],
            [
             0.1,
             "#c51b7d"
            ],
            [
             0.2,
             "#de77ae"
            ],
            [
             0.3,
             "#f1b6da"
            ],
            [
             0.4,
             "#fde0ef"
            ],
            [
             0.5,
             "#f7f7f7"
            ],
            [
             0.6,
             "#e6f5d0"
            ],
            [
             0.7,
             "#b8e186"
            ],
            [
             0.8,
             "#7fbc41"
            ],
            [
             0.9,
             "#4d9221"
            ],
            [
             1,
             "#276419"
            ]
           ],
           "sequential": [
            [
             0,
             "#0d0887"
            ],
            [
             0.1111111111111111,
             "#46039f"
            ],
            [
             0.2222222222222222,
             "#7201a8"
            ],
            [
             0.3333333333333333,
             "#9c179e"
            ],
            [
             0.4444444444444444,
             "#bd3786"
            ],
            [
             0.5555555555555556,
             "#d8576b"
            ],
            [
             0.6666666666666666,
             "#ed7953"
            ],
            [
             0.7777777777777778,
             "#fb9f3a"
            ],
            [
             0.8888888888888888,
             "#fdca26"
            ],
            [
             1,
             "#f0f921"
            ]
           ],
           "sequentialminus": [
            [
             0,
             "#0d0887"
            ],
            [
             0.1111111111111111,
             "#46039f"
            ],
            [
             0.2222222222222222,
             "#7201a8"
            ],
            [
             0.3333333333333333,
             "#9c179e"
            ],
            [
             0.4444444444444444,
             "#bd3786"
            ],
            [
             0.5555555555555556,
             "#d8576b"
            ],
            [
             0.6666666666666666,
             "#ed7953"
            ],
            [
             0.7777777777777778,
             "#fb9f3a"
            ],
            [
             0.8888888888888888,
             "#fdca26"
            ],
            [
             1,
             "#f0f921"
            ]
           ]
          },
          "colorway": [
           "#636efa",
           "#EF553B",
           "#00cc96",
           "#ab63fa",
           "#FFA15A",
           "#19d3f3",
           "#FF6692",
           "#B6E880",
           "#FF97FF",
           "#FECB52"
          ],
          "font": {
           "color": "#2a3f5f"
          },
          "geo": {
           "bgcolor": "white",
           "lakecolor": "white",
           "landcolor": "#E5ECF6",
           "showlakes": true,
           "showland": true,
           "subunitcolor": "white"
          },
          "hoverlabel": {
           "align": "left"
          },
          "hovermode": "closest",
          "mapbox": {
           "style": "light"
          },
          "paper_bgcolor": "white",
          "plot_bgcolor": "#E5ECF6",
          "polar": {
           "angularaxis": {
            "gridcolor": "white",
            "linecolor": "white",
            "ticks": ""
           },
           "bgcolor": "#E5ECF6",
           "radialaxis": {
            "gridcolor": "white",
            "linecolor": "white",
            "ticks": ""
           }
          },
          "scene": {
           "xaxis": {
            "backgroundcolor": "#E5ECF6",
            "gridcolor": "white",
            "gridwidth": 2,
            "linecolor": "white",
            "showbackground": true,
            "ticks": "",
            "zerolinecolor": "white"
           },
           "yaxis": {
            "backgroundcolor": "#E5ECF6",
            "gridcolor": "white",
            "gridwidth": 2,
            "linecolor": "white",
            "showbackground": true,
            "ticks": "",
            "zerolinecolor": "white"
           },
           "zaxis": {
            "backgroundcolor": "#E5ECF6",
            "gridcolor": "white",
            "gridwidth": 2,
            "linecolor": "white",
            "showbackground": true,
            "ticks": "",
            "zerolinecolor": "white"
           }
          },
          "shapedefaults": {
           "line": {
            "color": "#2a3f5f"
           }
          },
          "ternary": {
           "aaxis": {
            "gridcolor": "white",
            "linecolor": "white",
            "ticks": ""
           },
           "baxis": {
            "gridcolor": "white",
            "linecolor": "white",
            "ticks": ""
           },
           "bgcolor": "#E5ECF6",
           "caxis": {
            "gridcolor": "white",
            "linecolor": "white",
            "ticks": ""
           }
          },
          "title": {
           "x": 0.05
          },
          "xaxis": {
           "automargin": true,
           "gridcolor": "white",
           "linecolor": "white",
           "ticks": "",
           "title": {
            "standoff": 15
           },
           "zerolinecolor": "white",
           "zerolinewidth": 2
          },
          "yaxis": {
           "automargin": true,
           "gridcolor": "white",
           "linecolor": "white",
           "ticks": "",
           "title": {
            "standoff": 15
           },
           "zerolinecolor": "white",
           "zerolinewidth": 2
          }
         }
        },
        "title": {
         "text": "Fishing Data Analysis: Depth and Activity by Time of Day"
        },
        "xaxis": {
         "anchor": "y",
         "domain": [
          0,
          1
         ],
         "matches": "x2",
         "showticklabels": false,
         "title": {
          "text": "Time of Day (8 AM to 8 PM)"
         }
        },
        "xaxis2": {
         "anchor": "y2",
         "domain": [
          0,
          1
         ],
         "tickmode": "array",
         "ticktext": [
          "8AM",
          "9AM",
          "10AM",
          "11AM",
          "12PM",
          "1PM",
          "2PM",
          "3PM",
          "4PM",
          "5PM"
         ],
         "tickvals": [
          "8AM",
          "9AM",
          "10AM",
          "11AM",
          "12PM",
          "1PM",
          "2PM",
          "3PM",
          "4PM",
          "5PM"
         ],
         "title": {
          "text": "Hour of the Day"
         },
         "type": "category"
        },
        "yaxis": {
         "anchor": "x",
         "domain": [
          0.55,
          1
         ],
         "title": {
          "text": "Depth (feet)"
         }
        },
        "yaxis2": {
         "anchor": "x2",
         "domain": [
          0,
          0.45
         ],
         "range": [
          0,
          14.95
         ],
         "title": {
          "text": "Number of Fish Caught"
         }
        }
       }
      }
     },
     "metadata": {},
     "output_type": "display_data"
    }
   ],
   "source": [
    "import plotly.graph_objects as go\n",
    "from plotly.subplots import make_subplots\n",
    "\n",
    "# Prepare the data\n",
    "data['hour'] = data['datetime'].dt.hour\n",
    "aggregated_data = data.groupby('hour').agg(\n",
    "    counts=('id', 'size'),\n",
    "    average_length=('length', 'mean')\n",
    ").reset_index()\n",
    "\n",
    "# Convert 24-hour to 12-hour format\n",
    "aggregated_data['hour_12'] = aggregated_data['hour'].apply(lambda x: f\"{(x % 12 or 12)}{'AM' if x < 12 else 'PM'}\")\n",
    "\n",
    "# Define a custom blue color scale\n",
    "blue_scale = [\n",
    "    [0.0, 'rgb(173, 216, 230)'],  # Lighter blue\n",
    "    [1.0, 'rgb(0, 0, 139)']       # Darker blue\n",
    "]\n",
    "\n",
    "# Create the subplot figure\n",
    "fig = make_subplots(rows=2, cols=1, shared_xaxes=True, vertical_spacing=0.1)\n",
    "\n",
    "# Bar chart for the second row\n",
    "fig.add_trace(\n",
    "    go.Bar(\n",
    "        x=aggregated_data['hour_12'],\n",
    "        y=aggregated_data['counts'],\n",
    "        marker=dict(\n",
    "            color=aggregated_data['average_length'],  # Assign color based on average length\n",
    "            colorscale=blue_scale,  # Apply custom blue color scale\n",
    "            cmin=aggregated_data['average_length'].min(),  # Minimum value for color scaling\n",
    "            cmax=aggregated_data['average_length'].max()   # Maximum value for color scaling\n",
    "        ),\n",
    "        text=aggregated_data.apply(lambda row: f\"{row['counts']} Caught<br>Avg. Length: {row['average_length']:.2f}\\\"\", axis=1),\n",
    "        name='Fish Caught by Hour'\n",
    "    ),\n",
    "    row=2, col=1\n",
    ")\n",
    "\n",
    "# Update the bar chart trace to format text labels\n",
    "fig.update_traces(texttemplate='%{text}', textposition='outside', selector=dict(type='bar'))\n",
    "\n",
    "# Scatter plot for the first row\n",
    "fig.add_trace(\n",
    "    go.Scatter(\n",
    "        x=data['minutes_since_8AM'],\n",
    "        y=data['depth'],\n",
    "        mode='markers',\n",
    "        marker=dict(size=data['scaled_length'], color=data['depth'], showscale=False),\n",
    "        name='Depth vs. Time of Day'\n",
    "    ),\n",
    "    row=1, col=1\n",
    ")\n",
    "\n",
    "# Set categorical x-axis for the bar chart\n",
    "fig.update_xaxes(\n",
    "    title='Hour of the Day',\n",
    "    type='category',\n",
    "    tickmode='array',\n",
    "    tickvals=aggregated_data['hour_12'],\n",
    "    ticktext=aggregated_data['hour_12'],\n",
    "    row=2, col=1\n",
    ")\n",
    "\n",
    "# Set continuous x-axis for the scatter plot\n",
    "fig.update_xaxes(\n",
    "    title='Time of Day (8 AM to 8 PM)',\n",
    "    row=1, col=1\n",
    ")\n",
    "\n",
    "# Set y-axis for bar chart\n",
    "fig.update_yaxes(title='Number of Fish Caught', range=[0, aggregated_data['counts'].max() * 1.15], row=2, col=1)\n",
    "\n",
    "# Set y-axis for scatter plot\n",
    "fig.update_yaxes(title='Depth (feet)', row=1, col=1)\n",
    "\n",
    "# Update overall layout and title\n",
    "fig.update_layout(height=800, title_text=\"Fishing Data Analysis: Depth and Activity by Time of Day\")\n",
    "\n",
    "# Show plot\n",
    "fig.show()\n"
   ]
  },
  {
   "cell_type": "code",
   "execution_count": 6,
   "metadata": {},
   "outputs": [
    {
     "data": {
      "application/vnd.plotly.v1+json": {
       "config": {
        "plotlyServerURL": "https://plot.ly"
       },
       "data": [
        {
         "marker": {
          "color": [
           -10,
           -9,
           -11,
           -9.5,
           -9.5,
           -9,
           -11,
           -11,
           -13,
           -8,
           -6.5,
           -10,
           -11,
           -9,
           -12.5,
           -9,
           -11,
           -9.5,
           -13.5,
           -10,
           -10.5,
           -8.5,
           -12,
           -9.5,
           -12,
           -9.5,
           -12,
           -12,
           -11,
           -9.5,
           -9.5,
           -12,
           -10.5,
           -10.5,
           -11.5,
           -11,
           -10,
           -12.5,
           -16,
           -16,
           -9,
           -9,
           -20,
           -14,
           -11,
           -8,
           -7,
           -9,
           -7,
           -9,
           -19,
           -8.5,
           -11,
           -7,
           -12,
           -11,
           -12,
           -7,
           -7,
           -11,
           -10,
           -12
          ],
          "showscale": true,
          "size": [
           18.421052631578945,
           20,
           16.315789473684212,
           19.473684210526315,
           18.421052631578945,
           19.473684210526315,
           16.315789473684212,
           21.05263157894737,
           17.36842105263158,
           19.473684210526315,
           18.421052631578945,
           17.36842105263158,
           15.263157894736842,
           22.105263157894736,
           16.315789473684212,
           14.210526315789473,
           18.421052631578945,
           20.526315789473685,
           21.578947368421055,
           13.157894736842106,
           19.473684210526315,
           10,
           15.263157894736842,
           12.105263157894736,
           18.421052631578945,
           18.421052631578945,
           12.105263157894736,
           13.157894736842106,
           16.315789473684212,
           14.210526315789473,
           15.263157894736842,
           13.157894736842106,
           12.105263157894736,
           12.105263157894736,
           17.36842105263158,
           11.052631578947368,
           16.315789473684212,
           19.473684210526315,
           16.842105263157894,
           18.421052631578945,
           14.210526315789473,
           10,
           15.263157894736842,
           30,
           14.210526315789473,
           16.315789473684212,
           22.63157894736842,
           16.315789473684212,
           16.315789473684212,
           12.105263157894736,
           11.052631578947368,
           16.315789473684212,
           26.842105263157894,
           16.315789473684212,
           11.052631578947368,
           18.94736842105263,
           16.315789473684212,
           16.315789473684212,
           10,
           14.210526315789473,
           16.315789473684212,
           12.105263157894736
          ]
         },
         "mode": "markers",
         "name": "Depth vs. Time of Day",
         "type": "scatter",
         "x": [
          30,
          43,
          45,
          50,
          90,
          91,
          125,
          126,
          170,
          180,
          181,
          185,
          192,
          219,
          220,
          243,
          261,
          263,
          269,
          270,
          275,
          277,
          280,
          285,
          290,
          290,
          296,
          300,
          302,
          310,
          315,
          315,
          322,
          325,
          325,
          330,
          330,
          330,
          345,
          353,
          360,
          360,
          360,
          365,
          375,
          380,
          383,
          390,
          395,
          405,
          420,
          420,
          430,
          460,
          465,
          465,
          505,
          525,
          525,
          540,
          555,
          585
         ],
         "xaxis": "x",
         "y": [
          -10,
          -9,
          -11,
          -9.5,
          -9.5,
          -9,
          -11,
          -11,
          -13,
          -8,
          -6.5,
          -10,
          -11,
          -9,
          -12.5,
          -9,
          -11,
          -9.5,
          -13.5,
          -10,
          -10.5,
          -8.5,
          -12,
          -9.5,
          -12,
          -9.5,
          -12,
          -12,
          -11,
          -9.5,
          -9.5,
          -12,
          -10.5,
          -10.5,
          -11.5,
          -11,
          -10,
          -12.5,
          -16,
          -16,
          -9,
          -9,
          -20,
          -14,
          -11,
          -8,
          -7,
          -9,
          -7,
          -9,
          -19,
          -8.5,
          -11,
          -7,
          -12,
          -11,
          -12,
          -7,
          -7,
          -11,
          -10,
          -12
         ],
         "yaxis": "y"
        },
        {
         "box": {
          "visible": true
         },
         "line": {
          "color": "blue"
         },
         "name": "Depth Analysis",
         "points": "all",
         "type": "violin",
         "xaxis": "x2",
         "y": [
          -10,
          -9,
          -11,
          -9.5,
          -9.5,
          -9,
          -11,
          -11,
          -13,
          -8,
          -6.5,
          -10,
          -11,
          -9,
          -12.5,
          -9,
          -11,
          -9.5,
          -13.5,
          -10,
          -10.5,
          -8.5,
          -12,
          -9.5,
          -12,
          -9.5,
          -12,
          -12,
          -11,
          -9.5,
          -9.5,
          -12,
          -10.5,
          -10.5,
          -11.5,
          -11,
          -10,
          -12.5,
          -16,
          -16,
          -9,
          -9,
          -20,
          -14,
          -11,
          -8,
          -7,
          -9,
          -7,
          -9,
          -19,
          -8.5,
          -11,
          -7,
          -12,
          -11,
          -12,
          -7,
          -7,
          -11,
          -10,
          -12
         ],
         "yaxis": "y2"
        },
        {
         "marker": {
          "color": [
           17.0625,
           17.25,
           16.916666666666668,
           16.875,
           15.916666666666666,
           15.403846153846153,
           16.2,
           16.208333333333332,
           15,
           15
          ],
          "colorscale": [
           [
            0,
            "rgb(173, 216, 230)"
           ],
           [
            1,
            "rgb(0, 0, 139)"
           ]
          ]
         },
         "name": "Fish Caught by Hour",
         "text": [
          "4 Caught<br>Avg. Length: 17.06\"",
          "2 Caught<br>Avg. Length: 17.25\"",
          "3 Caught<br>Avg. Length: 16.92\"",
          "6 Caught<br>Avg. Length: 16.88\"",
          "12 Caught<br>Avg. Length: 15.92\"",
          "13 Caught<br>Avg. Length: 15.40\"",
          "10 Caught<br>Avg. Length: 16.20\"",
          "6 Caught<br>Avg. Length: 16.21\"",
          "3 Caught<br>Avg. Length: 15.00\"",
          "3 Caught<br>Avg. Length: 15.00\""
         ],
         "type": "bar",
         "x": [
          "8AM",
          "9AM",
          "10AM",
          "11AM",
          "12PM",
          "1PM",
          "2PM",
          "3PM",
          "4PM",
          "5PM"
         ],
         "xaxis": "x3",
         "y": [
          4,
          2,
          3,
          6,
          12,
          13,
          10,
          6,
          3,
          3
         ],
         "yaxis": "y3"
        },
        {
         "domain": {
          "x": [
           0.715,
           1
          ],
          "y": [
           0,
           0.45
          ]
         },
         "insidetextorientation": "horizontal",
         "labels": [
          "crawler",
          "leech"
         ],
         "name": "Fish Caught by Bait",
         "textinfo": "label+percent",
         "type": "pie",
         "values": [
          43,
          3
         ]
        }
       ],
       "layout": {
        "height": 800,
        "template": {
         "data": {
          "bar": [
           {
            "error_x": {
             "color": "#2a3f5f"
            },
            "error_y": {
             "color": "#2a3f5f"
            },
            "marker": {
             "line": {
              "color": "#E5ECF6",
              "width": 0.5
             },
             "pattern": {
              "fillmode": "overlay",
              "size": 10,
              "solidity": 0.2
             }
            },
            "type": "bar"
           }
          ],
          "barpolar": [
           {
            "marker": {
             "line": {
              "color": "#E5ECF6",
              "width": 0.5
             },
             "pattern": {
              "fillmode": "overlay",
              "size": 10,
              "solidity": 0.2
             }
            },
            "type": "barpolar"
           }
          ],
          "carpet": [
           {
            "aaxis": {
             "endlinecolor": "#2a3f5f",
             "gridcolor": "white",
             "linecolor": "white",
             "minorgridcolor": "white",
             "startlinecolor": "#2a3f5f"
            },
            "baxis": {
             "endlinecolor": "#2a3f5f",
             "gridcolor": "white",
             "linecolor": "white",
             "minorgridcolor": "white",
             "startlinecolor": "#2a3f5f"
            },
            "type": "carpet"
           }
          ],
          "choropleth": [
           {
            "colorbar": {
             "outlinewidth": 0,
             "ticks": ""
            },
            "type": "choropleth"
           }
          ],
          "contour": [
           {
            "colorbar": {
             "outlinewidth": 0,
             "ticks": ""
            },
            "colorscale": [
             [
              0,
              "#0d0887"
             ],
             [
              0.1111111111111111,
              "#46039f"
             ],
             [
              0.2222222222222222,
              "#7201a8"
             ],
             [
              0.3333333333333333,
              "#9c179e"
             ],
             [
              0.4444444444444444,
              "#bd3786"
             ],
             [
              0.5555555555555556,
              "#d8576b"
             ],
             [
              0.6666666666666666,
              "#ed7953"
             ],
             [
              0.7777777777777778,
              "#fb9f3a"
             ],
             [
              0.8888888888888888,
              "#fdca26"
             ],
             [
              1,
              "#f0f921"
             ]
            ],
            "type": "contour"
           }
          ],
          "contourcarpet": [
           {
            "colorbar": {
             "outlinewidth": 0,
             "ticks": ""
            },
            "type": "contourcarpet"
           }
          ],
          "heatmap": [
           {
            "colorbar": {
             "outlinewidth": 0,
             "ticks": ""
            },
            "colorscale": [
             [
              0,
              "#0d0887"
             ],
             [
              0.1111111111111111,
              "#46039f"
             ],
             [
              0.2222222222222222,
              "#7201a8"
             ],
             [
              0.3333333333333333,
              "#9c179e"
             ],
             [
              0.4444444444444444,
              "#bd3786"
             ],
             [
              0.5555555555555556,
              "#d8576b"
             ],
             [
              0.6666666666666666,
              "#ed7953"
             ],
             [
              0.7777777777777778,
              "#fb9f3a"
             ],
             [
              0.8888888888888888,
              "#fdca26"
             ],
             [
              1,
              "#f0f921"
             ]
            ],
            "type": "heatmap"
           }
          ],
          "heatmapgl": [
           {
            "colorbar": {
             "outlinewidth": 0,
             "ticks": ""
            },
            "colorscale": [
             [
              0,
              "#0d0887"
             ],
             [
              0.1111111111111111,
              "#46039f"
             ],
             [
              0.2222222222222222,
              "#7201a8"
             ],
             [
              0.3333333333333333,
              "#9c179e"
             ],
             [
              0.4444444444444444,
              "#bd3786"
             ],
             [
              0.5555555555555556,
              "#d8576b"
             ],
             [
              0.6666666666666666,
              "#ed7953"
             ],
             [
              0.7777777777777778,
              "#fb9f3a"
             ],
             [
              0.8888888888888888,
              "#fdca26"
             ],
             [
              1,
              "#f0f921"
             ]
            ],
            "type": "heatmapgl"
           }
          ],
          "histogram": [
           {
            "marker": {
             "pattern": {
              "fillmode": "overlay",
              "size": 10,
              "solidity": 0.2
             }
            },
            "type": "histogram"
           }
          ],
          "histogram2d": [
           {
            "colorbar": {
             "outlinewidth": 0,
             "ticks": ""
            },
            "colorscale": [
             [
              0,
              "#0d0887"
             ],
             [
              0.1111111111111111,
              "#46039f"
             ],
             [
              0.2222222222222222,
              "#7201a8"
             ],
             [
              0.3333333333333333,
              "#9c179e"
             ],
             [
              0.4444444444444444,
              "#bd3786"
             ],
             [
              0.5555555555555556,
              "#d8576b"
             ],
             [
              0.6666666666666666,
              "#ed7953"
             ],
             [
              0.7777777777777778,
              "#fb9f3a"
             ],
             [
              0.8888888888888888,
              "#fdca26"
             ],
             [
              1,
              "#f0f921"
             ]
            ],
            "type": "histogram2d"
           }
          ],
          "histogram2dcontour": [
           {
            "colorbar": {
             "outlinewidth": 0,
             "ticks": ""
            },
            "colorscale": [
             [
              0,
              "#0d0887"
             ],
             [
              0.1111111111111111,
              "#46039f"
             ],
             [
              0.2222222222222222,
              "#7201a8"
             ],
             [
              0.3333333333333333,
              "#9c179e"
             ],
             [
              0.4444444444444444,
              "#bd3786"
             ],
             [
              0.5555555555555556,
              "#d8576b"
             ],
             [
              0.6666666666666666,
              "#ed7953"
             ],
             [
              0.7777777777777778,
              "#fb9f3a"
             ],
             [
              0.8888888888888888,
              "#fdca26"
             ],
             [
              1,
              "#f0f921"
             ]
            ],
            "type": "histogram2dcontour"
           }
          ],
          "mesh3d": [
           {
            "colorbar": {
             "outlinewidth": 0,
             "ticks": ""
            },
            "type": "mesh3d"
           }
          ],
          "parcoords": [
           {
            "line": {
             "colorbar": {
              "outlinewidth": 0,
              "ticks": ""
             }
            },
            "type": "parcoords"
           }
          ],
          "pie": [
           {
            "automargin": true,
            "type": "pie"
           }
          ],
          "scatter": [
           {
            "fillpattern": {
             "fillmode": "overlay",
             "size": 10,
             "solidity": 0.2
            },
            "type": "scatter"
           }
          ],
          "scatter3d": [
           {
            "line": {
             "colorbar": {
              "outlinewidth": 0,
              "ticks": ""
             }
            },
            "marker": {
             "colorbar": {
              "outlinewidth": 0,
              "ticks": ""
             }
            },
            "type": "scatter3d"
           }
          ],
          "scattercarpet": [
           {
            "marker": {
             "colorbar": {
              "outlinewidth": 0,
              "ticks": ""
             }
            },
            "type": "scattercarpet"
           }
          ],
          "scattergeo": [
           {
            "marker": {
             "colorbar": {
              "outlinewidth": 0,
              "ticks": ""
             }
            },
            "type": "scattergeo"
           }
          ],
          "scattergl": [
           {
            "marker": {
             "colorbar": {
              "outlinewidth": 0,
              "ticks": ""
             }
            },
            "type": "scattergl"
           }
          ],
          "scattermapbox": [
           {
            "marker": {
             "colorbar": {
              "outlinewidth": 0,
              "ticks": ""
             }
            },
            "type": "scattermapbox"
           }
          ],
          "scatterpolar": [
           {
            "marker": {
             "colorbar": {
              "outlinewidth": 0,
              "ticks": ""
             }
            },
            "type": "scatterpolar"
           }
          ],
          "scatterpolargl": [
           {
            "marker": {
             "colorbar": {
              "outlinewidth": 0,
              "ticks": ""
             }
            },
            "type": "scatterpolargl"
           }
          ],
          "scatterternary": [
           {
            "marker": {
             "colorbar": {
              "outlinewidth": 0,
              "ticks": ""
             }
            },
            "type": "scatterternary"
           }
          ],
          "surface": [
           {
            "colorbar": {
             "outlinewidth": 0,
             "ticks": ""
            },
            "colorscale": [
             [
              0,
              "#0d0887"
             ],
             [
              0.1111111111111111,
              "#46039f"
             ],
             [
              0.2222222222222222,
              "#7201a8"
             ],
             [
              0.3333333333333333,
              "#9c179e"
             ],
             [
              0.4444444444444444,
              "#bd3786"
             ],
             [
              0.5555555555555556,
              "#d8576b"
             ],
             [
              0.6666666666666666,
              "#ed7953"
             ],
             [
              0.7777777777777778,
              "#fb9f3a"
             ],
             [
              0.8888888888888888,
              "#fdca26"
             ],
             [
              1,
              "#f0f921"
             ]
            ],
            "type": "surface"
           }
          ],
          "table": [
           {
            "cells": {
             "fill": {
              "color": "#EBF0F8"
             },
             "line": {
              "color": "white"
             }
            },
            "header": {
             "fill": {
              "color": "#C8D4E3"
             },
             "line": {
              "color": "white"
             }
            },
            "type": "table"
           }
          ]
         },
         "layout": {
          "annotationdefaults": {
           "arrowcolor": "#2a3f5f",
           "arrowhead": 0,
           "arrowwidth": 1
          },
          "autotypenumbers": "strict",
          "coloraxis": {
           "colorbar": {
            "outlinewidth": 0,
            "ticks": ""
           }
          },
          "colorscale": {
           "diverging": [
            [
             0,
             "#8e0152"
            ],
            [
             0.1,
             "#c51b7d"
            ],
            [
             0.2,
             "#de77ae"
            ],
            [
             0.3,
             "#f1b6da"
            ],
            [
             0.4,
             "#fde0ef"
            ],
            [
             0.5,
             "#f7f7f7"
            ],
            [
             0.6,
             "#e6f5d0"
            ],
            [
             0.7,
             "#b8e186"
            ],
            [
             0.8,
             "#7fbc41"
            ],
            [
             0.9,
             "#4d9221"
            ],
            [
             1,
             "#276419"
            ]
           ],
           "sequential": [
            [
             0,
             "#0d0887"
            ],
            [
             0.1111111111111111,
             "#46039f"
            ],
            [
             0.2222222222222222,
             "#7201a8"
            ],
            [
             0.3333333333333333,
             "#9c179e"
            ],
            [
             0.4444444444444444,
             "#bd3786"
            ],
            [
             0.5555555555555556,
             "#d8576b"
            ],
            [
             0.6666666666666666,
             "#ed7953"
            ],
            [
             0.7777777777777778,
             "#fb9f3a"
            ],
            [
             0.8888888888888888,
             "#fdca26"
            ],
            [
             1,
             "#f0f921"
            ]
           ],
           "sequentialminus": [
            [
             0,
             "#0d0887"
            ],
            [
             0.1111111111111111,
             "#46039f"
            ],
            [
             0.2222222222222222,
             "#7201a8"
            ],
            [
             0.3333333333333333,
             "#9c179e"
            ],
            [
             0.4444444444444444,
             "#bd3786"
            ],
            [
             0.5555555555555556,
             "#d8576b"
            ],
            [
             0.6666666666666666,
             "#ed7953"
            ],
            [
             0.7777777777777778,
             "#fb9f3a"
            ],
            [
             0.8888888888888888,
             "#fdca26"
            ],
            [
             1,
             "#f0f921"
            ]
           ]
          },
          "colorway": [
           "#636efa",
           "#EF553B",
           "#00cc96",
           "#ab63fa",
           "#FFA15A",
           "#19d3f3",
           "#FF6692",
           "#B6E880",
           "#FF97FF",
           "#FECB52"
          ],
          "font": {
           "color": "#2a3f5f"
          },
          "geo": {
           "bgcolor": "white",
           "lakecolor": "white",
           "landcolor": "#E5ECF6",
           "showlakes": true,
           "showland": true,
           "subunitcolor": "white"
          },
          "hoverlabel": {
           "align": "left"
          },
          "hovermode": "closest",
          "mapbox": {
           "style": "light"
          },
          "paper_bgcolor": "white",
          "plot_bgcolor": "#E5ECF6",
          "polar": {
           "angularaxis": {
            "gridcolor": "white",
            "linecolor": "white",
            "ticks": ""
           },
           "bgcolor": "#E5ECF6",
           "radialaxis": {
            "gridcolor": "white",
            "linecolor": "white",
            "ticks": ""
           }
          },
          "scene": {
           "xaxis": {
            "backgroundcolor": "#E5ECF6",
            "gridcolor": "white",
            "gridwidth": 2,
            "linecolor": "white",
            "showbackground": true,
            "ticks": "",
            "zerolinecolor": "white"
           },
           "yaxis": {
            "backgroundcolor": "#E5ECF6",
            "gridcolor": "white",
            "gridwidth": 2,
            "linecolor": "white",
            "showbackground": true,
            "ticks": "",
            "zerolinecolor": "white"
           },
           "zaxis": {
            "backgroundcolor": "#E5ECF6",
            "gridcolor": "white",
            "gridwidth": 2,
            "linecolor": "white",
            "showbackground": true,
            "ticks": "",
            "zerolinecolor": "white"
           }
          },
          "shapedefaults": {
           "line": {
            "color": "#2a3f5f"
           }
          },
          "ternary": {
           "aaxis": {
            "gridcolor": "white",
            "linecolor": "white",
            "ticks": ""
           },
           "baxis": {
            "gridcolor": "white",
            "linecolor": "white",
            "ticks": ""
           },
           "bgcolor": "#E5ECF6",
           "caxis": {
            "gridcolor": "white",
            "linecolor": "white",
            "ticks": ""
           }
          },
          "title": {
           "x": 0.05
          },
          "xaxis": {
           "automargin": true,
           "gridcolor": "white",
           "linecolor": "white",
           "ticks": "",
           "title": {
            "standoff": 15
           },
           "zerolinecolor": "white",
           "zerolinewidth": 2
          },
          "yaxis": {
           "automargin": true,
           "gridcolor": "white",
           "linecolor": "white",
           "ticks": "",
           "title": {
            "standoff": 15
           },
           "zerolinecolor": "white",
           "zerolinewidth": 2
          }
         }
        },
        "title": {
         "text": "Fishing Data Analysis: Depth and Activity by Time of Day"
        },
        "xaxis": {
         "anchor": "y",
         "domain": [
          0,
          0.6649999999999999
         ],
         "title": {
          "text": "Time of Day (8 AM to 8 PM)"
         }
        },
        "xaxis2": {
         "anchor": "y2",
         "domain": [
          0.715,
          1
         ]
        },
        "xaxis3": {
         "anchor": "y3",
         "domain": [
          0,
          0.6649999999999999
         ],
         "tickangle": 0,
         "tickmode": "array",
         "ticktext": [
          "8AM",
          "9AM",
          "10AM",
          "11AM",
          "12PM",
          "1PM",
          "2PM",
          "3PM",
          "4PM",
          "5PM"
         ],
         "tickvals": [
          "8AM",
          "9AM",
          "10AM",
          "11AM",
          "12PM",
          "1PM",
          "2PM",
          "3PM",
          "4PM",
          "5PM"
         ],
         "title": {
          "text": "Hour of the Day"
         }
        },
        "yaxis": {
         "anchor": "x",
         "domain": [
          0.55,
          1
         ],
         "range": [
          -22.025,
          -4.475
         ],
         "title": {
          "text": "Depth (feet)"
         }
        },
        "yaxis2": {
         "anchor": "x2",
         "domain": [
          0.55,
          1
         ],
         "range": [
          -22.025,
          -4.475
         ],
         "title": {
          "text": "Depth in Feet"
         }
        },
        "yaxis3": {
         "anchor": "x3",
         "domain": [
          0,
          0.45
         ],
         "range": [
          0,
          14.95
         ],
         "title": {
          "text": "Number of Fish Caught"
         }
        }
       }
      }
     },
     "metadata": {},
     "output_type": "display_data"
    }
   ],
   "source": [
    "import plotly.graph_objects as go\n",
    "from plotly.subplots import make_subplots\n",
    "import numpy as np\n",
    "\n",
    "# Prepare the data\n",
    "data['hour'] = data['datetime'].dt.hour\n",
    "aggregated_data = data.groupby('hour').agg(\n",
    "    counts=('id', 'size'),\n",
    "    average_length=('length', 'mean')\n",
    ").reset_index()\n",
    "\n",
    "# Convert 24-hour to 12-hour format\n",
    "aggregated_data['hour_12'] = aggregated_data['hour'].apply(lambda x: f\"{(x % 12 or 12)}{'AM' if x < 12 else 'PM'}\")\n",
    "\n",
    "# Define a custom blue color scale\n",
    "blue_scale = [\n",
    "    [0.0, 'rgb(173, 216, 230)'],  # Lighter blue\n",
    "    [1.0, 'rgb(0, 0, 139)']       # Darker blue\n",
    "]\n",
    "\n",
    "# Calculate common y-axis range with a 15% buffer for scatter and violin plots\n",
    "depth_min = data['depth'].min()\n",
    "depth_max = data['depth'].max()\n",
    "depth_range = depth_max - depth_min\n",
    "depth_buffer = depth_range * 0.15\n",
    "common_y_range = [depth_min - depth_buffer, depth_max + depth_buffer]\n",
    "\n",
    "# Calculate buffer for the histogram\n",
    "counts_max = aggregated_data['counts'].max()\n",
    "counts_buffer = counts_max * 0.15\n",
    "\n",
    "# Create the subplot figure with specified grid layout\n",
    "fig = make_subplots(\n",
    "    rows=2, cols=2,\n",
    "    column_widths=[0.7, 0.3],\n",
    "    specs=[\n",
    "        [{'type': 'scatter'}, {'type': 'violin'}],\n",
    "        [{'type': 'xy'}, {'type': 'domain'}]\n",
    "    ],\n",
    "    shared_xaxes=False,\n",
    "    vertical_spacing=0.1,\n",
    "    horizontal_spacing=0.05\n",
    ")\n",
    "\n",
    "# Scatter plot for the first row, first column\n",
    "fig.add_trace(\n",
    "    go.Scatter(\n",
    "        x=data['minutes_since_8AM'],\n",
    "        y=data['depth'],\n",
    "        mode='markers',\n",
    "        marker=dict(size=data['scaled_length'], color=data['depth'], showscale=True),\n",
    "        name='Depth vs. Time of Day'\n",
    "    ),\n",
    "    row=1, col=1\n",
    ")\n",
    "\n",
    "# Violin plot in the first row, second column\n",
    "fig.add_trace(\n",
    "    go.Violin(\n",
    "        y=data['depth'],\n",
    "        box_visible=True,\n",
    "        line_color='blue',\n",
    "        points='all',\n",
    "        name='Depth Analysis'\n",
    "    ),\n",
    "    row=1, col=2\n",
    ")\n",
    "\n",
    "# Set the same y-axis range for both the scatter and violin plots\n",
    "fig.update_yaxes(title='Depth (feet)', range=common_y_range, row=1, col=1)\n",
    "fig.update_yaxes(title='Depth in Feet', range=common_y_range, row=1, col=2)\n",
    "\n",
    "# Bar chart for the second row, first column\n",
    "fig.add_trace(\n",
    "    go.Bar(\n",
    "        x=aggregated_data['hour_12'],\n",
    "        y=aggregated_data['counts'],\n",
    "        marker=dict(\n",
    "            color=aggregated_data['average_length'],\n",
    "            colorscale=blue_scale\n",
    "        ),\n",
    "        text=aggregated_data.apply(lambda row: f\"{row['counts']} Caught<br>Avg. Length: {row['average_length']:.2f}\\\"\", axis=1),\n",
    "        name='Fish Caught by Hour'\n",
    "    ),\n",
    "    row=2, col=1\n",
    ")\n",
    "\n",
    "# Ensure the labels on the histogram are horizontal\n",
    "fig.update_xaxes(tickangle=0, tickmode='array', tickvals=aggregated_data['hour_12'], ticktext=aggregated_data['hour_12'], row=2, col=1)\n",
    "\n",
    "# Update the y-axis range for the histogram to include the buffer\n",
    "fig.update_yaxes(title='Number of Fish Caught', range=[0, counts_max + counts_buffer], row=2, col=1)\n",
    "\n",
    "# Pie chart in the second row, second column\n",
    "bait_counts = data['bait'].value_counts().reset_index()\n",
    "bait_counts.columns = ['bait', 'counts']\n",
    "fig.add_trace(\n",
    "    go.Pie(labels=bait_counts['bait'], values=bait_counts['counts'], name='Fish Caught by Bait',\n",
    "           textinfo='label+percent', insidetextorientation='horizontal'),\n",
    "    row=2, col=2\n",
    ")\n",
    "\n",
    "# Set axes titles for all plots\n",
    "fig.update_xaxes(title='Hour of the Day', row=2, col=1)\n",
    "fig.update_xaxes(title='Time of Day (8 AM to 8 PM)', row=1, col=1)\n",
    "\n",
    "# Update overall layout and title\n",
    "fig.update_layout(height=800, title_text=\"Fishing Data Analysis: Depth and Activity by Time of Day\")\n",
    "\n",
    "# Show plot\n",
    "fig.show()\n"
   ]
  },
  {
   "cell_type": "code",
   "execution_count": 7,
   "metadata": {},
   "outputs": [
    {
     "data": {
      "application/vnd.plotly.v1+json": {
       "config": {
        "plotlyServerURL": "https://plot.ly"
       },
       "data": [
        {
         "marker": {
          "color": [
           -10,
           -9,
           -11,
           -9.5,
           -9.5,
           -9,
           -11,
           -11,
           -13,
           -8,
           -6.5,
           -10,
           -11,
           -9,
           -12.5,
           -9,
           -11,
           -9.5,
           -13.5,
           -10,
           -10.5,
           -8.5,
           -12,
           -9.5,
           -12,
           -9.5,
           -12,
           -12,
           -11,
           -9.5,
           -9.5,
           -12,
           -10.5,
           -10.5,
           -11.5,
           -11,
           -10,
           -12.5,
           -16,
           -16,
           -9,
           -9,
           -20,
           -14,
           -11,
           -8,
           -7,
           -9,
           -7,
           -9,
           -19,
           -8.5,
           -11,
           -7,
           -12,
           -11,
           -12,
           -7,
           -7,
           -11,
           -10,
           -12
          ],
          "showscale": false,
          "size": [
           18.421052631578945,
           20,
           16.315789473684212,
           19.473684210526315,
           18.421052631578945,
           19.473684210526315,
           16.315789473684212,
           21.05263157894737,
           17.36842105263158,
           19.473684210526315,
           18.421052631578945,
           17.36842105263158,
           15.263157894736842,
           22.105263157894736,
           16.315789473684212,
           14.210526315789473,
           18.421052631578945,
           20.526315789473685,
           21.578947368421055,
           13.157894736842106,
           19.473684210526315,
           10,
           15.263157894736842,
           12.105263157894736,
           18.421052631578945,
           18.421052631578945,
           12.105263157894736,
           13.157894736842106,
           16.315789473684212,
           14.210526315789473,
           15.263157894736842,
           13.157894736842106,
           12.105263157894736,
           12.105263157894736,
           17.36842105263158,
           11.052631578947368,
           16.315789473684212,
           19.473684210526315,
           16.842105263157894,
           18.421052631578945,
           14.210526315789473,
           10,
           15.263157894736842,
           30,
           14.210526315789473,
           16.315789473684212,
           22.63157894736842,
           16.315789473684212,
           16.315789473684212,
           12.105263157894736,
           11.052631578947368,
           16.315789473684212,
           26.842105263157894,
           16.315789473684212,
           11.052631578947368,
           18.94736842105263,
           16.315789473684212,
           16.315789473684212,
           10,
           14.210526315789473,
           16.315789473684212,
           12.105263157894736
          ]
         },
         "mode": "markers",
         "name": "Depth vs. Time of Day",
         "type": "scatter",
         "x": [
          30,
          43,
          45,
          50,
          90,
          91,
          125,
          126,
          170,
          180,
          181,
          185,
          192,
          219,
          220,
          243,
          261,
          263,
          269,
          270,
          275,
          277,
          280,
          285,
          290,
          290,
          296,
          300,
          302,
          310,
          315,
          315,
          322,
          325,
          325,
          330,
          330,
          330,
          345,
          353,
          360,
          360,
          360,
          365,
          375,
          380,
          383,
          390,
          395,
          405,
          420,
          420,
          430,
          460,
          465,
          465,
          505,
          525,
          525,
          540,
          555,
          585
         ],
         "xaxis": "x",
         "y": [
          -10,
          -9,
          -11,
          -9.5,
          -9.5,
          -9,
          -11,
          -11,
          -13,
          -8,
          -6.5,
          -10,
          -11,
          -9,
          -12.5,
          -9,
          -11,
          -9.5,
          -13.5,
          -10,
          -10.5,
          -8.5,
          -12,
          -9.5,
          -12,
          -9.5,
          -12,
          -12,
          -11,
          -9.5,
          -9.5,
          -12,
          -10.5,
          -10.5,
          -11.5,
          -11,
          -10,
          -12.5,
          -16,
          -16,
          -9,
          -9,
          -20,
          -14,
          -11,
          -8,
          -7,
          -9,
          -7,
          -9,
          -19,
          -8.5,
          -11,
          -7,
          -12,
          -11,
          -12,
          -7,
          -7,
          -11,
          -10,
          -12
         ],
         "yaxis": "y"
        },
        {
         "box": {
          "visible": true
         },
         "line": {
          "color": "blue"
         },
         "name": "Depth Analysis",
         "points": "all",
         "type": "violin",
         "xaxis": "x2",
         "y": [
          -10,
          -9,
          -11,
          -9.5,
          -9.5,
          -9,
          -11,
          -11,
          -13,
          -8,
          -6.5,
          -10,
          -11,
          -9,
          -12.5,
          -9,
          -11,
          -9.5,
          -13.5,
          -10,
          -10.5,
          -8.5,
          -12,
          -9.5,
          -12,
          -9.5,
          -12,
          -12,
          -11,
          -9.5,
          -9.5,
          -12,
          -10.5,
          -10.5,
          -11.5,
          -11,
          -10,
          -12.5,
          -16,
          -16,
          -9,
          -9,
          -20,
          -14,
          -11,
          -8,
          -7,
          -9,
          -7,
          -9,
          -19,
          -8.5,
          -11,
          -7,
          -12,
          -11,
          -12,
          -7,
          -7,
          -11,
          -10,
          -12
         ],
         "yaxis": "y2"
        },
        {
         "marker": {
          "color": [
           17.0625,
           17.25,
           16.916666666666668,
           16.875,
           15.916666666666666,
           15.403846153846153,
           16.2,
           16.208333333333332,
           15,
           15
          ],
          "colorscale": [
           [
            0,
            "rgb(173, 216, 230)"
           ],
           [
            1,
            "rgb(0, 0, 139)"
           ]
          ]
         },
         "name": "Fish Caught by Hour",
         "text": [
          "4 Caught<br>Avg. Length: 17.06\"",
          "2 Caught<br>Avg. Length: 17.25\"",
          "3 Caught<br>Avg. Length: 16.92\"",
          "6 Caught<br>Avg. Length: 16.88\"",
          "12 Caught<br>Avg. Length: 15.92\"",
          "13 Caught<br>Avg. Length: 15.40\"",
          "10 Caught<br>Avg. Length: 16.20\"",
          "6 Caught<br>Avg. Length: 16.21\"",
          "3 Caught<br>Avg. Length: 15.00\"",
          "3 Caught<br>Avg. Length: 15.00\""
         ],
         "textposition": "outside",
         "type": "bar",
         "x": [
          "8AM",
          "9AM",
          "10AM",
          "11AM",
          "12PM",
          "1PM",
          "2PM",
          "3PM",
          "4PM",
          "5PM"
         ],
         "xaxis": "x3",
         "y": [
          4,
          2,
          3,
          6,
          12,
          13,
          10,
          6,
          3,
          3
         ],
         "yaxis": "y3"
        },
        {
         "domain": {
          "x": [
           0.715,
           1
          ],
          "y": [
           0,
           0.45
          ]
         },
         "insidetextorientation": "horizontal",
         "labels": [
          "crawler",
          "leech"
         ],
         "name": "Fish Caught by Bait",
         "textinfo": "label+percent",
         "type": "pie",
         "values": [
          43,
          3
         ]
        }
       ],
       "layout": {
        "annotations": [
         {
          "align": "left",
          "bgcolor": "white",
          "bordercolor": "black",
          "borderpad": 4,
          "font": {
           "color": "black",
           "size": 12
          },
          "showarrow": false,
          "text": "Bubble size represents size of fish",
          "x": 0.05,
          "xref": "paper",
          "y": 1,
          "yref": "paper"
         }
        ],
        "height": 800,
        "template": {
         "data": {
          "bar": [
           {
            "error_x": {
             "color": "#2a3f5f"
            },
            "error_y": {
             "color": "#2a3f5f"
            },
            "marker": {
             "line": {
              "color": "#E5ECF6",
              "width": 0.5
             },
             "pattern": {
              "fillmode": "overlay",
              "size": 10,
              "solidity": 0.2
             }
            },
            "type": "bar"
           }
          ],
          "barpolar": [
           {
            "marker": {
             "line": {
              "color": "#E5ECF6",
              "width": 0.5
             },
             "pattern": {
              "fillmode": "overlay",
              "size": 10,
              "solidity": 0.2
             }
            },
            "type": "barpolar"
           }
          ],
          "carpet": [
           {
            "aaxis": {
             "endlinecolor": "#2a3f5f",
             "gridcolor": "white",
             "linecolor": "white",
             "minorgridcolor": "white",
             "startlinecolor": "#2a3f5f"
            },
            "baxis": {
             "endlinecolor": "#2a3f5f",
             "gridcolor": "white",
             "linecolor": "white",
             "minorgridcolor": "white",
             "startlinecolor": "#2a3f5f"
            },
            "type": "carpet"
           }
          ],
          "choropleth": [
           {
            "colorbar": {
             "outlinewidth": 0,
             "ticks": ""
            },
            "type": "choropleth"
           }
          ],
          "contour": [
           {
            "colorbar": {
             "outlinewidth": 0,
             "ticks": ""
            },
            "colorscale": [
             [
              0,
              "#0d0887"
             ],
             [
              0.1111111111111111,
              "#46039f"
             ],
             [
              0.2222222222222222,
              "#7201a8"
             ],
             [
              0.3333333333333333,
              "#9c179e"
             ],
             [
              0.4444444444444444,
              "#bd3786"
             ],
             [
              0.5555555555555556,
              "#d8576b"
             ],
             [
              0.6666666666666666,
              "#ed7953"
             ],
             [
              0.7777777777777778,
              "#fb9f3a"
             ],
             [
              0.8888888888888888,
              "#fdca26"
             ],
             [
              1,
              "#f0f921"
             ]
            ],
            "type": "contour"
           }
          ],
          "contourcarpet": [
           {
            "colorbar": {
             "outlinewidth": 0,
             "ticks": ""
            },
            "type": "contourcarpet"
           }
          ],
          "heatmap": [
           {
            "colorbar": {
             "outlinewidth": 0,
             "ticks": ""
            },
            "colorscale": [
             [
              0,
              "#0d0887"
             ],
             [
              0.1111111111111111,
              "#46039f"
             ],
             [
              0.2222222222222222,
              "#7201a8"
             ],
             [
              0.3333333333333333,
              "#9c179e"
             ],
             [
              0.4444444444444444,
              "#bd3786"
             ],
             [
              0.5555555555555556,
              "#d8576b"
             ],
             [
              0.6666666666666666,
              "#ed7953"
             ],
             [
              0.7777777777777778,
              "#fb9f3a"
             ],
             [
              0.8888888888888888,
              "#fdca26"
             ],
             [
              1,
              "#f0f921"
             ]
            ],
            "type": "heatmap"
           }
          ],
          "heatmapgl": [
           {
            "colorbar": {
             "outlinewidth": 0,
             "ticks": ""
            },
            "colorscale": [
             [
              0,
              "#0d0887"
             ],
             [
              0.1111111111111111,
              "#46039f"
             ],
             [
              0.2222222222222222,
              "#7201a8"
             ],
             [
              0.3333333333333333,
              "#9c179e"
             ],
             [
              0.4444444444444444,
              "#bd3786"
             ],
             [
              0.5555555555555556,
              "#d8576b"
             ],
             [
              0.6666666666666666,
              "#ed7953"
             ],
             [
              0.7777777777777778,
              "#fb9f3a"
             ],
             [
              0.8888888888888888,
              "#fdca26"
             ],
             [
              1,
              "#f0f921"
             ]
            ],
            "type": "heatmapgl"
           }
          ],
          "histogram": [
           {
            "marker": {
             "pattern": {
              "fillmode": "overlay",
              "size": 10,
              "solidity": 0.2
             }
            },
            "type": "histogram"
           }
          ],
          "histogram2d": [
           {
            "colorbar": {
             "outlinewidth": 0,
             "ticks": ""
            },
            "colorscale": [
             [
              0,
              "#0d0887"
             ],
             [
              0.1111111111111111,
              "#46039f"
             ],
             [
              0.2222222222222222,
              "#7201a8"
             ],
             [
              0.3333333333333333,
              "#9c179e"
             ],
             [
              0.4444444444444444,
              "#bd3786"
             ],
             [
              0.5555555555555556,
              "#d8576b"
             ],
             [
              0.6666666666666666,
              "#ed7953"
             ],
             [
              0.7777777777777778,
              "#fb9f3a"
             ],
             [
              0.8888888888888888,
              "#fdca26"
             ],
             [
              1,
              "#f0f921"
             ]
            ],
            "type": "histogram2d"
           }
          ],
          "histogram2dcontour": [
           {
            "colorbar": {
             "outlinewidth": 0,
             "ticks": ""
            },
            "colorscale": [
             [
              0,
              "#0d0887"
             ],
             [
              0.1111111111111111,
              "#46039f"
             ],
             [
              0.2222222222222222,
              "#7201a8"
             ],
             [
              0.3333333333333333,
              "#9c179e"
             ],
             [
              0.4444444444444444,
              "#bd3786"
             ],
             [
              0.5555555555555556,
              "#d8576b"
             ],
             [
              0.6666666666666666,
              "#ed7953"
             ],
             [
              0.7777777777777778,
              "#fb9f3a"
             ],
             [
              0.8888888888888888,
              "#fdca26"
             ],
             [
              1,
              "#f0f921"
             ]
            ],
            "type": "histogram2dcontour"
           }
          ],
          "mesh3d": [
           {
            "colorbar": {
             "outlinewidth": 0,
             "ticks": ""
            },
            "type": "mesh3d"
           }
          ],
          "parcoords": [
           {
            "line": {
             "colorbar": {
              "outlinewidth": 0,
              "ticks": ""
             }
            },
            "type": "parcoords"
           }
          ],
          "pie": [
           {
            "automargin": true,
            "type": "pie"
           }
          ],
          "scatter": [
           {
            "fillpattern": {
             "fillmode": "overlay",
             "size": 10,
             "solidity": 0.2
            },
            "type": "scatter"
           }
          ],
          "scatter3d": [
           {
            "line": {
             "colorbar": {
              "outlinewidth": 0,
              "ticks": ""
             }
            },
            "marker": {
             "colorbar": {
              "outlinewidth": 0,
              "ticks": ""
             }
            },
            "type": "scatter3d"
           }
          ],
          "scattercarpet": [
           {
            "marker": {
             "colorbar": {
              "outlinewidth": 0,
              "ticks": ""
             }
            },
            "type": "scattercarpet"
           }
          ],
          "scattergeo": [
           {
            "marker": {
             "colorbar": {
              "outlinewidth": 0,
              "ticks": ""
             }
            },
            "type": "scattergeo"
           }
          ],
          "scattergl": [
           {
            "marker": {
             "colorbar": {
              "outlinewidth": 0,
              "ticks": ""
             }
            },
            "type": "scattergl"
           }
          ],
          "scattermapbox": [
           {
            "marker": {
             "colorbar": {
              "outlinewidth": 0,
              "ticks": ""
             }
            },
            "type": "scattermapbox"
           }
          ],
          "scatterpolar": [
           {
            "marker": {
             "colorbar": {
              "outlinewidth": 0,
              "ticks": ""
             }
            },
            "type": "scatterpolar"
           }
          ],
          "scatterpolargl": [
           {
            "marker": {
             "colorbar": {
              "outlinewidth": 0,
              "ticks": ""
             }
            },
            "type": "scatterpolargl"
           }
          ],
          "scatterternary": [
           {
            "marker": {
             "colorbar": {
              "outlinewidth": 0,
              "ticks": ""
             }
            },
            "type": "scatterternary"
           }
          ],
          "surface": [
           {
            "colorbar": {
             "outlinewidth": 0,
             "ticks": ""
            },
            "colorscale": [
             [
              0,
              "#0d0887"
             ],
             [
              0.1111111111111111,
              "#46039f"
             ],
             [
              0.2222222222222222,
              "#7201a8"
             ],
             [
              0.3333333333333333,
              "#9c179e"
             ],
             [
              0.4444444444444444,
              "#bd3786"
             ],
             [
              0.5555555555555556,
              "#d8576b"
             ],
             [
              0.6666666666666666,
              "#ed7953"
             ],
             [
              0.7777777777777778,
              "#fb9f3a"
             ],
             [
              0.8888888888888888,
              "#fdca26"
             ],
             [
              1,
              "#f0f921"
             ]
            ],
            "type": "surface"
           }
          ],
          "table": [
           {
            "cells": {
             "fill": {
              "color": "#EBF0F8"
             },
             "line": {
              "color": "white"
             }
            },
            "header": {
             "fill": {
              "color": "#C8D4E3"
             },
             "line": {
              "color": "white"
             }
            },
            "type": "table"
           }
          ]
         },
         "layout": {
          "annotationdefaults": {
           "arrowcolor": "#2a3f5f",
           "arrowhead": 0,
           "arrowwidth": 1
          },
          "autotypenumbers": "strict",
          "coloraxis": {
           "colorbar": {
            "outlinewidth": 0,
            "ticks": ""
           }
          },
          "colorscale": {
           "diverging": [
            [
             0,
             "#8e0152"
            ],
            [
             0.1,
             "#c51b7d"
            ],
            [
             0.2,
             "#de77ae"
            ],
            [
             0.3,
             "#f1b6da"
            ],
            [
             0.4,
             "#fde0ef"
            ],
            [
             0.5,
             "#f7f7f7"
            ],
            [
             0.6,
             "#e6f5d0"
            ],
            [
             0.7,
             "#b8e186"
            ],
            [
             0.8,
             "#7fbc41"
            ],
            [
             0.9,
             "#4d9221"
            ],
            [
             1,
             "#276419"
            ]
           ],
           "sequential": [
            [
             0,
             "#0d0887"
            ],
            [
             0.1111111111111111,
             "#46039f"
            ],
            [
             0.2222222222222222,
             "#7201a8"
            ],
            [
             0.3333333333333333,
             "#9c179e"
            ],
            [
             0.4444444444444444,
             "#bd3786"
            ],
            [
             0.5555555555555556,
             "#d8576b"
            ],
            [
             0.6666666666666666,
             "#ed7953"
            ],
            [
             0.7777777777777778,
             "#fb9f3a"
            ],
            [
             0.8888888888888888,
             "#fdca26"
            ],
            [
             1,
             "#f0f921"
            ]
           ],
           "sequentialminus": [
            [
             0,
             "#0d0887"
            ],
            [
             0.1111111111111111,
             "#46039f"
            ],
            [
             0.2222222222222222,
             "#7201a8"
            ],
            [
             0.3333333333333333,
             "#9c179e"
            ],
            [
             0.4444444444444444,
             "#bd3786"
            ],
            [
             0.5555555555555556,
             "#d8576b"
            ],
            [
             0.6666666666666666,
             "#ed7953"
            ],
            [
             0.7777777777777778,
             "#fb9f3a"
            ],
            [
             0.8888888888888888,
             "#fdca26"
            ],
            [
             1,
             "#f0f921"
            ]
           ]
          },
          "colorway": [
           "#636efa",
           "#EF553B",
           "#00cc96",
           "#ab63fa",
           "#FFA15A",
           "#19d3f3",
           "#FF6692",
           "#B6E880",
           "#FF97FF",
           "#FECB52"
          ],
          "font": {
           "color": "#2a3f5f"
          },
          "geo": {
           "bgcolor": "white",
           "lakecolor": "white",
           "landcolor": "#E5ECF6",
           "showlakes": true,
           "showland": true,
           "subunitcolor": "white"
          },
          "hoverlabel": {
           "align": "left"
          },
          "hovermode": "closest",
          "mapbox": {
           "style": "light"
          },
          "paper_bgcolor": "white",
          "plot_bgcolor": "#E5ECF6",
          "polar": {
           "angularaxis": {
            "gridcolor": "white",
            "linecolor": "white",
            "ticks": ""
           },
           "bgcolor": "#E5ECF6",
           "radialaxis": {
            "gridcolor": "white",
            "linecolor": "white",
            "ticks": ""
           }
          },
          "scene": {
           "xaxis": {
            "backgroundcolor": "#E5ECF6",
            "gridcolor": "white",
            "gridwidth": 2,
            "linecolor": "white",
            "showbackground": true,
            "ticks": "",
            "zerolinecolor": "white"
           },
           "yaxis": {
            "backgroundcolor": "#E5ECF6",
            "gridcolor": "white",
            "gridwidth": 2,
            "linecolor": "white",
            "showbackground": true,
            "ticks": "",
            "zerolinecolor": "white"
           },
           "zaxis": {
            "backgroundcolor": "#E5ECF6",
            "gridcolor": "white",
            "gridwidth": 2,
            "linecolor": "white",
            "showbackground": true,
            "ticks": "",
            "zerolinecolor": "white"
           }
          },
          "shapedefaults": {
           "line": {
            "color": "#2a3f5f"
           }
          },
          "ternary": {
           "aaxis": {
            "gridcolor": "white",
            "linecolor": "white",
            "ticks": ""
           },
           "baxis": {
            "gridcolor": "white",
            "linecolor": "white",
            "ticks": ""
           },
           "bgcolor": "#E5ECF6",
           "caxis": {
            "gridcolor": "white",
            "linecolor": "white",
            "ticks": ""
           }
          },
          "title": {
           "x": 0.05
          },
          "xaxis": {
           "automargin": true,
           "gridcolor": "white",
           "linecolor": "white",
           "ticks": "",
           "title": {
            "standoff": 15
           },
           "zerolinecolor": "white",
           "zerolinewidth": 2
          },
          "yaxis": {
           "automargin": true,
           "gridcolor": "white",
           "linecolor": "white",
           "ticks": "",
           "title": {
            "standoff": 15
           },
           "zerolinecolor": "white",
           "zerolinewidth": 2
          }
         }
        },
        "title": {
         "text": "Fishing Data Analysis: Depth and Activity by Time of Day"
        },
        "xaxis": {
         "anchor": "y",
         "domain": [
          0,
          0.6649999999999999
         ],
         "tickmode": "array",
         "ticktext": [
          "8AM",
          "9AM",
          "10AM",
          "11AM",
          "12PM",
          "1PM",
          "2PM",
          "3PM",
          "4PM",
          "5PM"
         ],
         "tickvals": [
          0,
          60,
          120,
          180,
          240,
          300,
          360,
          420,
          480,
          540
         ],
         "title": {
          "text": "Time of Day (8 AM to 8 PM)"
         }
        },
        "xaxis2": {
         "anchor": "y2",
         "domain": [
          0.715,
          1
         ]
        },
        "xaxis3": {
         "anchor": "y3",
         "domain": [
          0,
          0.6649999999999999
         ],
         "tickangle": 0,
         "tickmode": "array",
         "ticktext": [
          "8AM",
          "9AM",
          "10AM",
          "11AM",
          "12PM",
          "1PM",
          "2PM",
          "3PM",
          "4PM",
          "5PM"
         ],
         "tickvals": [
          "8AM",
          "9AM",
          "10AM",
          "11AM",
          "12PM",
          "1PM",
          "2PM",
          "3PM",
          "4PM",
          "5PM"
         ],
         "title": {
          "text": "Hour of the Day"
         }
        },
        "yaxis": {
         "anchor": "x",
         "domain": [
          0.55,
          1
         ],
         "range": [
          -23.375,
          -3.125
         ],
         "title": {
          "text": "Depth (feet)"
         }
        },
        "yaxis2": {
         "anchor": "x2",
         "domain": [
          0.55,
          1
         ],
         "range": [
          -23.375,
          -3.125
         ],
         "title": {
          "text": "Depth in Feet"
         }
        },
        "yaxis3": {
         "anchor": "x3",
         "domain": [
          0,
          0.45
         ],
         "range": [
          0,
          14.95
         ],
         "title": {
          "text": "Number of Fish Caught"
         }
        }
       }
      }
     },
     "metadata": {},
     "output_type": "display_data"
    }
   ],
   "source": [
    "import plotly.graph_objects as go\n",
    "from plotly.subplots import make_subplots\n",
    "import numpy as np\n",
    "\n",
    "# Prepare the data\n",
    "data['hour'] = data['datetime'].dt.hour\n",
    "aggregated_data = data.groupby('hour').agg(\n",
    "    counts=('id', 'size'),\n",
    "    average_length=('length', 'mean')\n",
    ").reset_index()\n",
    "\n",
    "# Convert 24-hour to 12-hour format\n",
    "aggregated_data['hour_12'] = aggregated_data['hour'].apply(lambda x: f\"{(x % 12 or 12)}{'AM' if x < 12 else 'PM'}\")\n",
    "\n",
    "# Create an array for every hour from 8 AM to 8 PM in minutes since 8 AM\n",
    "hour_ticks = np.arange(0, 10 * 60, 60)  # Every 60 minutes for 13 hours starting from 8 AM (0 minutes)\n",
    "\n",
    "# Generate corresponding 12-hour format labels for each tick\n",
    "hour_labels = [(f\"{(hour % 12 or 12)}{'AM' if hour < 12 or hour == 24 else 'PM'}\") for hour in range(8, 18)]\n",
    "\n",
    "# Define a custom blue color scale\n",
    "blue_scale = [\n",
    "    [0.0, 'rgb(173, 216, 230)'],  # Lighter blue\n",
    "    [1.0, 'rgb(0, 0, 139)']       # Darker blue\n",
    "]\n",
    "\n",
    "# Calculate common y-axis range with a 15% buffer for scatter and violin plots\n",
    "depth_min = data['depth'].min()\n",
    "depth_max = data['depth'].max()\n",
    "depth_range = depth_max - depth_min\n",
    "depth_buffer = depth_range * 0.25\n",
    "common_y_range = [depth_min - depth_buffer, depth_max + depth_buffer]\n",
    "\n",
    "# Calculate buffer for the histogram\n",
    "counts_max = aggregated_data['counts'].max()\n",
    "counts_buffer = counts_max * 0.15\n",
    "\n",
    "# Create the subplot figure with specified grid layout\n",
    "fig = make_subplots(\n",
    "    rows=2, cols=2,\n",
    "    column_widths=[0.7, 0.3],\n",
    "    specs=[\n",
    "        [{'type': 'scatter'}, {'type': 'violin'}],  # First row: scatter and violin\n",
    "        [{'type': 'xy'}, {'type': 'domain'}]  # Second row: bar chart and pie chart\n",
    "    ],\n",
    "    shared_xaxes=False,\n",
    "    vertical_spacing=0.1,\n",
    "    horizontal_spacing=0.05\n",
    ")\n",
    "\n",
    "# Scatter plot for the first row, first column\n",
    "fig.add_trace(\n",
    "    go.Scatter(\n",
    "        x=data['minutes_since_8AM'],\n",
    "        y=data['depth'],\n",
    "        mode='markers',\n",
    "        marker=dict(\n",
    "            size=data['scaled_length'], \n",
    "            color=data['depth'], \n",
    "            showscale=False  # Hide the color scale legend\n",
    "        ),\n",
    "        name='Depth vs. Time of Day'\n",
    "    ),\n",
    "    row=1, col=1\n",
    ")\n",
    "\n",
    "fig.add_annotation(\n",
    "    text=\"Bubble size represents size of fish\",\n",
    "    xref=\"paper\", yref=\"paper\",\n",
    "    x=0.05, y=1,  # Positioning the annotation at the top left of the subplot\n",
    "    showarrow=False,\n",
    "    font=dict(size=12, color=\"black\"),\n",
    "    align=\"left\",\n",
    "    bgcolor=\"white\",\n",
    "    bordercolor=\"black\",\n",
    "    borderpad=4\n",
    ")\n",
    "\n",
    "# Violin plot in the first row, second column\n",
    "fig.add_trace(\n",
    "    go.Violin(\n",
    "        y=data['depth'],\n",
    "        box_visible=True,\n",
    "        line_color='blue',\n",
    "        points='all',\n",
    "        name='Depth Analysis'\n",
    "    ),\n",
    "    row=1, col=2\n",
    ")\n",
    "\n",
    "# Set the same y-axis range for both the scatter and violin plots\n",
    "fig.update_yaxes(title='Depth (feet)', range=common_y_range, row=1, col=1)\n",
    "fig.update_yaxes(title='Depth in Feet', range=common_y_range, row=1, col=2)\n",
    "\n",
    "\n",
    "# Bar chart for the second row, first column\n",
    "fig.add_trace(\n",
    "    go.Bar(\n",
    "        x=aggregated_data['hour_12'],\n",
    "        y=aggregated_data['counts'],\n",
    "        marker=dict(\n",
    "            color=aggregated_data['average_length'],\n",
    "            colorscale=blue_scale\n",
    "        ),\n",
    "        text=aggregated_data.apply(lambda row: f\"{row['counts']} Caught<br>Avg. Length: {row['average_length']:.2f}\\\"\", axis=1),\n",
    "        textposition='outside',  # Ensure labels are outside\n",
    "        name='Fish Caught by Hour'\n",
    "    ),\n",
    "    row=2, col=1\n",
    ")\n",
    "\n",
    "# Set tick labels to be horizontal\n",
    "fig.update_xaxes(tickangle=0, row=2, col=1)\n",
    "\n",
    "# Ensure the labels on the histogram are horizontal\n",
    "fig.update_xaxes(tickangle=0, tickmode='array', tickvals=aggregated_data['hour_12'], ticktext=aggregated_data['hour_12'], row=2, col=1)\n",
    "\n",
    "# Update the y-axis range for the histogram to include the buffer\n",
    "fig.update_yaxes(title='Number of Fish Caught', range=[0, counts_max + counts_buffer], row=2, col=1)\n",
    "\n",
    "# Set the x-axis to use 12-hour formatted labels\n",
    "fig.update_xaxes(\n",
    "    title='Time of Day (8 AM to 8 PM)',\n",
    "    tickmode='array',\n",
    "    tickvals=hour_ticks,  # Set tick positions at each hour mark\n",
    "    ticktext=hour_labels,  # Label each tick with corresponding 12-hour format\n",
    "    row=1, col=1\n",
    ")\n",
    "\n",
    "# Update x-axis for the histogram in a similar manner to maintain consistency\n",
    "fig.update_xaxes(\n",
    "    tickangle=0,\n",
    "    tickmode='array',\n",
    "    tickvals=aggregated_data['hour_12'],\n",
    "    ticktext=aggregated_data['hour_12'],\n",
    "    row=2, col=1\n",
    ")\n",
    "\n",
    "# Pie chart in the second row, second column\n",
    "bait_counts = data['bait'].value_counts().reset_index()\n",
    "bait_counts.columns = ['bait', 'counts']\n",
    "fig.add_trace(\n",
    "    go.Pie(labels=bait_counts['bait'], values=bait_counts['counts'], name='Fish Caught by Bait',\n",
    "           textinfo='label+percent', insidetextorientation='horizontal'),\n",
    "    row=2, col=2\n",
    ")\n",
    "\n",
    "# Set axes titles for all plots\n",
    "fig.update_xaxes(title='Hour of the Day', row=2, col=1)\n",
    "fig.update_xaxes(title='Time of Day (8 AM to 8 PM)', row=1, col=1)\n",
    "\n",
    "# Update overall layout and title\n",
    "fig.update_layout(height=800, title_text=\"Fishing Data Analysis: Depth and Activity by Time of Day\")\n",
    "\n",
    "# Show plot\n",
    "fig.show()\n"
   ]
  },
  {
   "cell_type": "code",
   "execution_count": 294,
   "metadata": {},
   "outputs": [
    {
     "ename": "KeyError",
     "evalue": "'scaled_length'",
     "output_type": "error",
     "traceback": [
      "\u001b[0;31m---------------------------------------------------------------------------\u001b[0m",
      "\u001b[0;31mKeyError\u001b[0m                                  Traceback (most recent call last)",
      "File \u001b[0;32m~/.local/share/virtualenvs/pocs-UJYgt0Lw/lib/python3.11/site-packages/pandas/core/indexes/base.py:3805\u001b[0m, in \u001b[0;36mIndex.get_loc\u001b[0;34m(self, key)\u001b[0m\n\u001b[1;32m   3804\u001b[0m \u001b[38;5;28;01mtry\u001b[39;00m:\n\u001b[0;32m-> 3805\u001b[0m     \u001b[38;5;28;01mreturn\u001b[39;00m \u001b[38;5;28;43mself\u001b[39;49m\u001b[38;5;241;43m.\u001b[39;49m\u001b[43m_engine\u001b[49m\u001b[38;5;241;43m.\u001b[39;49m\u001b[43mget_loc\u001b[49m\u001b[43m(\u001b[49m\u001b[43mcasted_key\u001b[49m\u001b[43m)\u001b[49m\n\u001b[1;32m   3806\u001b[0m \u001b[38;5;28;01mexcept\u001b[39;00m \u001b[38;5;167;01mKeyError\u001b[39;00m \u001b[38;5;28;01mas\u001b[39;00m err:\n",
      "File \u001b[0;32mindex.pyx:167\u001b[0m, in \u001b[0;36mpandas._libs.index.IndexEngine.get_loc\u001b[0;34m()\u001b[0m\n",
      "File \u001b[0;32mindex.pyx:196\u001b[0m, in \u001b[0;36mpandas._libs.index.IndexEngine.get_loc\u001b[0;34m()\u001b[0m\n",
      "File \u001b[0;32mpandas/_libs/hashtable_class_helper.pxi:7081\u001b[0m, in \u001b[0;36mpandas._libs.hashtable.PyObjectHashTable.get_item\u001b[0;34m()\u001b[0m\n",
      "File \u001b[0;32mpandas/_libs/hashtable_class_helper.pxi:7089\u001b[0m, in \u001b[0;36mpandas._libs.hashtable.PyObjectHashTable.get_item\u001b[0;34m()\u001b[0m\n",
      "\u001b[0;31mKeyError\u001b[0m: 'scaled_length'",
      "\nThe above exception was the direct cause of the following exception:\n",
      "\u001b[0;31mKeyError\u001b[0m                                  Traceback (most recent call last)",
      "Cell \u001b[0;32mIn[294], line 58\u001b[0m\n\u001b[1;32m     39\u001b[0m fig \u001b[38;5;241m=\u001b[39m make_subplots(\n\u001b[1;32m     40\u001b[0m     rows\u001b[38;5;241m=\u001b[39m\u001b[38;5;241m2\u001b[39m, cols\u001b[38;5;241m=\u001b[39m\u001b[38;5;241m2\u001b[39m,\n\u001b[1;32m     41\u001b[0m     column_widths\u001b[38;5;241m=\u001b[39m[\u001b[38;5;241m0.7\u001b[39m, \u001b[38;5;241m0.3\u001b[39m],\n\u001b[0;32m   (...)\u001b[0m\n\u001b[1;32m     48\u001b[0m     horizontal_spacing\u001b[38;5;241m=\u001b[39m\u001b[38;5;241m0.05\u001b[39m\n\u001b[1;32m     49\u001b[0m )\n\u001b[1;32m     51\u001b[0m \u001b[38;5;66;03m# Scatter plot for the first row, first column\u001b[39;00m\n\u001b[1;32m     52\u001b[0m fig\u001b[38;5;241m.\u001b[39madd_trace(\n\u001b[1;32m     53\u001b[0m     go\u001b[38;5;241m.\u001b[39mScatter(\n\u001b[1;32m     54\u001b[0m         x\u001b[38;5;241m=\u001b[39mdata[\u001b[38;5;124m'\u001b[39m\u001b[38;5;124mminutes_since_8AM\u001b[39m\u001b[38;5;124m'\u001b[39m],\n\u001b[1;32m     55\u001b[0m         y\u001b[38;5;241m=\u001b[39mdata[\u001b[38;5;124m'\u001b[39m\u001b[38;5;124mdepth\u001b[39m\u001b[38;5;124m'\u001b[39m],\n\u001b[1;32m     56\u001b[0m         mode\u001b[38;5;241m=\u001b[39m\u001b[38;5;124m'\u001b[39m\u001b[38;5;124mmarkers\u001b[39m\u001b[38;5;124m'\u001b[39m,\n\u001b[1;32m     57\u001b[0m         marker\u001b[38;5;241m=\u001b[39m\u001b[38;5;28mdict\u001b[39m(\n\u001b[0;32m---> 58\u001b[0m             size\u001b[38;5;241m=\u001b[39m\u001b[43mdata\u001b[49m\u001b[43m[\u001b[49m\u001b[38;5;124;43m'\u001b[39;49m\u001b[38;5;124;43mscaled_length\u001b[39;49m\u001b[38;5;124;43m'\u001b[39;49m\u001b[43m]\u001b[49m, \n\u001b[1;32m     59\u001b[0m             color\u001b[38;5;241m=\u001b[39mdata[\u001b[38;5;124m'\u001b[39m\u001b[38;5;124myear\u001b[39m\u001b[38;5;124m'\u001b[39m], \n\u001b[1;32m     60\u001b[0m             showscale\u001b[38;5;241m=\u001b[39m\u001b[38;5;28;01mFalse\u001b[39;00m  \u001b[38;5;66;03m# Hide the color scale legend\u001b[39;00m\n\u001b[1;32m     61\u001b[0m         ),\n\u001b[1;32m     62\u001b[0m         name\u001b[38;5;241m=\u001b[39m\u001b[38;5;124m'\u001b[39m\u001b[38;5;124mDepth vs. Time of Day\u001b[39m\u001b[38;5;124m'\u001b[39m\n\u001b[1;32m     63\u001b[0m     ),\n\u001b[1;32m     64\u001b[0m     row\u001b[38;5;241m=\u001b[39m\u001b[38;5;241m1\u001b[39m, col\u001b[38;5;241m=\u001b[39m\u001b[38;5;241m1\u001b[39m\n\u001b[1;32m     65\u001b[0m )\n\u001b[1;32m     67\u001b[0m fig\u001b[38;5;241m.\u001b[39madd_annotation(\n\u001b[1;32m     68\u001b[0m     text\u001b[38;5;241m=\u001b[39m\u001b[38;5;124m\"\u001b[39m\u001b[38;5;124mBubble size represents size of fish\u001b[39m\u001b[38;5;124m\"\u001b[39m,\n\u001b[1;32m     69\u001b[0m     xref\u001b[38;5;241m=\u001b[39m\u001b[38;5;124m\"\u001b[39m\u001b[38;5;124mpaper\u001b[39m\u001b[38;5;124m\"\u001b[39m, yref\u001b[38;5;241m=\u001b[39m\u001b[38;5;124m\"\u001b[39m\u001b[38;5;124mpaper\u001b[39m\u001b[38;5;124m\"\u001b[39m,\n\u001b[0;32m   (...)\u001b[0m\n\u001b[1;32m     76\u001b[0m     borderpad\u001b[38;5;241m=\u001b[39m\u001b[38;5;241m4\u001b[39m\n\u001b[1;32m     77\u001b[0m )\n\u001b[1;32m     79\u001b[0m \u001b[38;5;66;03m# Violin plot in the first row, second column\u001b[39;00m\n",
      "File \u001b[0;32m~/.local/share/virtualenvs/pocs-UJYgt0Lw/lib/python3.11/site-packages/pandas/core/frame.py:4102\u001b[0m, in \u001b[0;36mDataFrame.__getitem__\u001b[0;34m(self, key)\u001b[0m\n\u001b[1;32m   4100\u001b[0m \u001b[38;5;28;01mif\u001b[39;00m \u001b[38;5;28mself\u001b[39m\u001b[38;5;241m.\u001b[39mcolumns\u001b[38;5;241m.\u001b[39mnlevels \u001b[38;5;241m>\u001b[39m \u001b[38;5;241m1\u001b[39m:\n\u001b[1;32m   4101\u001b[0m     \u001b[38;5;28;01mreturn\u001b[39;00m \u001b[38;5;28mself\u001b[39m\u001b[38;5;241m.\u001b[39m_getitem_multilevel(key)\n\u001b[0;32m-> 4102\u001b[0m indexer \u001b[38;5;241m=\u001b[39m \u001b[38;5;28;43mself\u001b[39;49m\u001b[38;5;241;43m.\u001b[39;49m\u001b[43mcolumns\u001b[49m\u001b[38;5;241;43m.\u001b[39;49m\u001b[43mget_loc\u001b[49m\u001b[43m(\u001b[49m\u001b[43mkey\u001b[49m\u001b[43m)\u001b[49m\n\u001b[1;32m   4103\u001b[0m \u001b[38;5;28;01mif\u001b[39;00m is_integer(indexer):\n\u001b[1;32m   4104\u001b[0m     indexer \u001b[38;5;241m=\u001b[39m [indexer]\n",
      "File \u001b[0;32m~/.local/share/virtualenvs/pocs-UJYgt0Lw/lib/python3.11/site-packages/pandas/core/indexes/base.py:3812\u001b[0m, in \u001b[0;36mIndex.get_loc\u001b[0;34m(self, key)\u001b[0m\n\u001b[1;32m   3807\u001b[0m     \u001b[38;5;28;01mif\u001b[39;00m \u001b[38;5;28misinstance\u001b[39m(casted_key, \u001b[38;5;28mslice\u001b[39m) \u001b[38;5;129;01mor\u001b[39;00m (\n\u001b[1;32m   3808\u001b[0m         \u001b[38;5;28misinstance\u001b[39m(casted_key, abc\u001b[38;5;241m.\u001b[39mIterable)\n\u001b[1;32m   3809\u001b[0m         \u001b[38;5;129;01mand\u001b[39;00m \u001b[38;5;28many\u001b[39m(\u001b[38;5;28misinstance\u001b[39m(x, \u001b[38;5;28mslice\u001b[39m) \u001b[38;5;28;01mfor\u001b[39;00m x \u001b[38;5;129;01min\u001b[39;00m casted_key)\n\u001b[1;32m   3810\u001b[0m     ):\n\u001b[1;32m   3811\u001b[0m         \u001b[38;5;28;01mraise\u001b[39;00m InvalidIndexError(key)\n\u001b[0;32m-> 3812\u001b[0m     \u001b[38;5;28;01mraise\u001b[39;00m \u001b[38;5;167;01mKeyError\u001b[39;00m(key) \u001b[38;5;28;01mfrom\u001b[39;00m \u001b[38;5;21;01merr\u001b[39;00m\n\u001b[1;32m   3813\u001b[0m \u001b[38;5;28;01mexcept\u001b[39;00m \u001b[38;5;167;01mTypeError\u001b[39;00m:\n\u001b[1;32m   3814\u001b[0m     \u001b[38;5;66;03m# If we have a listlike key, _check_indexing_error will raise\u001b[39;00m\n\u001b[1;32m   3815\u001b[0m     \u001b[38;5;66;03m#  InvalidIndexError. Otherwise we fall through and re-raise\u001b[39;00m\n\u001b[1;32m   3816\u001b[0m     \u001b[38;5;66;03m#  the TypeError.\u001b[39;00m\n\u001b[1;32m   3817\u001b[0m     \u001b[38;5;28mself\u001b[39m\u001b[38;5;241m.\u001b[39m_check_indexing_error(key)\n",
      "\u001b[0;31mKeyError\u001b[0m: 'scaled_length'"
     ]
    }
   ],
   "source": [
    "import plotly.graph_objects as go\n",
    "from plotly.subplots import make_subplots\n",
    "import numpy as np\n",
    "\n",
    "# Prepare the data\n",
    "data['hour'] = data['datetime'].dt.hour\n",
    "aggregated_data = data.groupby('hour').agg(\n",
    "    counts=('id', 'size'),\n",
    "    average_length=('length', 'mean')\n",
    ").reset_index()\n",
    "\n",
    "# Convert 24-hour to 12-hour format\n",
    "aggregated_data['hour_12'] = aggregated_data['hour'].apply(lambda x: f\"{(x % 12 or 12)}{'AM' if x < 12 else 'PM'}\")\n",
    "\n",
    "# Create an array for every hour from 8 AM to 8 PM in minutes since 8 AM\n",
    "hour_ticks = np.arange(0, 10 * 60, 60)  # Every 60 minutes for 13 hours starting from 8 AM (0 minutes)\n",
    "\n",
    "# Generate corresponding 12-hour format labels for each tick\n",
    "hour_labels = [(f\"{(hour % 12 or 12)}{'AM' if hour < 12 or hour == 24 else 'PM'}\") for hour in range(8, 18)]\n",
    "\n",
    "# Define a custom blue color scale\n",
    "blue_scale = [\n",
    "    [0.0, 'rgb(173, 216, 230)'],  # Lighter blue\n",
    "    [1.0, 'rgb(0, 0, 139)']       # Darker blue\n",
    "]\n",
    "\n",
    "# Calculate common y-axis range with a 15% buffer for scatter and violin plots\n",
    "depth_min = data['depth'].min()\n",
    "depth_max = data['depth'].max()\n",
    "depth_range = depth_max - depth_min\n",
    "depth_buffer = depth_range * 0.25\n",
    "common_y_range = [depth_min - depth_buffer, depth_max + depth_buffer]\n",
    "\n",
    "# Calculate buffer for the histogram\n",
    "counts_max = aggregated_data['counts'].max()\n",
    "counts_buffer = counts_max * 0.15\n",
    "\n",
    "# Create the subplot figure with specified grid layout\n",
    "fig = make_subplots(\n",
    "    rows=2, cols=2,\n",
    "    column_widths=[0.7, 0.3],\n",
    "    specs=[\n",
    "        [{'type': 'scatter'}, {'type': 'violin'}],  # First row: scatter and violin\n",
    "        [{'type': 'xy'}, {'type': 'domain'}]  # Second row: bar chart and pie chart\n",
    "    ],\n",
    "    shared_xaxes=False,\n",
    "    vertical_spacing=0.1,\n",
    "    horizontal_spacing=0.05\n",
    ")\n",
    "\n",
    "# Scatter plot for the first row, first column\n",
    "fig.add_trace(\n",
    "    go.Scatter(\n",
    "        x=data['minutes_since_8AM'],\n",
    "        y=data['depth'],\n",
    "        mode='markers',\n",
    "        marker=dict(\n",
    "            size=data['scaled_length'], \n",
    "            color=data['year'], \n",
    "            showscale=False  # Hide the color scale legend\n",
    "        ),\n",
    "        name='Depth vs. Time of Day'\n",
    "    ),\n",
    "    row=1, col=1\n",
    ")\n",
    "\n",
    "fig.add_annotation(\n",
    "    text=\"Bubble size represents size of fish\",\n",
    "    xref=\"paper\", yref=\"paper\",\n",
    "    x=0.05, y=1,  # Positioning the annotation at the top left of the subplot\n",
    "    showarrow=False,\n",
    "    font=dict(size=12, color=\"black\"),\n",
    "    align=\"left\",\n",
    "    bgcolor=\"white\",\n",
    "    bordercolor=\"black\",\n",
    "    borderpad=4\n",
    ")\n",
    "\n",
    "# Violin plot in the first row, second column\n",
    "fig.add_trace(\n",
    "    go.Violin(\n",
    "        y=data['depth'],\n",
    "        box_visible=True,\n",
    "        line_color='blue',\n",
    "        points='all',\n",
    "        name='Depth Analysis'\n",
    "    ),\n",
    "    row=1, col=2\n",
    ")\n",
    "\n",
    "# Set the same y-axis range for both the scatter and violin plots\n",
    "fig.update_yaxes(title='Depth (feet)', range=common_y_range, row=1, col=1)\n",
    "fig.update_yaxes(title='Depth in Feet', range=common_y_range, row=1, col=2)\n",
    "\n",
    "\n",
    "# Bar chart for the second row, first column\n",
    "fig.add_trace(\n",
    "    go.Bar(\n",
    "        x=aggregated_data['hour_12'],\n",
    "        y=aggregated_data['counts'],\n",
    "        marker=dict(\n",
    "            color=aggregated_data['average_length'],\n",
    "            colorscale=blue_scale\n",
    "        ),\n",
    "        text=aggregated_data.apply(lambda row: f\"{row['counts']} Caught<br>Avg. Length: {row['average_length']:.2f}\\\"\", axis=1),\n",
    "        textposition='outside',  # Ensure labels are outside\n",
    "        name='Fish Caught by Hour'\n",
    "    ),\n",
    "    row=2, col=1\n",
    ")\n",
    "\n",
    "# Set tick labels to be horizontal\n",
    "fig.update_xaxes(tickangle=0, row=2, col=1)\n",
    "\n",
    "# Ensure the labels on the histogram are horizontal\n",
    "fig.update_xaxes(tickangle=0, tickmode='array', tickvals=aggregated_data['hour_12'], ticktext=aggregated_data['hour_12'], row=2, col=1)\n",
    "\n",
    "# Update the y-axis range for the histogram to include the buffer\n",
    "fig.update_yaxes(title='Number of Fish Caught', range=[0, counts_max + counts_buffer], row=2, col=1)\n",
    "\n",
    "# Set the x-axis to use 12-hour formatted labels\n",
    "fig.update_xaxes(\n",
    "    title='Time of Day (8 AM to 8 PM)',\n",
    "    tickmode='array',\n",
    "    tickvals=hour_ticks,  # Set tick positions at each hour mark\n",
    "    ticktext=hour_labels,  # Label each tick with corresponding 12-hour format\n",
    "    row=1, col=1\n",
    ")\n",
    "\n",
    "# Update x-axis for the histogram in a similar manner to maintain consistency\n",
    "fig.update_xaxes(\n",
    "    tickangle=0,\n",
    "    tickmode='array',\n",
    "    tickvals=aggregated_data['hour_12'],\n",
    "    ticktext=aggregated_data['hour_12'],\n",
    "    row=2, col=1\n",
    ")\n",
    "\n",
    "# Pie chart in the second row, second column\n",
    "bait_counts = data['bait'].value_counts().reset_index()\n",
    "bait_counts.columns = ['bait', 'counts']\n",
    "fig.add_trace(\n",
    "    go.Pie(labels=bait_counts['bait'], values=bait_counts['counts'], name='Fish Caught by Bait',\n",
    "           textinfo='label+percent', insidetextorientation='horizontal'),\n",
    "    row=2, col=2\n",
    ")\n",
    "\n",
    "# Set axes titles for all plots\n",
    "fig.update_xaxes(title='Hour of the Day', row=2, col=1)\n",
    "fig.update_xaxes(title='Time of Day (8 AM to 8 PM)', row=1, col=1)\n",
    "\n",
    "# Update overall layout and title\n",
    "fig.update_layout(height=800, title_text=\"Fishing Data Analysis: Depth and Activity by Time of Day\")\n",
    "\n",
    "# Show plot\n",
    "fig.show()\n"
   ]
  },
  {
   "cell_type": "code",
   "execution_count": 277,
   "metadata": {},
   "outputs": [
    {
     "data": {
      "text/html": [
       "<div>\n",
       "<style scoped>\n",
       "    .dataframe tbody tr th:only-of-type {\n",
       "        vertical-align: middle;\n",
       "    }\n",
       "\n",
       "    .dataframe tbody tr th {\n",
       "        vertical-align: top;\n",
       "    }\n",
       "\n",
       "    .dataframe thead th {\n",
       "        text-align: right;\n",
       "    }\n",
       "</style>\n",
       "<table border=\"1\" class=\"dataframe\">\n",
       "  <thead>\n",
       "    <tr style=\"text-align: right;\">\n",
       "      <th></th>\n",
       "      <th>location</th>\n",
       "      <th>counts</th>\n",
       "    </tr>\n",
       "  </thead>\n",
       "  <tbody>\n",
       "    <tr>\n",
       "      <th>2</th>\n",
       "      <td>north of south of whilock, east side</td>\n",
       "      <td>14</td>\n",
       "    </tr>\n",
       "    <tr>\n",
       "      <th>0</th>\n",
       "      <td>1 up tall prarie chicken</td>\n",
       "      <td>10</td>\n",
       "    </tr>\n",
       "    <tr>\n",
       "      <th>1</th>\n",
       "      <td>mouth of cheyenne</td>\n",
       "      <td>9</td>\n",
       "    </tr>\n",
       "    <tr>\n",
       "      <th>6</th>\n",
       "      <td>tall prarie chicken</td>\n",
       "      <td>8</td>\n",
       "    </tr>\n",
       "    <tr>\n",
       "      <th>3</th>\n",
       "      <td>pump house</td>\n",
       "      <td>3</td>\n",
       "    </tr>\n",
       "    <tr>\n",
       "      <th>4</th>\n",
       "      <td>south of whitlock</td>\n",
       "      <td>1</td>\n",
       "    </tr>\n",
       "    <tr>\n",
       "      <th>5</th>\n",
       "      <td>south side of bend</td>\n",
       "      <td>1</td>\n",
       "    </tr>\n",
       "  </tbody>\n",
       "</table>\n",
       "</div>"
      ],
      "text/plain": [
       "                               location  counts\n",
       "2  north of south of whilock, east side      14\n",
       "0              1 up tall prarie chicken      10\n",
       "1                     mouth of cheyenne       9\n",
       "6                   tall prarie chicken       8\n",
       "3                            pump house       3\n",
       "4                     south of whitlock       1\n",
       "5                    south side of bend       1"
      ]
     },
     "execution_count": 277,
     "metadata": {},
     "output_type": "execute_result"
    }
   ],
   "source": [
    "locations = data.groupby('location').size().reset_index(name='counts').sort_values('counts', ascending=False)\n",
    "\n",
    "locations"
   ]
  }
 ],
 "metadata": {
  "kernelspec": {
   "display_name": "pocs-UJYgt0Lw",
   "language": "python",
   "name": "python3"
  },
  "language_info": {
   "codemirror_mode": {
    "name": "ipython",
    "version": 3
   },
   "file_extension": ".py",
   "mimetype": "text/x-python",
   "name": "python",
   "nbconvert_exporter": "python",
   "pygments_lexer": "ipython3",
   "version": "3.11.4"
  }
 },
 "nbformat": 4,
 "nbformat_minor": 2
}
